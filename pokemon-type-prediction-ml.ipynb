{
 "cells": [
  {
   "cell_type": "markdown",
   "metadata": {},
   "source": [
    "![heading.png](heading.png)"
   ]
  },
  {
   "cell_type": "markdown",
   "metadata": {},
   "source": [
    "# Executive Summary\n",
    "\n",
    "Pokémon is a video game franchise that has existed for more than two decades now. Today, there are more than 800 Pokemon and 18 different Pokémon types, spanning 7 generations. With each new generation, dozens of Pokemons are introduced, with varying types, making it a problem for those without Pokemon knowledge to follow the franchise. As such, a machine learning approach is taken to identify a Pokemon's type, given its image.\n",
    "\n",
    "The data consists of 120 by 120 px images of the 809 Pokemon currently introduced. Each image is processed in order to extract features containing its color and size information. In doing so, we minimize the features from 43200 features to 21. Aside from the images, there is also data on the names and their respective types, which we use as targets.\n",
    "\n",
    "The analysis is done twice: one for the original data, and another undersampled to balance the data. Logistic Regression with L1 regularization is used for the original data while Linear SVM with L1 regularization is used for the balanced data due to having the highest accuracy. From the resulting models, the predictability of different Pokemon types and generations are observed.\n",
    "\n",
    "From this analysis, we observe that different combination of features lead to different accuracies, and more features does not necessarily lead to higher accuracy since some features introduce noise. \n",
    "\n",
    "The overall accuracy of the models are not worth mentioning as they range from 10% to 40% but breaking these down to the respective classes will yield accuracies ranging from 0% to 80%. This indicates that the features designed are predictive of some classes but not all.\n",
    "\n",
    "The analysis done in this project is only applied to Pokemon data but it can be applied to other datasets. The ideas and learnings obtained from this project can be useful for analysis and other machine learning problems to be encountered in the future."
   ]
  },
  {
   "cell_type": "markdown",
   "metadata": {},
   "source": [
    "\n",
    "# Table of Contents\n",
    "1. <a href='#introduction'>Introduction</a>\n",
    "2. <a href='#data'>Data Description</a>\n",
    "3. <a href='#eda'>EDA and Feature Extraction</a><br>\n",
    "    3a. <a href='#color'>Color features</a><br>\n",
    "    3b. <a href='#size'>Size features</a>\n",
    "4. <a href='#imbalanced'>Classification using imbalanced dataset</a><br>\n",
    "    4a. <a href='#imb-main'>Main type as target</a><br>\n",
    "    4b. <a href='#imb-sec'>Secondary type as target</a><br>\n",
    "    4c. <a href='#imb-sum'>Summary (Imbalanced)</a>\n",
    "5. <a href='#balanced'>Data balancing through undersampling</a><br>\n",
    "    5a. <a href='#bal-main'>Main type as target</a><br>\n",
    "    5b. <a href='#bal-sec'>Secondary type as target</a><br>\n",
    "    5c. <a href='#bal-sum'>Summary (Balanced)</a>\n",
    "6. <a href='#conclusion'>Conclusion and insights</a><br>\n",
    "<a href='#ref'>References</a><br>\n",
    "<a href='#ack'>Acknowledgements</a><br>\n",
    "<a href='#appendix'>Appendix</a><br>\n"
   ]
  },
  {
   "cell_type": "code",
   "execution_count": 222,
   "metadata": {
    "ExecuteTime": {
     "end_time": "2019-08-20T02:56:08.182208Z",
     "start_time": "2019-08-20T02:56:08.173197Z"
    }
   },
   "outputs": [
    {
     "data": {
      "text/html": [
       "<script>\n",
       "  function code_toggle() {\n",
       "    if (code_shown){\n",
       "      $('div.input').hide('500');\n",
       "      $('#toggleButton').val('Show Code')\n",
       "    } else {\n",
       "      $('div.input').show('500');\n",
       "      $('#toggleButton').val('Hide Code')\n",
       "    }\n",
       "    code_shown = !code_shown\n",
       "  }\n",
       "\n",
       "  $( document ).ready(function(){\n",
       "    code_shown=false;\n",
       "    $('div.input').hide()\n",
       "  });\n",
       "</script>\n",
       "<form action=\"javascript:code_toggle()\"><input type=\"submit\" id=\"toggleButton\" value=\"Show Code\"></form>"
      ],
      "text/plain": [
       "<IPython.core.display.HTML object>"
      ]
     },
     "execution_count": 222,
     "metadata": {},
     "output_type": "execute_result"
    }
   ],
   "source": [
    "\n",
    "from IPython.display import HTML\n",
    "\n",
    "HTML('''<script>\n",
    "  function code_toggle() {\n",
    "    if (code_shown){\n",
    "      $('div.input').hide('500');\n",
    "      $('#toggleButton').val('Show Code')\n",
    "    } else {\n",
    "      $('div.input').show('500');\n",
    "      $('#toggleButton').val('Hide Code')\n",
    "    }\n",
    "    code_shown = !code_shown\n",
    "  }\n",
    "\n",
    "  $( document ).ready(function(){\n",
    "    code_shown=false;\n",
    "    $('div.input').hide()\n",
    "  });\n",
    "</script>\n",
    "<form action=\"javascript:code_toggle()\"><input type=\"submit\" id=\"toggleButton\" value=\"Show Code\"></form>''')"
   ]
  },
  {
   "cell_type": "markdown",
   "metadata": {},
   "source": [
    "\n",
    "<a id=\"introduction\"></a>\n",
    "# Introduction\n",
    "\n",
    "**Pokémon**, short for Pocket Monsters, is a video game franchise created in 1995 but is still releasing versions up until today, with an upcoming version set to release November this year. With Pokémon expanding to other media like movies and mobile apps, it has reached the global market, even capturing those who are not the main followers of the franchise. For them, it is difficult to catch up to the system of Pokémon, particularly their type system.\n",
    "\n",
    "The type of some Pokémon can easily be identified based on their color schemes, red for fire, blue for water, green for grass, and the like. However, this is not true for all and so, other information like the presence of wings, size of the Pokemon, and the like, must also be extracted.\n",
    "\n",
    "Most image recognition processes are done through deep learning or by using the pixels of the images as features. However, processing this type of data can be computationally heavy due to the sheer number of features ($\\text{Image Dimension} \\times 3$). By reducing the number of features, we are also reducing the accuracy and the complexity at the same time, offering a cheaper way to classify images based on information like color theme and size information."
   ]
  },
  {
   "cell_type": "markdown",
   "metadata": {},
   "source": [
    "<a id=\"data\"></a>\n",
    "# Data Description\n",
    "The dataset consists of images of 809 Pokemons (all the currently released Pokemons), downloaded from Kaggle. Each image depicts the Pokemon with a white background. There are two file types for the images, JPG and PNG, with the former for Pokemons in Gen VII while PNG is the format for the rest.\n",
    "\n",
    "Aside from the images, a sheet containing the Pokemon names and their respective main and secondary types are also included in the dataset, ordered according to their National Pokedex number. To check the generation of the Pokemon, their Pokedex numbers are cross-referenced with Pokemon's wikipedia - bulbapedia.\n",
    "\n",
    "There are 18 Pokemon types, any combination of which can give the Primary and Secondary type of a Pokemon. An important thing to note is that the 18 types were only completed in Gen VI. In Gen I, there are only 15 types, with Dark and Steel introduced in Gen II and Fairy introduced in Gen VI.\n",
    "\n",
    "The csv file looks like this:"
   ]
  },
  {
   "cell_type": "code",
   "execution_count": 1,
   "metadata": {
    "ExecuteTime": {
     "end_time": "2020-08-11T15:40:10.007405Z",
     "start_time": "2020-08-11T15:40:04.850768Z"
    }
   },
   "outputs": [
    {
     "name": "stderr",
     "output_type": "stream",
     "text": [
      "C:\\Users\\Justin\\Anaconda3\\lib\\site-packages\\sklearn\\externals\\six.py:31: FutureWarning: The module is deprecated in version 0.21 and will be removed in version 0.23 since we've dropped support for Python 2.7. Please rely on the official version of six (https://pypi.org/project/six/).\n",
      "  \"(https://pypi.org/project/six/).\", FutureWarning)\n",
      "C:\\Users\\Justin\\Anaconda3\\lib\\site-packages\\sklearn\\externals\\joblib\\__init__.py:15: FutureWarning: sklearn.externals.joblib is deprecated in 0.21 and will be removed in 0.23. Please import this functionality directly from joblib, which can be installed with: pip install joblib. If this warning is raised when loading pickled models, you may need to re-serialize those models with scikit-learn 0.21+.\n",
      "  warnings.warn(msg, category=FutureWarning)\n"
     ]
    }
   ],
   "source": [
    "from sklearn.neighbors import KNeighborsClassifier\n",
    "from sklearn.neighbors import KNeighborsRegressor\n",
    "import mglearn #library provided by amueller\n",
    "import numpy as np\n",
    "%matplotlib inline\n",
    "import matplotlib.pyplot as plt\n",
    "import pandas as pd\n",
    "import numpy as np\n",
    "from sklearn import datasets\n",
    "from sklearn.neighbors import KNeighborsClassifier\n",
    "from sklearn.model_selection import cross_val_score\n",
    "from sklearn.model_selection import train_test_split\n",
    "import warnings\n",
    "warnings.filterwarnings(\"ignore\")"
   ]
  },
  {
   "cell_type": "code",
   "execution_count": 3,
   "metadata": {
    "ExecuteTime": {
     "end_time": "2020-08-11T15:40:33.943396Z",
     "start_time": "2020-08-11T15:40:33.912442Z"
    }
   },
   "outputs": [
    {
     "data": {
      "text/html": [
       "<div>\n",
       "<style scoped>\n",
       "    .dataframe tbody tr th:only-of-type {\n",
       "        vertical-align: middle;\n",
       "    }\n",
       "\n",
       "    .dataframe tbody tr th {\n",
       "        vertical-align: top;\n",
       "    }\n",
       "\n",
       "    .dataframe thead th {\n",
       "        text-align: right;\n",
       "    }\n",
       "</style>\n",
       "<table border=\"1\" class=\"dataframe\">\n",
       "  <thead>\n",
       "    <tr style=\"text-align: right;\">\n",
       "      <th></th>\n",
       "      <th>Name</th>\n",
       "      <th>Type1</th>\n",
       "      <th>Type2</th>\n",
       "    </tr>\n",
       "  </thead>\n",
       "  <tbody>\n",
       "    <tr>\n",
       "      <th>0</th>\n",
       "      <td>bulbasaur</td>\n",
       "      <td>Grass</td>\n",
       "      <td>Poison</td>\n",
       "    </tr>\n",
       "    <tr>\n",
       "      <th>1</th>\n",
       "      <td>ivysaur</td>\n",
       "      <td>Grass</td>\n",
       "      <td>Poison</td>\n",
       "    </tr>\n",
       "    <tr>\n",
       "      <th>2</th>\n",
       "      <td>venusaur</td>\n",
       "      <td>Grass</td>\n",
       "      <td>Poison</td>\n",
       "    </tr>\n",
       "    <tr>\n",
       "      <th>3</th>\n",
       "      <td>charmander</td>\n",
       "      <td>Fire</td>\n",
       "      <td>NaN</td>\n",
       "    </tr>\n",
       "    <tr>\n",
       "      <th>4</th>\n",
       "      <td>charmeleon</td>\n",
       "      <td>Fire</td>\n",
       "      <td>NaN</td>\n",
       "    </tr>\n",
       "    <tr>\n",
       "      <th>5</th>\n",
       "      <td>charizard</td>\n",
       "      <td>Fire</td>\n",
       "      <td>Flying</td>\n",
       "    </tr>\n",
       "    <tr>\n",
       "      <th>6</th>\n",
       "      <td>squirtle</td>\n",
       "      <td>Water</td>\n",
       "      <td>NaN</td>\n",
       "    </tr>\n",
       "    <tr>\n",
       "      <th>7</th>\n",
       "      <td>wartortle</td>\n",
       "      <td>Water</td>\n",
       "      <td>NaN</td>\n",
       "    </tr>\n",
       "    <tr>\n",
       "      <th>8</th>\n",
       "      <td>blastoise</td>\n",
       "      <td>Water</td>\n",
       "      <td>NaN</td>\n",
       "    </tr>\n",
       "    <tr>\n",
       "      <th>9</th>\n",
       "      <td>caterpie</td>\n",
       "      <td>Bug</td>\n",
       "      <td>NaN</td>\n",
       "    </tr>\n",
       "  </tbody>\n",
       "</table>\n",
       "</div>"
      ],
      "text/plain": [
       "         Name  Type1   Type2\n",
       "0   bulbasaur  Grass  Poison\n",
       "1     ivysaur  Grass  Poison\n",
       "2    venusaur  Grass  Poison\n",
       "3  charmander   Fire     NaN\n",
       "4  charmeleon   Fire     NaN\n",
       "5   charizard   Fire  Flying\n",
       "6    squirtle  Water     NaN\n",
       "7   wartortle  Water     NaN\n",
       "8   blastoise  Water     NaN\n",
       "9    caterpie    Bug     NaN"
      ]
     },
     "execution_count": 3,
     "metadata": {},
     "output_type": "execute_result"
    }
   ],
   "source": [
    "df = pd.read_csv('pokemon.csv')\n",
    "# df.drop('Reason for absence', axis=1, inplace=True)\n",
    "df.head(10)"
   ]
  },
  {
   "cell_type": "markdown",
   "metadata": {},
   "source": [
    "<a id=\"eda\"></a>\n",
    "# EDA and Feature extraction"
   ]
  },
  {
   "cell_type": "markdown",
   "metadata": {},
   "source": [
    "The pokemons are actually ordered by their (national) pokedex number, and so, we can get their Pokedex Number from the index. Using these Pokedex Numbers, we can infer their Generation:"
   ]
  },
  {
   "cell_type": "code",
   "execution_count": 4,
   "metadata": {
    "ExecuteTime": {
     "end_time": "2020-08-11T15:40:35.804220Z",
     "start_time": "2020-08-11T15:40:35.798186Z"
    }
   },
   "outputs": [],
   "source": [
    "df['Pokedex Number'] = df.index + 1\n",
    "df.set_index('Pokedex Number', inplace=True)"
   ]
  },
  {
   "cell_type": "code",
   "execution_count": 5,
   "metadata": {
    "ExecuteTime": {
     "end_time": "2020-08-11T15:40:36.715230Z",
     "start_time": "2020-08-11T15:40:36.695316Z"
    }
   },
   "outputs": [
    {
     "data": {
      "text/html": [
       "<div>\n",
       "<style scoped>\n",
       "    .dataframe tbody tr th:only-of-type {\n",
       "        vertical-align: middle;\n",
       "    }\n",
       "\n",
       "    .dataframe tbody tr th {\n",
       "        vertical-align: top;\n",
       "    }\n",
       "\n",
       "    .dataframe thead th {\n",
       "        text-align: right;\n",
       "    }\n",
       "</style>\n",
       "<table border=\"1\" class=\"dataframe\">\n",
       "  <thead>\n",
       "    <tr style=\"text-align: right;\">\n",
       "      <th></th>\n",
       "      <th>Name</th>\n",
       "      <th>Type1</th>\n",
       "      <th>Type2</th>\n",
       "      <th>Generation</th>\n",
       "    </tr>\n",
       "    <tr>\n",
       "      <th>Pokedex Number</th>\n",
       "      <th></th>\n",
       "      <th></th>\n",
       "      <th></th>\n",
       "      <th></th>\n",
       "    </tr>\n",
       "  </thead>\n",
       "  <tbody>\n",
       "    <tr>\n",
       "      <th>24</th>\n",
       "      <td>arbok</td>\n",
       "      <td>Poison</td>\n",
       "      <td>NaN</td>\n",
       "      <td>1.0</td>\n",
       "    </tr>\n",
       "    <tr>\n",
       "      <th>658</th>\n",
       "      <td>greninja</td>\n",
       "      <td>Water</td>\n",
       "      <td>Dark</td>\n",
       "      <td>6.0</td>\n",
       "    </tr>\n",
       "    <tr>\n",
       "      <th>217</th>\n",
       "      <td>ursaring</td>\n",
       "      <td>Normal</td>\n",
       "      <td>NaN</td>\n",
       "      <td>2.0</td>\n",
       "    </tr>\n",
       "    <tr>\n",
       "      <th>153</th>\n",
       "      <td>bayleef</td>\n",
       "      <td>Grass</td>\n",
       "      <td>NaN</td>\n",
       "      <td>2.0</td>\n",
       "    </tr>\n",
       "    <tr>\n",
       "      <th>9</th>\n",
       "      <td>blastoise</td>\n",
       "      <td>Water</td>\n",
       "      <td>NaN</td>\n",
       "      <td>1.0</td>\n",
       "    </tr>\n",
       "  </tbody>\n",
       "</table>\n",
       "</div>"
      ],
      "text/plain": [
       "                     Name   Type1 Type2  Generation\n",
       "Pokedex Number                                     \n",
       "24                  arbok  Poison   NaN         1.0\n",
       "658              greninja   Water  Dark         6.0\n",
       "217              ursaring  Normal   NaN         2.0\n",
       "153               bayleef   Grass   NaN         2.0\n",
       "9               blastoise   Water   NaN         1.0"
      ]
     },
     "execution_count": 5,
     "metadata": {},
     "output_type": "execute_result"
    }
   ],
   "source": [
    "df.loc[1:151, 'Generation'] = 1\n",
    "df.loc[152:251, 'Generation'] = 2\n",
    "df.loc[252:386, 'Generation'] = 3\n",
    "df.loc[387:493, 'Generation'] = 4\n",
    "df.loc[494:649, 'Generation'] = 5\n",
    "df.loc[650:721, 'Generation'] = 6\n",
    "df.loc[722:809, 'Generation'] = 7\n",
    "df.sample(5)"
   ]
  },
  {
   "cell_type": "code",
   "execution_count": 6,
   "metadata": {
    "ExecuteTime": {
     "end_time": "2020-08-11T15:40:37.489496Z",
     "start_time": "2020-08-11T15:40:37.487494Z"
    }
   },
   "outputs": [],
   "source": [
    "from PIL import Image\n"
   ]
  },
  {
   "cell_type": "markdown",
   "metadata": {},
   "source": [
    "<a id=\"color\"></a>\n",
    "\n",
    "## Color feature\n",
    "Possible features:\n",
    "\n",
    "    - RGB channels histogram statistical values: mode, mean, stdev"
   ]
  },
  {
   "cell_type": "markdown",
   "metadata": {},
   "source": [
    "### EDA\n",
    "\n",
    "For the pokemon images, background is transparent for PNG files so using `im_arr.sum(axis=2)>0` is effective in order to filter the background. For JPG files, the background is white, but the edge is not clear, so we perform image processing techniques to generate the mask for JPG files"
   ]
  },
  {
   "cell_type": "markdown",
   "metadata": {},
   "source": [
    "We look at the grayscale image first to filter out the edge:"
   ]
  },
  {
   "cell_type": "markdown",
   "metadata": {},
   "source": [
    "#### PNG"
   ]
  },
  {
   "cell_type": "code",
   "execution_count": 8,
   "metadata": {
    "ExecuteTime": {
     "end_time": "2020-08-11T15:42:23.689097Z",
     "start_time": "2020-08-11T15:42:22.871249Z"
    }
   },
   "outputs": [
    {
     "data": {
      "image/png": "[encoded data removed]",
      "text/plain": [
       "<Figure size 432x288 with 1 Axes>"
      ]
     },
     "metadata": {
      "needs_background": "light"
     },
     "output_type": "display_data"
    }
   ],
   "source": [
    "im = Image.open(f'images/zekrom.png').convert('LA')\n",
    "im_arr = np.array(im)\n",
    "fig, ax = plt.subplots()\n",
    "ax.hist(im_arr[im_arr.mean(axis=2)<254,0], color='gray', bins=255);\n",
    "# ax[2].hist(im_arr[im_arr.mean(axis=2)<255,2], color='b')\n"
   ]
  },
  {
   "cell_type": "markdown",
   "metadata": {},
   "source": [
    "Looking at the very high count for grayscale value of EXACTLY 0, we don't need to do any thresholding to remove the background."
   ]
  },
  {
   "cell_type": "markdown",
   "metadata": {},
   "source": [
    "#### JPG"
   ]
  },
  {
   "cell_type": "code",
   "execution_count": 9,
   "metadata": {
    "ExecuteTime": {
     "end_time": "2020-08-11T15:42:24.095974Z",
     "start_time": "2020-08-11T15:42:23.690060Z"
    }
   },
   "outputs": [
    {
     "data": {
      "image/png": "[encoded data removed]",
      "text/plain": [
       "<Figure size 432x288 with 1 Axes>"
      ]
     },
     "metadata": {
      "needs_background": "light"
     },
     "output_type": "display_data"
    }
   ],
   "source": [
    "im = Image.open(f'images/brionne.jpg').convert('LA')\n",
    "im_arr = np.array(im)[:,:,0]\n",
    "fig, ax = plt.subplots()\n",
    "ax.hist(im_arr.flatten(), color='gray', bins=255);\n",
    "# ax[2].hist(im_arr[im_arr.mean(axis=2)<255,2], color='b')\n"
   ]
  },
  {
   "cell_type": "markdown",
   "metadata": {},
   "source": [
    "The white background corresponds to the grayscale value of 255. We can check if we can completely remove the background by filtering the 255 values:\n"
   ]
  },
  {
   "cell_type": "code",
   "execution_count": 10,
   "metadata": {
    "ExecuteTime": {
     "end_time": "2020-08-11T15:42:24.320413Z",
     "start_time": "2020-08-11T15:42:24.096972Z"
    }
   },
   "outputs": [
    {
     "data": {
      "text/plain": [
       "<matplotlib.image.AxesImage at 0x154fed78708>"
      ]
     },
     "execution_count": 10,
     "metadata": {},
     "output_type": "execute_result"
    },
    {
     "data": {
      "image/png": "[encoded data removed]",
      "text/plain": [
       "<Figure size 864x576 with 2 Axes>"
      ]
     },
     "metadata": {
      "needs_background": "light"
     },
     "output_type": "display_data"
    }
   ],
   "source": [
    "fig,ax = plt.subplots(1,2, figsize=(12,8))\n",
    "ax[0].imshow(im_arr, interpolation=None)\n",
    "ax[0].set_title('Original')\n",
    "ax[1].set_title('Background vs foreground')\n",
    "ax[1].imshow(im_arr<255)"
   ]
  },
  {
   "cell_type": "markdown",
   "metadata": {},
   "source": [
    "However, when the pixels transition from background to foreground, there is an interpolation of colors, making it more difficult to filter the background. We can threshold the background instead:"
   ]
  },
  {
   "cell_type": "code",
   "execution_count": 11,
   "metadata": {
    "ExecuteTime": {
     "end_time": "2020-08-11T15:42:24.681446Z",
     "start_time": "2020-08-11T15:42:24.321372Z"
    }
   },
   "outputs": [
    {
     "data": {
      "image/png": "[encoded data removed]",
      "text/plain": [
       "<Figure size 432x288 with 1 Axes>"
      ]
     },
     "metadata": {
      "needs_background": "light"
     },
     "output_type": "display_data"
    }
   ],
   "source": [
    "im = Image.open(f'images/brionne.jpg').convert('LA')\n",
    "im_arr = np.array(im)[:,:,0]\n",
    "fig, ax = plt.subplots()\n",
    "ax.hist(im_arr[im_arr!=255], color='gray', bins=255);\n",
    "# ax[2].hist(im_arr[im_arr.mean(axis=2)<255,2], color='b')\n"
   ]
  },
  {
   "cell_type": "markdown",
   "metadata": {},
   "source": [
    "From the histogram, an appropriate threshold would be chosen by tweaking the parameters for the most difficult image to process: brionne (which is a pokemon that has alot of white elements)"
   ]
  },
  {
   "cell_type": "code",
   "execution_count": 12,
   "metadata": {
    "ExecuteTime": {
     "end_time": "2020-08-11T15:42:24.910796Z",
     "start_time": "2020-08-11T15:42:24.682408Z"
    }
   },
   "outputs": [
    {
     "data": {
      "text/plain": [
       "<matplotlib.image.AxesImage at 0x15480155388>"
      ]
     },
     "execution_count": 12,
     "metadata": {},
     "output_type": "execute_result"
    },
    {
     "data": {
      "image/png": "[encoded data removed]",
      "text/plain": [
       "<Figure size 864x576 with 2 Axes>"
      ]
     },
     "metadata": {
      "needs_background": "light"
     },
     "output_type": "display_data"
    }
   ],
   "source": [
    "fig,ax = plt.subplots(1,2, figsize=(12,8))\n",
    "ax[0].imshow(im_arr, interpolation=None)\n",
    "ax[0].set_title('Original')\n",
    "ax[1].set_title('Background vs foreground')\n",
    "ax[1].imshow(im_arr<245)"
   ]
  },
  {
   "cell_type": "markdown",
   "metadata": {},
   "source": [
    "which is better. But it leaves spaces in the foreground."
   ]
  },
  {
   "cell_type": "code",
   "execution_count": 13,
   "metadata": {
    "ExecuteTime": {
     "end_time": "2020-08-11T15:42:26.740938Z",
     "start_time": "2020-08-11T15:42:24.911794Z"
    }
   },
   "outputs": [
    {
     "data": {
      "image/png": "[encoded data removed]",
      "text/plain": [
       "<PIL.Image.Image image mode=LA size=120x120 at 0x154FECCB308>"
      ]
     },
     "execution_count": 13,
     "metadata": {},
     "output_type": "execute_result"
    },
    {
     "data": {
      "image/png": "[encoded data removed]",
      "text/plain": [
       "<Figure size 432x288 with 1 Axes>"
      ]
     },
     "metadata": {
      "needs_background": "light"
     },
     "output_type": "display_data"
    },
    {
     "data": {
      "image/png": "[encoded data removed]",
      "text/plain": [
       "<Figure size 432x288 with 1 Axes>"
      ]
     },
     "metadata": {
      "needs_background": "light"
     },
     "output_type": "display_data"
    },
    {
     "data": {
      "image/png": "[encoded data removed]",
      "text/plain": [
       "<Figure size 432x288 with 1 Axes>"
      ]
     },
     "metadata": {
      "needs_background": "light"
     },
     "output_type": "display_data"
    },
    {
     "data": {
      "text/plain": [
       "<Figure size 432x288 with 0 Axes>"
      ]
     },
     "metadata": {},
     "output_type": "display_data"
    }
   ],
   "source": [
    "from skimage.morphology import binary_closing, binary_opening\n",
    "plt.figure()\n",
    "plt.imshow(im_arr<251, cmap='gray')\n",
    "plt.axis('off')\n",
    "# plt.savefig('threshold.png', dpi=300, bbox_inches='tight')\n",
    "plt.figure()\n",
    "plt.imshow(im_arr, cmap='gray')\n",
    "plt.axis('off')\n",
    "# plt.savefig('orig.png', dpi=300, bbox_inches='tight')\n",
    "plt.figure()\n",
    "neighborhood = np.ones((5,5))\n",
    "neighborhood[0, 0] = 0\n",
    "neighborhood[0, -1] = 0\n",
    "neighborhood[-1, 0] = 0\n",
    "neighborhood[-1, -1] = 0\n",
    "mask = binary_closing(binary_opening(im_arr<251), neighborhood)\n",
    "plt.imshow(mask, cmap='gray')\n",
    "plt.axis('off')\n",
    "# plt.savefig('processed.png', dpi=300, bbox_inches='tight')\n",
    "plt.figure()\n",
    "im"
   ]
  },
  {
   "cell_type": "code",
   "execution_count": 14,
   "metadata": {
    "ExecuteTime": {
     "end_time": "2020-08-11T15:42:26.841671Z",
     "start_time": "2020-08-11T15:42:26.741901Z"
    }
   },
   "outputs": [
    {
     "data": {
      "text/plain": [
       "<matplotlib.image.AxesImage at 0x154fea85c88>"
      ]
     },
     "execution_count": 14,
     "metadata": {},
     "output_type": "execute_result"
    },
    {
     "data": {
      "image/png": "[encoded data removed]",
      "text/plain": [
       "<Figure size 432x288 with 1 Axes>"
      ]
     },
     "metadata": {
      "needs_background": "light"
     },
     "output_type": "display_data"
    }
   ],
   "source": [
    "plt.imshow(np.ma.masked_array(im_arr[:,:], (im_arr<250)), interpolation=None)"
   ]
  },
  {
   "cell_type": "code",
   "execution_count": 15,
   "metadata": {
    "ExecuteTime": {
     "end_time": "2020-08-11T15:42:26.846664Z",
     "start_time": "2020-08-11T15:42:26.843630Z"
    }
   },
   "outputs": [],
   "source": [
    "from scipy import stats"
   ]
  },
  {
   "cell_type": "markdown",
   "metadata": {},
   "source": [
    "For each color channel, we extract the following information:\n",
    "- mean\n",
    "- mode and the frequency at the mode\n",
    "- standard deviation"
   ]
  },
  {
   "cell_type": "code",
   "execution_count": 16,
   "metadata": {
    "ExecuteTime": {
     "end_time": "2020-08-11T15:42:27.071054Z",
     "start_time": "2020-08-11T15:42:26.847619Z"
    }
   },
   "outputs": [
    {
     "data": {
      "text/plain": [
       "<matplotlib.legend.Legend at 0x154fbc337c8>"
      ]
     },
     "execution_count": 16,
     "metadata": {},
     "output_type": "execute_result"
    },
    {
     "data": {
      "image/png": "[encoded data removed]",
      "text/plain": [
       "<Figure size 432x288 with 1 Axes>"
      ]
     },
     "metadata": {
      "needs_background": "light"
     },
     "output_type": "display_data"
    }
   ],
   "source": [
    "im = Image.open(f'images/pikachu.png').convert('RGBA')\n",
    "im_arr = np.array(im)\n",
    "fig, ax = plt.subplots()\n",
    "ax.hist(im_arr[im_arr.sum(axis=2)>0,2], bins=20, color='gray', alpha=0.7)\n",
    "ax.set_xlabel('Pixel value', fontsize=14)\n",
    "ax.set_ylabel('Count', fontsize=14)\n",
    "ax.axvline(im_arr[im_arr.sum(axis=2)>0, 2].mean(), color='red', ls='--', lw=3, label='Mean')\n",
    "ax.axvline(stats.mode(im_arr[im_arr.sum(axis=2)>0, 2])[0][0], color='green', ls='--', lw=3, label='Mode')\n",
    "ax.plot([im_arr[im_arr.sum(axis=2)>0, 2].mean() - im_arr[im_arr.sum(axis=2)>0, 2].std(),\n",
    "          im_arr[im_arr.sum(axis=2)>0, 2].mean() + im_arr[im_arr.sum(axis=2)>0, 2].std()], [200, 200], 'b--', lw=3, label='Standard Deviation')\n",
    "ax.spines['right'].set_visible(False)\n",
    "ax.spines['top'].set_visible(False)\n",
    "plt.legend()"
   ]
  },
  {
   "cell_type": "code",
   "execution_count": 17,
   "metadata": {
    "ExecuteTime": {
     "end_time": "2020-08-11T15:42:27.082032Z",
     "start_time": "2020-08-11T15:42:27.072026Z"
    }
   },
   "outputs": [],
   "source": [
    "from IPython.display import clear_output\n",
    "def plot_pokemon(pokemon):\n",
    "    im = Image.open(f'images/{pokemon}.PNG').convert('RGBA')\n",
    "    im_arr = np.array(im)\n",
    "    fig, ax = plt.subplots(1, 3, figsize=(16,4))\n",
    "    ax[0].hist(im_arr[im_arr.sum(axis=2)>0,0], color='r',bins=15)\n",
    "    ax[0].set_xlabel('Red Pixel Values')\n",
    "    ax[0].spines['right'].set_visible(False)\n",
    "    ax[0].spines['top'].set_visible(False)\n",
    "    ax[0].set_ylabel('Count')\n",
    "    ax[0].axis('off')\n",
    "    ax[1].hist(im_arr[im_arr.sum(axis=2)>0,1], color='g',bins=15)\n",
    "    ax[1].set_xlabel('Green Pixel Values')\n",
    "    ax[1].spines['right'].set_visible(False)\n",
    "    ax[1].spines['top'].set_visible(False)\n",
    "    ax[1].set_ylabel('Count')\n",
    "    ax[1].axis('off')\n",
    "    ax[2].hist(im_arr[im_arr.sum(axis=2)>0,2], color='b',bins=15)\n",
    "    ax[2].set_xlabel('Blue Pixel Values')\n",
    "    ax[2].spines['right'].set_visible(False)\n",
    "    ax[2].spines['top'].set_visible(False)\n",
    "    ax[2].set_ylabel('Count')\n",
    "    ax[2].axis('off')\n",
    "    ax[0].set_title(pokemon, loc='left', size=16)\n",
    "    return im_arr, ax"
   ]
  },
  {
   "cell_type": "code",
   "execution_count": 18,
   "metadata": {
    "ExecuteTime": {
     "end_time": "2020-08-11T15:42:27.278466Z",
     "start_time": "2020-08-11T15:42:27.083024Z"
    }
   },
   "outputs": [
    {
     "data": {
      "image/png": "[encoded data removed]",
      "text/plain": [
       "<Figure size 1152x288 with 3 Axes>"
      ]
     },
     "metadata": {
      "needs_background": "light"
     },
     "output_type": "display_data"
    }
   ],
   "source": [
    "plot_pokemon('bulbasaur');"
   ]
  },
  {
   "cell_type": "code",
   "execution_count": 19,
   "metadata": {
    "ExecuteTime": {
     "end_time": "2020-08-11T15:42:27.447055Z",
     "start_time": "2020-08-11T15:42:27.279488Z"
    }
   },
   "outputs": [
    {
     "data": {
      "image/png": "[encoded data removed]",
      "text/plain": [
       "<Figure size 1152x288 with 3 Axes>"
      ]
     },
     "metadata": {
      "needs_background": "light"
     },
     "output_type": "display_data"
    }
   ],
   "source": [
    "plot_pokemon('charmander');"
   ]
  },
  {
   "cell_type": "code",
   "execution_count": 20,
   "metadata": {
    "ExecuteTime": {
     "end_time": "2020-08-11T15:42:27.650506Z",
     "start_time": "2020-08-11T15:42:27.448030Z"
    }
   },
   "outputs": [
    {
     "data": {
      "image/png": "[encoded data removed]",
      "text/plain": [
       "<Figure size 1152x288 with 3 Axes>"
      ]
     },
     "metadata": {
      "needs_background": "light"
     },
     "output_type": "display_data"
    }
   ],
   "source": [
    "plot_pokemon('squirtle');"
   ]
  },
  {
   "cell_type": "code",
   "execution_count": 21,
   "metadata": {
    "ExecuteTime": {
     "end_time": "2020-08-11T15:42:27.791096Z",
     "start_time": "2020-08-11T15:42:27.651470Z"
    }
   },
   "outputs": [
    {
     "data": {
      "image/png": "[encoded data removed]",
      "text/plain": [
       "<Figure size 1152x288 with 3 Axes>"
      ]
     },
     "metadata": {
      "needs_background": "light"
     },
     "output_type": "display_data"
    }
   ],
   "source": [
    "plot_pokemon('pikachu');"
   ]
  },
  {
   "cell_type": "markdown",
   "metadata": {},
   "source": [
    "### Feature extraction\n",
    "\n",
    "For this image, we will extract different features:"
   ]
  },
  {
   "cell_type": "code",
   "execution_count": 22,
   "metadata": {
    "ExecuteTime": {
     "end_time": "2020-08-11T15:42:27.890830Z",
     "start_time": "2020-08-11T15:42:27.792094Z"
    }
   },
   "outputs": [
    {
     "data": {
      "text/plain": [
       "<matplotlib.image.AxesImage at 0x154fed41a48>"
      ]
     },
     "execution_count": 22,
     "metadata": {},
     "output_type": "execute_result"
    },
    {
     "data": {
      "image/png": "[encoded data removed]",
      "text/plain": [
       "<Figure size 432x288 with 1 Axes>"
      ]
     },
     "metadata": {
      "needs_background": "light"
     },
     "output_type": "display_data"
    }
   ],
   "source": [
    "im = Image.open(f'images/pikachu.PNG').convert('RGBA')\n",
    "im_arr = np.array(im)\n",
    "im_arr_pokemon = im_arr[im_arr.sum(axis=2)>0]\n",
    "plt.imshow(im_arr)"
   ]
  },
  {
   "cell_type": "markdown",
   "metadata": {},
   "source": [
    "#### Mean <br>(red, green, blue)"
   ]
  },
  {
   "cell_type": "code",
   "execution_count": 23,
   "metadata": {
    "ExecuteTime": {
     "end_time": "2020-08-11T15:42:27.897811Z",
     "start_time": "2020-08-11T15:42:27.891827Z"
    }
   },
   "outputs": [
    {
     "data": {
      "text/plain": [
       "(220.36327458783398, 204.3939738487777, 116.59351904491189)"
      ]
     },
     "execution_count": 23,
     "metadata": {},
     "output_type": "execute_result"
    }
   ],
   "source": [
    "def get_mean(im_arr_pokemon):\n",
    "    mean_r = im_arr_pokemon[:, 0].mean()\n",
    "    mean_g = im_arr_pokemon[:, 1].mean()\n",
    "    mean_b = im_arr_pokemon[:, 2].mean()\n",
    "    return (mean_r, mean_g, mean_b)\n",
    "get_mean(im_arr_pokemon)"
   ]
  },
  {
   "cell_type": "markdown",
   "metadata": {
    "ExecuteTime": {
     "end_time": "2019-08-13T14:54:37.828265Z",
     "start_time": "2019-08-13T14:54:37.823280Z"
    }
   },
   "source": [
    "#### Mode and Mode Frequency <br>(mode_red, mode_green, mode_blue, frequency at mode_red, frequency at mode_green, frequency at mode_blue)"
   ]
  },
  {
   "cell_type": "code",
   "execution_count": 24,
   "metadata": {
    "ExecuteTime": {
     "end_time": "2020-08-11T15:42:27.904793Z",
     "start_time": "2020-08-11T15:42:27.898809Z"
    }
   },
   "outputs": [],
   "source": [
    "from scipy import stats"
   ]
  },
  {
   "cell_type": "code",
   "execution_count": 25,
   "metadata": {
    "ExecuteTime": {
     "end_time": "2020-08-11T15:42:27.914766Z",
     "start_time": "2020-08-11T15:42:27.905790Z"
    }
   },
   "outputs": [
    {
     "data": {
      "text/plain": [
       "(255, 238, 119, 0.46219442865264354, 0.2984650369528141, 0.38828880045480385)"
      ]
     },
     "execution_count": 25,
     "metadata": {},
     "output_type": "execute_result"
    }
   ],
   "source": [
    "def get_mode_and_freq(im_arr_pokemon):\n",
    "    mode_r = stats.mode(im_arr_pokemon[:, 0])[0][0]\n",
    "    mode_g = stats.mode(im_arr_pokemon[:, 1])[0][0]\n",
    "    mode_b = stats.mode(im_arr_pokemon[:, 2])[0][0]\n",
    "    n_mode_r = (im_arr_pokemon[:, 0]==mode_r).sum() / len(im_arr_pokemon[:, 0])\n",
    "    n_mode_g = (im_arr_pokemon[:, 1]==mode_g).sum() / len(im_arr_pokemon[:, 0])\n",
    "    n_mode_b = (im_arr_pokemon[:, 2]==mode_b).sum() / len(im_arr_pokemon[:, 0])\n",
    "    return (mode_r, mode_g, mode_b, n_mode_r, n_mode_g, n_mode_b)\n",
    "get_mode_and_freq(im_arr_pokemon)"
   ]
  },
  {
   "cell_type": "markdown",
   "metadata": {},
   "source": [
    "#### Standard deviation<br>(red, green, blue)"
   ]
  },
  {
   "cell_type": "code",
   "execution_count": 26,
   "metadata": {
    "ExecuteTime": {
     "end_time": "2020-08-11T15:42:27.921748Z",
     "start_time": "2020-08-11T15:42:27.915763Z"
    }
   },
   "outputs": [
    {
     "data": {
      "text/plain": [
       "(45.50596652018251, 45.91241616382711, 37.047856871336265)"
      ]
     },
     "execution_count": 26,
     "metadata": {},
     "output_type": "execute_result"
    }
   ],
   "source": [
    "def get_std(im_arr_pokemon):\n",
    "    std_r = im_arr_pokemon[:, 0].std()\n",
    "    std_g = im_arr_pokemon[:, 1].std()\n",
    "    std_b = im_arr_pokemon[:, 2].std()\n",
    "    return (std_r, std_g, std_b)\n",
    "get_std(im_arr_pokemon)"
   ]
  },
  {
   "cell_type": "markdown",
   "metadata": {},
   "source": [
    "Now we extract the color features for all the Pokemon images."
   ]
  },
  {
   "cell_type": "code",
   "execution_count": 28,
   "metadata": {
    "ExecuteTime": {
     "end_time": "2020-08-11T15:43:21.605078Z",
     "start_time": "2020-08-11T15:43:17.852544Z"
    }
   },
   "outputs": [],
   "source": [
    "\n",
    "import re\n",
    "import os\n",
    "\n",
    "files_ = next(os.walk('images'))[2]\n",
    "png_or_jpg = dict(re.findall('(^.*)\\.(.*$)', '\\n'.join(files_), re.M))\n",
    "df_feat_color = pd.DataFrame(columns=['mean_r', 'mean_g', 'mean_b', 'mode_r', 'mode_g', 'mode_b',\n",
    "              'mode_freq_r', 'mode_freq_g', 'mode_freq_b', 'std_r', 'std_g',\n",
    "               'std_b', 'png'], index=df.index)\n",
    "\n",
    "\n",
    "neighborhood = np.ones((5,5))\n",
    "neighborhood[0, 0] = 0\n",
    "neighborhood[0, -1] = 0\n",
    "neighborhood[-1, 0] = 0\n",
    "neighborhood[-1, -1] = 0\n",
    "\n",
    "for i in df.index:\n",
    "    pokemon = df.loc[i].Name\n",
    "    im = Image.open(f'images/{pokemon}.{png_or_jpg[pokemon]}').convert('RGBA')\n",
    "    im_arr = np.array(im)\n",
    "    if png_or_jpg[pokemon]=='png':\n",
    "        mask = im_arr.sum(axis=2)>0\n",
    "    elif png_or_jpg[pokemon]=='jpg':\n",
    "        imgray = Image.open(f'images/{pokemon}.jpg').convert('LA')\n",
    "        im_gray_arr = np.array(imgray)[:,:,0]\n",
    "        mask = binary_closing(binary_opening(im_gray_arr<251), neighborhood)\n",
    "    im_arr_pokemon = im_arr[mask]\n",
    "    means = get_mean(im_arr_pokemon)\n",
    "    modes = get_mode_and_freq(im_arr_pokemon)\n",
    "    df_feat_color.loc[i] = [*means,\n",
    "                            *modes,\n",
    "                            *get_std(im_arr_pokemon),\n",
    "                            png_or_jpg[pokemon]=='png'\n",
    "                            ]\n",
    "    "
   ]
  },
  {
   "cell_type": "markdown",
   "metadata": {},
   "source": [
    "Checking the filetypes,"
   ]
  },
  {
   "cell_type": "code",
   "execution_count": 29,
   "metadata": {
    "ExecuteTime": {
     "end_time": "2020-08-11T15:43:28.857149Z",
     "start_time": "2020-08-11T15:43:28.828227Z"
    }
   },
   "outputs": [
    {
     "data": {
      "text/html": [
       "<div>\n",
       "<style scoped>\n",
       "    .dataframe tbody tr th:only-of-type {\n",
       "        vertical-align: middle;\n",
       "    }\n",
       "\n",
       "    .dataframe tbody tr th {\n",
       "        vertical-align: top;\n",
       "    }\n",
       "\n",
       "    .dataframe thead th {\n",
       "        text-align: right;\n",
       "    }\n",
       "</style>\n",
       "<table border=\"1\" class=\"dataframe\">\n",
       "  <thead>\n",
       "    <tr style=\"text-align: right;\">\n",
       "      <th></th>\n",
       "      <th>count</th>\n",
       "      <th>unique</th>\n",
       "      <th>top</th>\n",
       "      <th>freq</th>\n",
       "    </tr>\n",
       "    <tr>\n",
       "      <th>Generation</th>\n",
       "      <th></th>\n",
       "      <th></th>\n",
       "      <th></th>\n",
       "      <th></th>\n",
       "    </tr>\n",
       "  </thead>\n",
       "  <tbody>\n",
       "    <tr>\n",
       "      <th>1.0</th>\n",
       "      <td>151</td>\n",
       "      <td>1</td>\n",
       "      <td>True</td>\n",
       "      <td>151</td>\n",
       "    </tr>\n",
       "    <tr>\n",
       "      <th>2.0</th>\n",
       "      <td>100</td>\n",
       "      <td>1</td>\n",
       "      <td>True</td>\n",
       "      <td>100</td>\n",
       "    </tr>\n",
       "    <tr>\n",
       "      <th>3.0</th>\n",
       "      <td>135</td>\n",
       "      <td>1</td>\n",
       "      <td>True</td>\n",
       "      <td>135</td>\n",
       "    </tr>\n",
       "    <tr>\n",
       "      <th>4.0</th>\n",
       "      <td>107</td>\n",
       "      <td>1</td>\n",
       "      <td>True</td>\n",
       "      <td>107</td>\n",
       "    </tr>\n",
       "    <tr>\n",
       "      <th>5.0</th>\n",
       "      <td>156</td>\n",
       "      <td>1</td>\n",
       "      <td>True</td>\n",
       "      <td>156</td>\n",
       "    </tr>\n",
       "    <tr>\n",
       "      <th>6.0</th>\n",
       "      <td>72</td>\n",
       "      <td>1</td>\n",
       "      <td>True</td>\n",
       "      <td>72</td>\n",
       "    </tr>\n",
       "    <tr>\n",
       "      <th>7.0</th>\n",
       "      <td>88</td>\n",
       "      <td>1</td>\n",
       "      <td>False</td>\n",
       "      <td>88</td>\n",
       "    </tr>\n",
       "  </tbody>\n",
       "</table>\n",
       "</div>"
      ],
      "text/plain": [
       "           count unique    top freq\n",
       "Generation                         \n",
       "1.0          151      1   True  151\n",
       "2.0          100      1   True  100\n",
       "3.0          135      1   True  135\n",
       "4.0          107      1   True  107\n",
       "5.0          156      1   True  156\n",
       "6.0           72      1   True   72\n",
       "7.0           88      1  False   88"
      ]
     },
     "execution_count": 29,
     "metadata": {},
     "output_type": "execute_result"
    }
   ],
   "source": [
    "dummy = df_feat_color.copy()\n",
    "dummy['Generation'] = df['Generation']\n",
    "\n",
    "dummy.groupby('Generation')['png'].describe()"
   ]
  },
  {
   "cell_type": "markdown",
   "metadata": {},
   "source": [
    "Upon closer inspection, the images with PNG filetypes are those from Gen I to Gen VI pokemons while Gen VII pokemons have JPG filetypes."
   ]
  },
  {
   "cell_type": "code",
   "execution_count": 30,
   "metadata": {
    "ExecuteTime": {
     "end_time": "2020-08-11T15:43:29.943133Z",
     "start_time": "2020-08-11T15:43:29.931166Z"
    },
    "scrolled": false
   },
   "outputs": [
    {
     "data": {
      "text/html": [
       "<div>\n",
       "<style scoped>\n",
       "    .dataframe tbody tr th:only-of-type {\n",
       "        vertical-align: middle;\n",
       "    }\n",
       "\n",
       "    .dataframe tbody tr th {\n",
       "        vertical-align: top;\n",
       "    }\n",
       "\n",
       "    .dataframe thead th {\n",
       "        text-align: right;\n",
       "    }\n",
       "</style>\n",
       "<table border=\"1\" class=\"dataframe\">\n",
       "  <thead>\n",
       "    <tr style=\"text-align: right;\">\n",
       "      <th></th>\n",
       "      <th>mean_r</th>\n",
       "      <th>mean_g</th>\n",
       "      <th>mean_b</th>\n",
       "      <th>mode_r</th>\n",
       "      <th>mode_g</th>\n",
       "      <th>mode_b</th>\n",
       "      <th>mode_freq_r</th>\n",
       "      <th>mode_freq_g</th>\n",
       "      <th>mode_freq_b</th>\n",
       "      <th>std_r</th>\n",
       "      <th>std_g</th>\n",
       "      <th>std_b</th>\n",
       "      <th>png</th>\n",
       "    </tr>\n",
       "    <tr>\n",
       "      <th>Pokedex Number</th>\n",
       "      <th></th>\n",
       "      <th></th>\n",
       "      <th></th>\n",
       "      <th></th>\n",
       "      <th></th>\n",
       "      <th></th>\n",
       "      <th></th>\n",
       "      <th></th>\n",
       "      <th></th>\n",
       "      <th></th>\n",
       "      <th></th>\n",
       "      <th></th>\n",
       "      <th></th>\n",
       "    </tr>\n",
       "  </thead>\n",
       "  <tbody>\n",
       "    <tr>\n",
       "      <th>1</th>\n",
       "      <td>141.361</td>\n",
       "      <td>192.116</td>\n",
       "      <td>161.39</td>\n",
       "      <td>153</td>\n",
       "      <td>221</td>\n",
       "      <td>187</td>\n",
       "      <td>0.295185</td>\n",
       "      <td>0.249128</td>\n",
       "      <td>0.179344</td>\n",
       "      <td>39.0903</td>\n",
       "      <td>47.1262</td>\n",
       "      <td>44.0586</td>\n",
       "      <td>True</td>\n",
       "    </tr>\n",
       "    <tr>\n",
       "      <th>2</th>\n",
       "      <td>144.255</td>\n",
       "      <td>155.1</td>\n",
       "      <td>161.621</td>\n",
       "      <td>136</td>\n",
       "      <td>119</td>\n",
       "      <td>136</td>\n",
       "      <td>0.180596</td>\n",
       "      <td>0.185879</td>\n",
       "      <td>0.15658</td>\n",
       "      <td>68.465</td>\n",
       "      <td>56.7961</td>\n",
       "      <td>59.4548</td>\n",
       "      <td>True</td>\n",
       "    </tr>\n",
       "    <tr>\n",
       "      <th>3</th>\n",
       "      <td>145.169</td>\n",
       "      <td>175.54</td>\n",
       "      <td>169.631</td>\n",
       "      <td>153</td>\n",
       "      <td>221</td>\n",
       "      <td>238</td>\n",
       "      <td>0.239791</td>\n",
       "      <td>0.175797</td>\n",
       "      <td>0.133466</td>\n",
       "      <td>50.8307</td>\n",
       "      <td>57.3943</td>\n",
       "      <td>65.4917</td>\n",
       "      <td>True</td>\n",
       "    </tr>\n",
       "    <tr>\n",
       "      <th>4</th>\n",
       "      <td>213.607</td>\n",
       "      <td>176.345</td>\n",
       "      <td>127.693</td>\n",
       "      <td>255</td>\n",
       "      <td>187</td>\n",
       "      <td>136</td>\n",
       "      <td>0.37781</td>\n",
       "      <td>0.188542</td>\n",
       "      <td>0.195069</td>\n",
       "      <td>49.409</td>\n",
       "      <td>45.0129</td>\n",
       "      <td>46.5492</td>\n",
       "      <td>True</td>\n",
       "    </tr>\n",
       "    <tr>\n",
       "      <th>5</th>\n",
       "      <td>218.464</td>\n",
       "      <td>151.415</td>\n",
       "      <td>123.425</td>\n",
       "      <td>255</td>\n",
       "      <td>153</td>\n",
       "      <td>136</td>\n",
       "      <td>0.410642</td>\n",
       "      <td>0.161943</td>\n",
       "      <td>0.149219</td>\n",
       "      <td>43.2752</td>\n",
       "      <td>50.9202</td>\n",
       "      <td>58.7825</td>\n",
       "      <td>True</td>\n",
       "    </tr>\n",
       "  </tbody>\n",
       "</table>\n",
       "</div>"
      ],
      "text/plain": [
       "                 mean_r   mean_g   mean_b mode_r mode_g mode_b mode_freq_r  \\\n",
       "Pokedex Number                                                               \n",
       "1               141.361  192.116   161.39    153    221    187    0.295185   \n",
       "2               144.255    155.1  161.621    136    119    136    0.180596   \n",
       "3               145.169   175.54  169.631    153    221    238    0.239791   \n",
       "4               213.607  176.345  127.693    255    187    136     0.37781   \n",
       "5               218.464  151.415  123.425    255    153    136    0.410642   \n",
       "\n",
       "               mode_freq_g mode_freq_b    std_r    std_g    std_b   png  \n",
       "Pokedex Number                                                           \n",
       "1                 0.249128    0.179344  39.0903  47.1262  44.0586  True  \n",
       "2                 0.185879     0.15658   68.465  56.7961  59.4548  True  \n",
       "3                 0.175797    0.133466  50.8307  57.3943  65.4917  True  \n",
       "4                 0.188542    0.195069   49.409  45.0129  46.5492  True  \n",
       "5                 0.161943    0.149219  43.2752  50.9202  58.7825  True  "
      ]
     },
     "execution_count": 30,
     "metadata": {},
     "output_type": "execute_result"
    }
   ],
   "source": [
    "df_feat_color.head()"
   ]
  },
  {
   "cell_type": "markdown",
   "metadata": {},
   "source": [
    "After extracting the features, we look at the correlation matrix of these features"
   ]
  },
  {
   "cell_type": "code",
   "execution_count": 31,
   "metadata": {
    "ExecuteTime": {
     "end_time": "2020-08-11T15:43:30.803328Z",
     "start_time": "2020-08-11T15:43:30.798342Z"
    }
   },
   "outputs": [
    {
     "data": {
      "text/plain": [
       "Index(['mean_r', 'mean_g', 'mean_b', 'mode_r', 'mode_g', 'mode_b',\n",
       "       'mode_freq_r', 'mode_freq_g', 'mode_freq_b', 'std_r', 'std_g', 'std_b',\n",
       "       'png'],\n",
       "      dtype='object')"
      ]
     },
     "execution_count": 31,
     "metadata": {},
     "output_type": "execute_result"
    }
   ],
   "source": [
    "df_feat_color.columns"
   ]
  },
  {
   "cell_type": "code",
   "execution_count": 32,
   "metadata": {
    "ExecuteTime": {
     "end_time": "2020-08-11T15:43:31.659413Z",
     "start_time": "2020-08-11T15:43:31.238735Z"
    }
   },
   "outputs": [
    {
     "data": {
      "image/png": "[encoded data removed]",
      "text/plain": [
       "<Figure size 1008x504 with 2 Axes>"
      ]
     },
     "metadata": {
      "needs_background": "light"
     },
     "output_type": "display_data"
    }
   ],
   "source": [
    "# Compute the correlation matrix\n",
    "import seaborn as sns\n",
    "df_feat_color = df_feat_color.astype(float)\n",
    "corr = df_feat_color[df_feat_color.columns[:]].corr()\n",
    "# Generate a mask for the upper triangle\n",
    "mask = np.zeros_like(corr, dtype=np.bool)\n",
    "mask[np.triu_indices_from(mask)] = True\n",
    "# Set up the matplotlib figure\n",
    "f, ax = plt.subplots(figsize=(14, 7))\n",
    "# Generate a custom diverging colormap\n",
    "cmap = sns.diverging_palette(220, 10, as_cmap=True)\n",
    "# Draw the heatmap with the mask and correct aspect ratio\n",
    "sns.heatmap(corr, mask=mask, cmap=cmap, center=0,\n",
    "            square=True, linewidths=.5, cbar_kws={\"shrink\": .5});\n",
    "ax.axes.set_title(\"Correlation Matrix of Color Features\", fontsize=18, y=1.01);"
   ]
  },
  {
   "cell_type": "markdown",
   "metadata": {},
   "source": [
    "Note that there are heavily correlated features like mean and mode of the respective channel, which is expected since there are many instances where the mean is very close to the mode. However, the fact that it is not always the same indicates that we can still use these separate features, since machine learning techniques have ways to deal with correlation (regularization).\n",
    "\n",
    "What is unexpected here is the correlation of the RGB modes and the png to the modes. Note that the mode is very susceptible to improper foreground and background isolation. In the interest of time, we will employ the basic thresholding and morphological operations but we can make several recommendations to improve this result."
   ]
  },
  {
   "cell_type": "markdown",
   "metadata": {},
   "source": [
    "<a id=\"size\"></a>\n",
    "## Size feature\n",
    "\n",
    "Aside from the colors, we can also extract the sizes through pixels since the images share the same dimensions (120 by 120). Though the sizes proportions among the pokemons are not exactly scaled appropriately, there is still a difference in the sizes, which we can use as features"
   ]
  },
  {
   "cell_type": "markdown",
   "metadata": {},
   "source": [
    "### EDA\n",
    "Comparing two Pokemons with significantly different size and shape,"
   ]
  },
  {
   "cell_type": "code",
   "execution_count": 59,
   "metadata": {
    "ExecuteTime": {
     "end_time": "2020-08-11T15:52:26.890029Z",
     "start_time": "2020-08-11T15:52:26.880056Z"
    }
   },
   "outputs": [],
   "source": [
    "im_large = Image.open('images/guzzlord.jpg').convert('RGBA')\n",
    "im_arr_large = np.array(im_large)\n",
    "\n",
    "imgray = Image.open(f'images/guzzlord.jpg').convert('LA')\n",
    "im_gray_arr = np.array(imgray)[:,:,0]\n",
    "mask_large = binary_closing(binary_opening(im_gray_arr<251), neighborhood)\n",
    "\n",
    "im_small = Image.open('images/wingull.png').convert('RGBA')\n",
    "im_arr_small = np.array(im_small)\n",
    "mask_small = im_arr_small.sum(axis=2)>0"
   ]
  },
  {
   "cell_type": "code",
   "execution_count": 60,
   "metadata": {
    "ExecuteTime": {
     "end_time": "2020-08-11T15:52:28.888489Z",
     "start_time": "2020-08-11T15:52:28.687565Z"
    }
   },
   "outputs": [
    {
     "data": {
      "text/plain": [
       "<matplotlib.image.AxesImage at 0x15483e9b408>"
      ]
     },
     "execution_count": 60,
     "metadata": {},
     "output_type": "execute_result"
    },
    {
     "data": {
      "image/png": "[encoded data removed]",
      "text/plain": [
       "<Figure size 864x504 with 2 Axes>"
      ]
     },
     "metadata": {
      "needs_background": "light"
     },
     "output_type": "display_data"
    }
   ],
   "source": [
    "fig, ax = plt.subplots(1,2,figsize=(12,7))\n",
    "ax[0].imshow(im_arr_large)\n",
    "ax[1].imshow(im_arr_small)"
   ]
  },
  {
   "cell_type": "markdown",
   "metadata": {},
   "source": [
    "However, as expected, while guzzlord (left) is larger than wingull (right), it is not to scale since guzzlord (according to wiki) is 5.5m tall while anorith is 0.61m. Nonetheless, we will use the pixels as proxies."
   ]
  },
  {
   "cell_type": "markdown",
   "metadata": {},
   "source": [
    "Foreground"
   ]
  },
  {
   "cell_type": "code",
   "execution_count": 61,
   "metadata": {
    "ExecuteTime": {
     "end_time": "2020-08-11T15:52:30.452981Z",
     "start_time": "2020-08-11T15:52:30.410097Z"
    }
   },
   "outputs": [
    {
     "data": {
      "text/plain": [
       "(-0.5, 119.5, 119.5, -0.5)"
      ]
     },
     "execution_count": 61,
     "metadata": {},
     "output_type": "execute_result"
    },
    {
     "data": {
      "image/png": "[encoded data removed]",
      "text/plain": [
       "<Figure size 432x288 with 1 Axes>"
      ]
     },
     "metadata": {
      "needs_background": "light"
     },
     "output_type": "display_data"
    }
   ],
   "source": [
    "plt.imshow(mask_small, cmap='Pastel1')\n",
    "plt.axis('off')"
   ]
  },
  {
   "cell_type": "markdown",
   "metadata": {},
   "source": [
    "Background"
   ]
  },
  {
   "cell_type": "code",
   "execution_count": 62,
   "metadata": {
    "ExecuteTime": {
     "end_time": "2020-08-11T15:52:37.796729Z",
     "start_time": "2020-08-11T15:52:37.509450Z"
    }
   },
   "outputs": [
    {
     "data": {
      "image/png": "[encoded data removed]",
      "text/plain": [
       "<Figure size 432x288 with 1 Axes>"
      ]
     },
     "metadata": {
      "needs_background": "light"
     },
     "output_type": "display_data"
    }
   ],
   "source": [
    "plt.imshow(mask_small, cmap='Oranges')\n",
    "plt.axis('off')\n",
    "# plt.savefig('foreground.png', dpi=300, bbox_inches='tight')"
   ]
  },
  {
   "cell_type": "code",
   "execution_count": 63,
   "metadata": {
    "ExecuteTime": {
     "end_time": "2020-08-11T15:52:41.120645Z",
     "start_time": "2020-08-11T15:52:41.117687Z"
    }
   },
   "outputs": [],
   "source": [
    "from matplotlib import cm"
   ]
  },
  {
   "cell_type": "markdown",
   "metadata": {},
   "source": [
    "Nonetheless, there are still observable differences which is why it may be necessary to extract information like height and width information."
   ]
  },
  {
   "cell_type": "code",
   "execution_count": 75,
   "metadata": {
    "ExecuteTime": {
     "end_time": "2020-08-11T15:54:50.566873Z",
     "start_time": "2020-08-11T15:54:50.335493Z"
    }
   },
   "outputs": [
    {
     "data": {
      "image/png": "[encoded data removed]",
      "text/plain": [
       "<Figure size 432x288 with 1 Axes>"
      ]
     },
     "metadata": {
      "needs_background": "light"
     },
     "output_type": "display_data"
    }
   ],
   "source": [
    "fig, ax = plt.subplots()\n",
    "ax.bar(range(120),(mask_small).sum(axis=0), color=(0.9998769703960015, 0.4589388696655133, 0.4180007689350249, 1.0)) #height\n",
    "ax.spines['right'].set_visible(False)\n",
    "ax.spines['top'].set_visible(False)\n",
    "ax.set_xlabel('Height (in px)', fontsize=14)\n",
    "ax.set_ylabel('Count', fontsize=14)\n",
    "ax.set_title('Height distribution', loc='left', size=16);\n",
    "# ax.axis('off');"
   ]
  },
  {
   "cell_type": "code",
   "execution_count": 73,
   "metadata": {
    "ExecuteTime": {
     "end_time": "2020-08-11T15:54:35.765429Z",
     "start_time": "2020-08-11T15:54:35.481223Z"
    }
   },
   "outputs": [
    {
     "data": {
      "text/plain": [
       "Text(0.0, 1.0, 'Height distribution')"
      ]
     },
     "execution_count": 73,
     "metadata": {},
     "output_type": "execute_result"
    },
    {
     "data": {
      "image/png": "[encoded data removed]",
      "text/plain": [
       "<Figure size 432x288 with 1 Axes>"
      ]
     },
     "metadata": {
      "needs_background": "light"
     },
     "output_type": "display_data"
    }
   ],
   "source": [
    "fig, ax = plt.subplots()\n",
    "ax.bar(range(120),(mask_small).sum(axis=1), color=(0.9998769703960015, 0.4589388696655133, 0.4180007689350249, 1.0)) #height\n",
    "ax.spines['right'].set_visible(False)\n",
    "ax.spines['top'].set_visible(False)\n",
    "ax.set_xlabel('Height (in px)', fontsize=14)\n",
    "ax.set_ylabel('Count', fontsize=14)\n",
    "ax.set_title('Height distribution', loc='left', size=16);\n",
    "# ax.axis('off');"
   ]
  },
  {
   "cell_type": "code",
   "execution_count": 74,
   "metadata": {
    "ExecuteTime": {
     "end_time": "2020-08-11T15:54:39.880168Z",
     "start_time": "2020-08-11T15:54:39.763464Z"
    }
   },
   "outputs": [
    {
     "data": {
      "image/png": "[encoded data removed]",
      "text/plain": [
       "<Figure size 432x288 with 1 Axes>"
      ]
     },
     "metadata": {
      "needs_background": "light"
     },
     "output_type": "display_data"
    }
   ],
   "source": [
    "fig, ax = plt.subplots()\n",
    "ax.hist((im_arr_small>0).sum(axis=1)[(im_arr_small>0).sum(axis=1)>0], color=(0.9998769703960015, 0.4589388696655133, 0.4180007689350249, 1.0)) #height\n",
    "ax.spines['right'].set_visible(False)\n",
    "ax.spines['top'].set_visible(False)\n",
    "ax.set_xlabel('Width (in px)', fontsize=14)\n",
    "ax.set_ylabel('Count', fontsize=14)\n",
    "ax.set_title('Width distribution', loc='left', size=16);\n",
    "# ax.axis('off')"
   ]
  },
  {
   "cell_type": "markdown",
   "metadata": {},
   "source": [
    "### Feature extraction\n",
    "\n",
    "For the two Pokemons (Guzzlord and Wingull), we extract the following features:"
   ]
  },
  {
   "cell_type": "markdown",
   "metadata": {},
   "source": [
    "#### Size"
   ]
  },
  {
   "cell_type": "markdown",
   "metadata": {},
   "source": [
    "Guzzlord"
   ]
  },
  {
   "cell_type": "code",
   "execution_count": 76,
   "metadata": {
    "ExecuteTime": {
     "end_time": "2020-08-11T15:54:59.886283Z",
     "start_time": "2020-08-11T15:54:59.881292Z"
    }
   },
   "outputs": [
    {
     "data": {
      "text/plain": [
       "7413"
      ]
     },
     "execution_count": 76,
     "metadata": {},
     "output_type": "execute_result"
    }
   ],
   "source": [
    "mask_large.sum()"
   ]
  },
  {
   "cell_type": "markdown",
   "metadata": {},
   "source": [
    "Wingull"
   ]
  },
  {
   "cell_type": "code",
   "execution_count": 77,
   "metadata": {
    "ExecuteTime": {
     "end_time": "2020-08-11T15:55:01.407299Z",
     "start_time": "2020-08-11T15:55:01.402312Z"
    }
   },
   "outputs": [
    {
     "data": {
      "text/plain": [
       "783"
      ]
     },
     "execution_count": 77,
     "metadata": {},
     "output_type": "execute_result"
    }
   ],
   "source": [
    "mask_small.sum()"
   ]
  },
  {
   "cell_type": "markdown",
   "metadata": {},
   "source": [
    "#### Height"
   ]
  },
  {
   "cell_type": "code",
   "execution_count": 78,
   "metadata": {
    "ExecuteTime": {
     "end_time": "2020-08-11T15:55:16.415317Z",
     "start_time": "2020-08-11T15:55:16.410331Z"
    }
   },
   "outputs": [],
   "source": [
    "def height_info(mask):\n",
    "    height = mask.sum(axis=0)[mask.sum(axis=0)>0]\n",
    "    return (np.mean(height), stats.mode(height)[0][0], np.std(height))"
   ]
  },
  {
   "cell_type": "markdown",
   "metadata": {},
   "source": [
    "Wingull (mean, mode, standard deviation)"
   ]
  },
  {
   "cell_type": "code",
   "execution_count": 79,
   "metadata": {
    "ExecuteTime": {
     "end_time": "2020-08-11T15:55:17.275343Z",
     "start_time": "2020-08-11T15:55:17.268363Z"
    }
   },
   "outputs": [
    {
     "data": {
      "text/plain": [
       "(6.75, 6, 3.142794166408897)"
      ]
     },
     "execution_count": 79,
     "metadata": {},
     "output_type": "execute_result"
    }
   ],
   "source": [
    "height_info(mask_small)"
   ]
  },
  {
   "cell_type": "markdown",
   "metadata": {
    "ExecuteTime": {
     "end_time": "2019-08-20T03:48:13.992000Z",
     "start_time": "2019-08-20T03:48:13.985625Z"
    }
   },
   "source": [
    "Guzzlord (mean, mode, standard deviation)"
   ]
  },
  {
   "cell_type": "code",
   "execution_count": 80,
   "metadata": {
    "ExecuteTime": {
     "end_time": "2020-08-11T15:55:19.772299Z",
     "start_time": "2020-08-11T15:55:19.767313Z"
    }
   },
   "outputs": [
    {
     "data": {
      "text/plain": [
       "(61.775, 74, 27.09257662780219)"
      ]
     },
     "execution_count": 80,
     "metadata": {},
     "output_type": "execute_result"
    }
   ],
   "source": [
    "height_info(mask_large)"
   ]
  },
  {
   "cell_type": "markdown",
   "metadata": {},
   "source": [
    "#### Width"
   ]
  },
  {
   "cell_type": "code",
   "execution_count": 81,
   "metadata": {
    "ExecuteTime": {
     "end_time": "2020-08-11T15:55:25.232649Z",
     "start_time": "2020-08-11T15:55:25.228661Z"
    }
   },
   "outputs": [],
   "source": [
    "def width_info(mask):\n",
    "    width = mask.sum(axis=1)[mask.sum(axis=1)>0]\n",
    "    return (np.mean(width), stats.mode(width)[0][0], np.std(width))"
   ]
  },
  {
   "cell_type": "markdown",
   "metadata": {},
   "source": [
    "Wingull (mean, mode, standard deviation)"
   ]
  },
  {
   "cell_type": "code",
   "execution_count": 82,
   "metadata": {
    "ExecuteTime": {
     "end_time": "2020-08-11T15:55:26.415499Z",
     "start_time": "2020-08-11T15:55:26.410514Z"
    }
   },
   "outputs": [
    {
     "data": {
      "text/plain": [
       "(46.05882352941177, 18, 37.329172613757216)"
      ]
     },
     "execution_count": 82,
     "metadata": {},
     "output_type": "execute_result"
    }
   ],
   "source": [
    "width_info(mask_small)"
   ]
  },
  {
   "cell_type": "markdown",
   "metadata": {},
   "source": [
    "Guzzlord (mean, mode, standard deviation)"
   ]
  },
  {
   "cell_type": "code",
   "execution_count": 83,
   "metadata": {
    "ExecuteTime": {
     "end_time": "2020-08-11T15:55:27.129707Z",
     "start_time": "2020-08-11T15:55:27.123724Z"
    }
   },
   "outputs": [
    {
     "data": {
      "text/plain": [
       "(80.57608695652173, 91, 25.38624828680668)"
      ]
     },
     "execution_count": 83,
     "metadata": {},
     "output_type": "execute_result"
    }
   ],
   "source": [
    "width_info(mask_large)"
   ]
  },
  {
   "cell_type": "markdown",
   "metadata": {},
   "source": [
    "Now we extract the size features from the Pokemon images"
   ]
  },
  {
   "cell_type": "code",
   "execution_count": 85,
   "metadata": {
    "ExecuteTime": {
     "end_time": "2020-08-11T15:55:34.687724Z",
     "start_time": "2020-08-11T15:55:33.410583Z"
    }
   },
   "outputs": [],
   "source": [
    "files_ = next(os.walk('images'))[2]\n",
    "png_or_jpg = dict(re.findall('(^.*)\\.(.*$)', '\\n'.join(files_), re.M))\n",
    "\n",
    "df_feat_size = pd.DataFrame(columns=['size', 'mean_width', 'mode_width', 'std_width',\n",
    "                                    'mean_length', 'mode_length', 'std_length'], index=df.index)\n",
    "\n",
    "\n",
    "neighborhood = np.ones((5,5))\n",
    "neighborhood[0, 0] = 0\n",
    "neighborhood[0, -1] = 0\n",
    "neighborhood[-1, 0] = 0\n",
    "neighborhood[-1, -1] = 0\n",
    "\n",
    "for i in df.index:\n",
    "    pokemon = df.loc[i].Name\n",
    "    im = Image.open(f'images/{pokemon}.{png_or_jpg[pokemon]}').convert('RGBA')\n",
    "    im_arr = np.array(im)\n",
    "    if png_or_jpg[pokemon]=='png':\n",
    "        mask = im_arr.sum(axis=2)>0\n",
    "    elif png_or_jpg[pokemon]=='jpg':\n",
    "        imgray = Image.open(f'images/{pokemon}.jpg').convert('LA')\n",
    "        im_gray_arr = np.array(imgray)[:,:,0]\n",
    "        mask = binary_closing(binary_opening(im_gray_arr<251), neighborhood)\n",
    "    size = mask.sum()\n",
    "    df_feat_size.loc[i] = [size,\n",
    "                           *width_info(mask),\n",
    "                           *height_info(mask)]"
   ]
  },
  {
   "cell_type": "code",
   "execution_count": 86,
   "metadata": {
    "ExecuteTime": {
     "end_time": "2020-08-11T15:55:35.508987Z",
     "start_time": "2020-08-11T15:55:35.501007Z"
    },
    "scrolled": true
   },
   "outputs": [
    {
     "data": {
      "text/html": [
       "<div>\n",
       "<style scoped>\n",
       "    .dataframe tbody tr th:only-of-type {\n",
       "        vertical-align: middle;\n",
       "    }\n",
       "\n",
       "    .dataframe tbody tr th {\n",
       "        vertical-align: top;\n",
       "    }\n",
       "\n",
       "    .dataframe thead th {\n",
       "        text-align: right;\n",
       "    }\n",
       "</style>\n",
       "<table border=\"1\" class=\"dataframe\">\n",
       "  <thead>\n",
       "    <tr style=\"text-align: right;\">\n",
       "      <th></th>\n",
       "      <th>size</th>\n",
       "      <th>mean_width</th>\n",
       "      <th>mode_width</th>\n",
       "      <th>std_width</th>\n",
       "      <th>mean_length</th>\n",
       "      <th>mode_length</th>\n",
       "      <th>std_length</th>\n",
       "    </tr>\n",
       "    <tr>\n",
       "      <th>Pokedex Number</th>\n",
       "      <th></th>\n",
       "      <th></th>\n",
       "      <th></th>\n",
       "      <th></th>\n",
       "      <th></th>\n",
       "      <th></th>\n",
       "      <th></th>\n",
       "    </tr>\n",
       "  </thead>\n",
       "  <tbody>\n",
       "    <tr>\n",
       "      <th>1</th>\n",
       "      <td>1433</td>\n",
       "      <td>31.1522</td>\n",
       "      <td>38</td>\n",
       "      <td>10.8907</td>\n",
       "      <td>34.119</td>\n",
       "      <td>38</td>\n",
       "      <td>10.2544</td>\n",
       "    </tr>\n",
       "    <tr>\n",
       "      <th>2</th>\n",
       "      <td>2082</td>\n",
       "      <td>33.5806</td>\n",
       "      <td>39</td>\n",
       "      <td>12.9758</td>\n",
       "      <td>28.1351</td>\n",
       "      <td>3</td>\n",
       "      <td>23.234</td>\n",
       "    </tr>\n",
       "    <tr>\n",
       "      <th>3</th>\n",
       "      <td>4016</td>\n",
       "      <td>57.3714</td>\n",
       "      <td>75</td>\n",
       "      <td>20.7269</td>\n",
       "      <td>42.2737</td>\n",
       "      <td>63</td>\n",
       "      <td>20.9226</td>\n",
       "    </tr>\n",
       "    <tr>\n",
       "      <th>4</th>\n",
       "      <td>1379</td>\n",
       "      <td>24.625</td>\n",
       "      <td>26</td>\n",
       "      <td>6.99888</td>\n",
       "      <td>33.6341</td>\n",
       "      <td>51</td>\n",
       "      <td>19.2389</td>\n",
       "    </tr>\n",
       "    <tr>\n",
       "      <th>5</th>\n",
       "      <td>1729</td>\n",
       "      <td>27.0156</td>\n",
       "      <td>27</td>\n",
       "      <td>10.2416</td>\n",
       "      <td>37.587</td>\n",
       "      <td>57</td>\n",
       "      <td>18.169</td>\n",
       "    </tr>\n",
       "  </tbody>\n",
       "</table>\n",
       "</div>"
      ],
      "text/plain": [
       "                size mean_width mode_width std_width mean_length mode_length  \\\n",
       "Pokedex Number                                                                 \n",
       "1               1433    31.1522         38   10.8907      34.119          38   \n",
       "2               2082    33.5806         39   12.9758     28.1351           3   \n",
       "3               4016    57.3714         75   20.7269     42.2737          63   \n",
       "4               1379     24.625         26   6.99888     33.6341          51   \n",
       "5               1729    27.0156         27   10.2416      37.587          57   \n",
       "\n",
       "               std_length  \n",
       "Pokedex Number             \n",
       "1                 10.2544  \n",
       "2                  23.234  \n",
       "3                 20.9226  \n",
       "4                 19.2389  \n",
       "5                  18.169  "
      ]
     },
     "execution_count": 86,
     "metadata": {},
     "output_type": "execute_result"
    }
   ],
   "source": [
    "df_feat_size.head()"
   ]
  },
  {
   "cell_type": "markdown",
   "metadata": {},
   "source": [
    "## Combine!"
   ]
  },
  {
   "cell_type": "code",
   "execution_count": 87,
   "metadata": {
    "ExecuteTime": {
     "end_time": "2020-08-11T15:55:36.670787Z",
     "start_time": "2020-08-11T15:55:36.663806Z"
    }
   },
   "outputs": [],
   "source": [
    "df_feat = df_feat_color.join(df_feat_size)\n",
    "df_feat['Generation'] = df['Generation']"
   ]
  },
  {
   "cell_type": "code",
   "execution_count": 88,
   "metadata": {
    "ExecuteTime": {
     "end_time": "2020-08-11T15:55:37.369564Z",
     "start_time": "2020-08-11T15:55:37.351605Z"
    }
   },
   "outputs": [
    {
     "data": {
      "text/html": [
       "<div>\n",
       "<style scoped>\n",
       "    .dataframe tbody tr th:only-of-type {\n",
       "        vertical-align: middle;\n",
       "    }\n",
       "\n",
       "    .dataframe tbody tr th {\n",
       "        vertical-align: top;\n",
       "    }\n",
       "\n",
       "    .dataframe thead th {\n",
       "        text-align: right;\n",
       "    }\n",
       "</style>\n",
       "<table border=\"1\" class=\"dataframe\">\n",
       "  <thead>\n",
       "    <tr style=\"text-align: right;\">\n",
       "      <th></th>\n",
       "      <th>mean_r</th>\n",
       "      <th>mean_g</th>\n",
       "      <th>mean_b</th>\n",
       "      <th>mode_r</th>\n",
       "      <th>mode_g</th>\n",
       "      <th>mode_b</th>\n",
       "      <th>mode_freq_r</th>\n",
       "      <th>mode_freq_g</th>\n",
       "      <th>mode_freq_b</th>\n",
       "      <th>std_r</th>\n",
       "      <th>...</th>\n",
       "      <th>std_b</th>\n",
       "      <th>png</th>\n",
       "      <th>size</th>\n",
       "      <th>mean_width</th>\n",
       "      <th>mode_width</th>\n",
       "      <th>std_width</th>\n",
       "      <th>mean_length</th>\n",
       "      <th>mode_length</th>\n",
       "      <th>std_length</th>\n",
       "      <th>Generation</th>\n",
       "    </tr>\n",
       "    <tr>\n",
       "      <th>Pokedex Number</th>\n",
       "      <th></th>\n",
       "      <th></th>\n",
       "      <th></th>\n",
       "      <th></th>\n",
       "      <th></th>\n",
       "      <th></th>\n",
       "      <th></th>\n",
       "      <th></th>\n",
       "      <th></th>\n",
       "      <th></th>\n",
       "      <th></th>\n",
       "      <th></th>\n",
       "      <th></th>\n",
       "      <th></th>\n",
       "      <th></th>\n",
       "      <th></th>\n",
       "      <th></th>\n",
       "      <th></th>\n",
       "      <th></th>\n",
       "      <th></th>\n",
       "      <th></th>\n",
       "    </tr>\n",
       "  </thead>\n",
       "  <tbody>\n",
       "    <tr>\n",
       "      <th>1</th>\n",
       "      <td>141.361479</td>\n",
       "      <td>192.115841</td>\n",
       "      <td>161.390091</td>\n",
       "      <td>153.0</td>\n",
       "      <td>221.0</td>\n",
       "      <td>187.0</td>\n",
       "      <td>0.295185</td>\n",
       "      <td>0.249128</td>\n",
       "      <td>0.179344</td>\n",
       "      <td>39.090272</td>\n",
       "      <td>...</td>\n",
       "      <td>44.058603</td>\n",
       "      <td>1.0</td>\n",
       "      <td>1433</td>\n",
       "      <td>31.1522</td>\n",
       "      <td>38</td>\n",
       "      <td>10.8907</td>\n",
       "      <td>34.119</td>\n",
       "      <td>38</td>\n",
       "      <td>10.2544</td>\n",
       "      <td>1.0</td>\n",
       "    </tr>\n",
       "    <tr>\n",
       "      <th>2</th>\n",
       "      <td>144.254563</td>\n",
       "      <td>155.099904</td>\n",
       "      <td>161.620557</td>\n",
       "      <td>136.0</td>\n",
       "      <td>119.0</td>\n",
       "      <td>136.0</td>\n",
       "      <td>0.180596</td>\n",
       "      <td>0.185879</td>\n",
       "      <td>0.156580</td>\n",
       "      <td>68.464976</td>\n",
       "      <td>...</td>\n",
       "      <td>59.454752</td>\n",
       "      <td>1.0</td>\n",
       "      <td>2082</td>\n",
       "      <td>33.5806</td>\n",
       "      <td>39</td>\n",
       "      <td>12.9758</td>\n",
       "      <td>28.1351</td>\n",
       "      <td>3</td>\n",
       "      <td>23.234</td>\n",
       "      <td>1.0</td>\n",
       "    </tr>\n",
       "    <tr>\n",
       "      <th>3</th>\n",
       "      <td>145.169074</td>\n",
       "      <td>175.539841</td>\n",
       "      <td>169.630976</td>\n",
       "      <td>153.0</td>\n",
       "      <td>221.0</td>\n",
       "      <td>238.0</td>\n",
       "      <td>0.239791</td>\n",
       "      <td>0.175797</td>\n",
       "      <td>0.133466</td>\n",
       "      <td>50.830729</td>\n",
       "      <td>...</td>\n",
       "      <td>65.491676</td>\n",
       "      <td>1.0</td>\n",
       "      <td>4016</td>\n",
       "      <td>57.3714</td>\n",
       "      <td>75</td>\n",
       "      <td>20.7269</td>\n",
       "      <td>42.2737</td>\n",
       "      <td>63</td>\n",
       "      <td>20.9226</td>\n",
       "      <td>1.0</td>\n",
       "    </tr>\n",
       "    <tr>\n",
       "      <th>4</th>\n",
       "      <td>213.606962</td>\n",
       "      <td>176.345178</td>\n",
       "      <td>127.692531</td>\n",
       "      <td>255.0</td>\n",
       "      <td>187.0</td>\n",
       "      <td>136.0</td>\n",
       "      <td>0.377810</td>\n",
       "      <td>0.188542</td>\n",
       "      <td>0.195069</td>\n",
       "      <td>49.409046</td>\n",
       "      <td>...</td>\n",
       "      <td>46.549167</td>\n",
       "      <td>1.0</td>\n",
       "      <td>1379</td>\n",
       "      <td>24.625</td>\n",
       "      <td>26</td>\n",
       "      <td>6.99888</td>\n",
       "      <td>33.6341</td>\n",
       "      <td>51</td>\n",
       "      <td>19.2389</td>\n",
       "      <td>1.0</td>\n",
       "    </tr>\n",
       "    <tr>\n",
       "      <th>5</th>\n",
       "      <td>218.464430</td>\n",
       "      <td>151.414691</td>\n",
       "      <td>123.424523</td>\n",
       "      <td>255.0</td>\n",
       "      <td>153.0</td>\n",
       "      <td>136.0</td>\n",
       "      <td>0.410642</td>\n",
       "      <td>0.161943</td>\n",
       "      <td>0.149219</td>\n",
       "      <td>43.275183</td>\n",
       "      <td>...</td>\n",
       "      <td>58.782531</td>\n",
       "      <td>1.0</td>\n",
       "      <td>1729</td>\n",
       "      <td>27.0156</td>\n",
       "      <td>27</td>\n",
       "      <td>10.2416</td>\n",
       "      <td>37.587</td>\n",
       "      <td>57</td>\n",
       "      <td>18.169</td>\n",
       "      <td>1.0</td>\n",
       "    </tr>\n",
       "  </tbody>\n",
       "</table>\n",
       "<p>5 rows × 21 columns</p>\n",
       "</div>"
      ],
      "text/plain": [
       "                    mean_r      mean_g      mean_b  mode_r  mode_g  mode_b  \\\n",
       "Pokedex Number                                                               \n",
       "1               141.361479  192.115841  161.390091   153.0   221.0   187.0   \n",
       "2               144.254563  155.099904  161.620557   136.0   119.0   136.0   \n",
       "3               145.169074  175.539841  169.630976   153.0   221.0   238.0   \n",
       "4               213.606962  176.345178  127.692531   255.0   187.0   136.0   \n",
       "5               218.464430  151.414691  123.424523   255.0   153.0   136.0   \n",
       "\n",
       "                mode_freq_r  mode_freq_g  mode_freq_b      std_r  ...  \\\n",
       "Pokedex Number                                                    ...   \n",
       "1                  0.295185     0.249128     0.179344  39.090272  ...   \n",
       "2                  0.180596     0.185879     0.156580  68.464976  ...   \n",
       "3                  0.239791     0.175797     0.133466  50.830729  ...   \n",
       "4                  0.377810     0.188542     0.195069  49.409046  ...   \n",
       "5                  0.410642     0.161943     0.149219  43.275183  ...   \n",
       "\n",
       "                    std_b  png  size mean_width mode_width std_width  \\\n",
       "Pokedex Number                                                         \n",
       "1               44.058603  1.0  1433    31.1522         38   10.8907   \n",
       "2               59.454752  1.0  2082    33.5806         39   12.9758   \n",
       "3               65.491676  1.0  4016    57.3714         75   20.7269   \n",
       "4               46.549167  1.0  1379     24.625         26   6.99888   \n",
       "5               58.782531  1.0  1729    27.0156         27   10.2416   \n",
       "\n",
       "               mean_length mode_length std_length Generation  \n",
       "Pokedex Number                                                \n",
       "1                   34.119          38    10.2544        1.0  \n",
       "2                  28.1351           3     23.234        1.0  \n",
       "3                  42.2737          63    20.9226        1.0  \n",
       "4                  33.6341          51    19.2389        1.0  \n",
       "5                   37.587          57     18.169        1.0  \n",
       "\n",
       "[5 rows x 21 columns]"
      ]
     },
     "execution_count": 88,
     "metadata": {},
     "output_type": "execute_result"
    }
   ],
   "source": [
    "df_feat.head()"
   ]
  },
  {
   "cell_type": "markdown",
   "metadata": {},
   "source": [
    "<a id=\"imbalanced\"></a>\n",
    "\n",
    "# Classification using imbalanced dataset\n",
    "Targets:\n",
    "1. Primary type only\n",
    "2. Secondary type only\n",
    "\n",
    "It is possible to predict the combination of both but that would lead to more classes, making the problem more difficult."
   ]
  },
  {
   "cell_type": "markdown",
   "metadata": {},
   "source": [
    "<a id=\"imb-main\"></a>\n",
    "\n",
    "### Primary Type only"
   ]
  },
  {
   "cell_type": "code",
   "execution_count": 89,
   "metadata": {
    "ExecuteTime": {
     "end_time": "2020-08-11T15:55:42.022787Z",
     "start_time": "2020-08-11T15:55:42.018799Z"
    }
   },
   "outputs": [],
   "source": [
    "df_target_A = df['Type1']"
   ]
  },
  {
   "cell_type": "code",
   "execution_count": 90,
   "metadata": {
    "ExecuteTime": {
     "end_time": "2020-08-11T15:55:42.347055Z",
     "start_time": "2020-08-11T15:55:42.208461Z"
    }
   },
   "outputs": [
    {
     "data": {
      "text/plain": [
       "Text(0.5, 0, 'Count')"
      ]
     },
     "execution_count": 90,
     "metadata": {},
     "output_type": "execute_result"
    },
    {
     "data": {
      "image/png": "[encoded data removed]",
      "text/plain": [
       "<Figure size 432x288 with 1 Axes>"
      ]
     },
     "metadata": {
      "needs_background": "light"
     },
     "output_type": "display_data"
    }
   ],
   "source": [
    "df_target_A.value_counts()[::-1].plot.barh()\n",
    "plt.xlabel('Count')"
   ]
  },
  {
   "cell_type": "markdown",
   "metadata": {},
   "source": [
    "Looking at the distribution of the target classes, it is immediately obvious that the dataset is imbalanced. Particularly with Flying Pokemons, this type is usually a Secondary Type rather than a Primary Type, causing it to have a low count. Nonetheless, we will continue with this data and observe the results."
   ]
  },
  {
   "cell_type": "markdown",
   "metadata": {},
   "source": [
    "\n",
    "For this analysis, we use three combinations of features:\n",
    "1. All the features\n",
    "2. Only the color features\n",
    "3. Only the size features\n",
    "\n",
    "in order to predict the primary type of the Pokemon"
   ]
  },
  {
   "cell_type": "markdown",
   "metadata": {},
   "source": [
    "#### Combined features\n"
   ]
  },
  {
   "cell_type": "code",
   "execution_count": 91,
   "metadata": {
    "ExecuteTime": {
     "end_time": "2020-08-11T15:55:42.923381Z",
     "start_time": "2020-08-11T15:55:42.881493Z"
    }
   },
   "outputs": [],
   "source": [
    "import pandas as pd\n",
    "import numpy as np\n",
    "import matplotlib as mpl\n",
    "import matplotlib.pyplot as plt\n",
    "import seaborn as sns\n",
    "\n",
    "from warnings import filterwarnings\n",
    "filterwarnings('ignore')\n",
    "\n",
    "import importlib\n",
    "\n",
    "from sklearn import model_selection, preprocessing\n",
    "from sklearn.linear_model import LogisticRegression\n",
    "from sklearn.neighbors import KNeighborsClassifier\n",
    "from sklearn.svm import LinearSVC, SVC\n",
    "from sklearn.tree import DecisionTreeClassifier\n",
    "from sklearn.ensemble import RandomForestClassifier\n",
    "from sklearn.ensemble import GradientBoostingClassifier\n"
   ]
  },
  {
   "cell_type": "code",
   "execution_count": 92,
   "metadata": {
    "ExecuteTime": {
     "end_time": "2020-08-11T15:55:43.070988Z",
     "start_time": "2020-08-11T15:55:43.066967Z"
    }
   },
   "outputs": [
    {
     "name": "stdout",
     "output_type": "stream",
     "text": [
      "1.25 x PCC = 9.83%\n"
     ]
    }
   ],
   "source": [
    "print(f'1.25 x PCC = {125*((df_target_A.value_counts() / df_target_A.count())**2).sum():.2f}%')"
   ]
  },
  {
   "cell_type": "code",
   "execution_count": 93,
   "metadata": {
    "ExecuteTime": {
     "end_time": "2020-08-11T15:55:43.305377Z",
     "start_time": "2020-08-11T15:55:43.294358Z"
    }
   },
   "outputs": [],
   "source": [
    "cl1 = KNeighborsClassifier(n_jobs=-1)\n",
    "cl2 = LogisticRegression(penalty='l1', max_iter=1000,\n",
    "                         solver='liblinear', n_jobs=-1)\n",
    "cl3 = LogisticRegression(penalty='l2', max_iter=1000, n_jobs=-1)\n",
    "cl4 = LinearSVC(penalty='l1', dual=False, max_iter=10000)\n",
    "cl5 = LinearSVC(penalty='l2', max_iter=10000)\n",
    "cl6 = SVC(kernel='rbf', )\n",
    "cl7 = SVC(kernel='poly', degree=3)\n",
    "cl8 = DecisionTreeClassifier()\n",
    "cl9 = RandomForestClassifier(max_features='sqrt')\n",
    "cl10 = GradientBoostingClassifier()\n",
    "kneighbors = range(1, 31)\n",
    "C_list = np.logspace(-5, 5, num=10)\n",
    "gamma_list = np.logspace(-5, 5, num=10)\n",
    "\n",
    "estimators = [('KNN', cl1, {'n_neighbors':kneighbors}),\n",
    "              ('Logistic Regression (L1)', cl2, {'C':C_list}),\n",
    "              ('Logistic Regression (L2)', cl3, {'C':C_list}),\n",
    "              ('Linear SVM (L1)', cl4, {'C':C_list}),\n",
    "              ('Linear SVM (L2)', cl5, {'C':C_list}),\n",
    "              ('NonLinear SVM (RBF)', cl6, {'C':C_list,\n",
    "                                            'gamma':gamma_list}),\n",
    "              ('NonLinear SVM (Poly)', cl7, {'C':C_list,\n",
    "                                             'gamma':gamma_list}),\n",
    "              ('Decision Tree', cl8, {'max_depth':range(1,11),\n",
    "                                      'criterion':['gini', 'entropy']}),\n",
    "              ('Random Forest', cl9, {'max_depth':range(1,4),\n",
    "                                      'n_estimators':range(10,101,10),\n",
    "                                      'criterion':['gini', 'entropy']}),\n",
    "              ('GBM', cl10, {'max_depth':range(1,4),\n",
    "                            'n_estimators':range(10,101,10),\n",
    "                            'learning_rate':np.arange(0.1,1.01,0.1)})]"
   ]
  },
  {
   "cell_type": "code",
   "execution_count": 94,
   "metadata": {
    "ExecuteTime": {
     "end_time": "2020-08-11T15:55:45.532165Z",
     "start_time": "2020-08-11T15:55:45.519200Z"
    }
   },
   "outputs": [],
   "source": [
    "X = df_feat.astype(float)\n",
    "y = df_target_A\n",
    "\n",
    "X_train, X_val, y_train, y_val = model_selection.train_test_split(X, y,\n",
    "                                                            random_state=1)\n",
    "scaler = preprocessing.RobustScaler()\n",
    "X_train = scaler.fit_transform(X_train)\n",
    "X_val = scaler.transform(X_val)"
   ]
  },
  {
   "cell_type": "code",
   "execution_count": 96,
   "metadata": {
    "ExecuteTime": {
     "end_time": "2020-08-11T16:10:23.437326Z",
     "start_time": "2020-08-11T16:00:24.797003Z"
    }
   },
   "outputs": [
    {
     "name": "stdout",
     "output_type": "stream",
     "text": [
      "Training ('KNN', KNeighborsClassifier(algorithm='auto', leaf_size=30, metric='minkowski',\n",
      "                     metric_params=None, n_jobs=-1, n_neighbors=5, p=2,\n",
      "                     weights='uniform'), {'n_neighbors': range(1, 31)})\n",
      "\n",
      "Training ('Logistic Regression (L1)', LogisticRegression(C=1.0, class_weight=None, dual=False, fit_intercept=True,\n",
      "                   intercept_scaling=1, l1_ratio=None, max_iter=1000,\n",
      "                   multi_class='auto', n_jobs=-1, penalty='l1',\n",
      "                   random_state=None, solver='liblinear', tol=0.0001, verbose=0,\n",
      "                   warm_start=False), {'C': array([1.00000000e-05, 1.29154967e-04, 1.66810054e-03, 2.15443469e-02,\n",
      "       2.78255940e-01, 3.59381366e+00, 4.64158883e+01, 5.99484250e+02,\n",
      "       7.74263683e+03, 1.00000000e+05])})\n",
      "\n",
      "Training ('Logistic Regression (L2)', LogisticRegression(C=1.0, class_weight=None, dual=False, fit_intercept=True,\n",
      "                   intercept_scaling=1, l1_ratio=None, max_iter=1000,\n",
      "                   multi_class='auto', n_jobs=-1, penalty='l2',\n",
      "                   random_state=None, solver='lbfgs', tol=0.0001, verbose=0,\n",
      "                   warm_start=False), {'C': array([1.00000000e-05, 1.29154967e-04, 1.66810054e-03, 2.15443469e-02,\n",
      "       2.78255940e-01, 3.59381366e+00, 4.64158883e+01, 5.99484250e+02,\n",
      "       7.74263683e+03, 1.00000000e+05])})\n",
      "\n",
      "Training ('Linear SVM (L1)', LinearSVC(C=1.0, class_weight=None, dual=False, fit_intercept=True,\n",
      "          intercept_scaling=1, loss='squared_hinge', max_iter=10000,\n",
      "          multi_class='ovr', penalty='l1', random_state=None, tol=0.0001,\n",
      "          verbose=0), {'C': array([1.00000000e-05, 1.29154967e-04, 1.66810054e-03, 2.15443469e-02,\n",
      "       2.78255940e-01, 3.59381366e+00, 4.64158883e+01, 5.99484250e+02,\n",
      "       7.74263683e+03, 1.00000000e+05])})\n",
      "\n",
      "Training ('Linear SVM (L2)', LinearSVC(C=1.0, class_weight=None, dual=True, fit_intercept=True,\n",
      "          intercept_scaling=1, loss='squared_hinge', max_iter=10000,\n",
      "          multi_class='ovr', penalty='l2', random_state=None, tol=0.0001,\n",
      "          verbose=0), {'C': array([1.00000000e-05, 1.29154967e-04, 1.66810054e-03, 2.15443469e-02,\n",
      "       2.78255940e-01, 3.59381366e+00, 4.64158883e+01, 5.99484250e+02,\n",
      "       7.74263683e+03, 1.00000000e+05])})\n",
      "\n",
      "Training ('NonLinear SVM (RBF)', SVC(C=1.0, break_ties=False, cache_size=200, class_weight=None, coef0=0.0,\n",
      "    decision_function_shape='ovr', degree=3, gamma='scale', kernel='rbf',\n",
      "    max_iter=-1, probability=False, random_state=None, shrinking=True,\n",
      "    tol=0.001, verbose=False), {'C': array([1.00000000e-05, 1.29154967e-04, 1.66810054e-03, 2.15443469e-02,\n",
      "       2.78255940e-01, 3.59381366e+00, 4.64158883e+01, 5.99484250e+02,\n",
      "       7.74263683e+03, 1.00000000e+05]), 'gamma': array([1.00000000e-05, 1.29154967e-04, 1.66810054e-03, 2.15443469e-02,\n",
      "       2.78255940e-01, 3.59381366e+00, 4.64158883e+01, 5.99484250e+02,\n",
      "       7.74263683e+03, 1.00000000e+05])})\n",
      "\n",
      "Training ('NonLinear SVM (Poly)', SVC(C=1.0, break_ties=False, cache_size=200, class_weight=None, coef0=0.0,\n",
      "    decision_function_shape='ovr', degree=3, gamma='scale', kernel='poly',\n",
      "    max_iter=-1, probability=False, random_state=None, shrinking=True,\n",
      "    tol=0.001, verbose=False), {'C': array([1.00000000e-05, 1.29154967e-04, 1.66810054e-03, 2.15443469e-02,\n",
      "       2.78255940e-01, 3.59381366e+00, 4.64158883e+01, 5.99484250e+02,\n",
      "       7.74263683e+03, 1.00000000e+05]), 'gamma': array([1.00000000e-05, 1.29154967e-04, 1.66810054e-03, 2.15443469e-02,\n",
      "       2.78255940e-01, 3.59381366e+00, 4.64158883e+01, 5.99484250e+02,\n",
      "       7.74263683e+03, 1.00000000e+05])})\n",
      "\n",
      "Training ('Decision Tree', DecisionTreeClassifier(ccp_alpha=0.0, class_weight=None, criterion='gini',\n",
      "                       max_depth=None, max_features=None, max_leaf_nodes=None,\n",
      "                       min_impurity_decrease=0.0, min_impurity_split=None,\n",
      "                       min_samples_leaf=1, min_samples_split=2,\n",
      "                       min_weight_fraction_leaf=0.0, presort='deprecated',\n",
      "                       random_state=None, splitter='best'), {'max_depth': range(1, 11), 'criterion': ['gini', 'entropy']})\n",
      "\n",
      "Training ('Random Forest', RandomForestClassifier(bootstrap=True, ccp_alpha=0.0, class_weight=None,\n",
      "                       criterion='gini', max_depth=None, max_features='sqrt',\n",
      "                       max_leaf_nodes=None, max_samples=None,\n",
      "                       min_impurity_decrease=0.0, min_impurity_split=None,\n",
      "                       min_samples_leaf=1, min_samples_split=2,\n",
      "                       min_weight_fraction_leaf=0.0, n_estimators=100,\n",
      "                       n_jobs=None, oob_score=False, random_state=None,\n",
      "                       verbose=0, warm_start=False), {'max_depth': range(1, 4), 'n_estimators': range(10, 101, 10), 'criterion': ['gini', 'entropy']})\n",
      "\n",
      "Training ('GBM', GradientBoostingClassifier(ccp_alpha=0.0, criterion='friedman_mse', init=None,\n",
      "                           learning_rate=0.1, loss='deviance', max_depth=3,\n",
      "                           max_features=None, max_leaf_nodes=None,\n",
      "                           min_impurity_decrease=0.0, min_impurity_split=None,\n",
      "                           min_samples_leaf=1, min_samples_split=2,\n",
      "                           min_weight_fraction_leaf=0.0, n_estimators=100,\n",
      "                           n_iter_no_change=None, presort='deprecated',\n",
      "                           random_state=None, subsample=1.0, tol=0.0001,\n",
      "                           validation_fraction=0.1, verbose=0,\n",
      "                           warm_start=False), {'max_depth': range(1, 4), 'n_estimators': range(10, 101, 10), 'learning_rate': array([0.1, 0.2, 0.3, 0.4, 0.5, 0.6, 0.7, 0.8, 0.9, 1. ])})\n",
      "\n"
     ]
    }
   ],
   "source": [
    "models = {}\n",
    "for est in estimators:\n",
    "    print(f'Training {est}\\n')\n",
    "    gs_cv = model_selection.GridSearchCV(est[1], param_grid=est[2], n_jobs=4)\n",
    "    gs_cv.fit(X_train, y_train)\n",
    "    models[est[0]] = gs_cv"
   ]
  },
  {
   "cell_type": "code",
   "execution_count": 97,
   "metadata": {
    "ExecuteTime": {
     "end_time": "2020-08-11T16:10:23.704695Z",
     "start_time": "2020-08-11T16:10:23.519414Z"
    }
   },
   "outputs": [],
   "source": [
    "cols = ['Machine Learning Method', 'Test Accuracy',\n",
    "        'Best Parameter', 'Top Predictor Variable']\n",
    "df_acc_prim_all = pd.DataFrame(columns=cols)\n",
    "\n",
    "for i, m in enumerate(models):\n",
    "    \n",
    "    try:\n",
    "        top_predictor = X.columns[\n",
    "            np.argmax(np.abs(models[m].best_estimator_.coef_).mean(axis=0))]\n",
    "\n",
    "    except AttributeError:\n",
    "        top_predictor = np.nan\n",
    "    \n",
    "    df_acc_prim_all.loc[i] = [m, \n",
    "                 models[m].best_estimator_.score(X_val, y_val),\n",
    "                 models[m].best_params_ ,\n",
    "                 top_predictor]"
   ]
  },
  {
   "cell_type": "code",
   "execution_count": 98,
   "metadata": {
    "ExecuteTime": {
     "end_time": "2020-08-11T16:10:23.720652Z",
     "start_time": "2020-08-11T16:10:23.706689Z"
    }
   },
   "outputs": [
    {
     "data": {
      "text/html": [
       "<div>\n",
       "<style scoped>\n",
       "    .dataframe tbody tr th:only-of-type {\n",
       "        vertical-align: middle;\n",
       "    }\n",
       "\n",
       "    .dataframe tbody tr th {\n",
       "        vertical-align: top;\n",
       "    }\n",
       "\n",
       "    .dataframe thead th {\n",
       "        text-align: right;\n",
       "    }\n",
       "</style>\n",
       "<table border=\"1\" class=\"dataframe\">\n",
       "  <thead>\n",
       "    <tr style=\"text-align: right;\">\n",
       "      <th></th>\n",
       "      <th>Machine Learning Method</th>\n",
       "      <th>Test Accuracy</th>\n",
       "      <th>Best Parameter</th>\n",
       "      <th>Top Predictor Variable</th>\n",
       "    </tr>\n",
       "  </thead>\n",
       "  <tbody>\n",
       "    <tr>\n",
       "      <th>0</th>\n",
       "      <td>KNN</td>\n",
       "      <td>0.206897</td>\n",
       "      <td>{'n_neighbors': 23}</td>\n",
       "      <td>NaN</td>\n",
       "    </tr>\n",
       "    <tr>\n",
       "      <th>1</th>\n",
       "      <td>Logistic Regression (L1)</td>\n",
       "      <td>0.261084</td>\n",
       "      <td>{'C': 3.593813663804626}</td>\n",
       "      <td>png</td>\n",
       "    </tr>\n",
       "    <tr>\n",
       "      <th>2</th>\n",
       "      <td>Logistic Regression (L2)</td>\n",
       "      <td>0.231527</td>\n",
       "      <td>{'C': 3.593813663804626}</td>\n",
       "      <td>png</td>\n",
       "    </tr>\n",
       "    <tr>\n",
       "      <th>3</th>\n",
       "      <td>Linear SVM (L1)</td>\n",
       "      <td>0.290640</td>\n",
       "      <td>{'C': 0.2782559402207126}</td>\n",
       "      <td>mean_b</td>\n",
       "    </tr>\n",
       "    <tr>\n",
       "      <th>4</th>\n",
       "      <td>Linear SVM (L2)</td>\n",
       "      <td>0.280788</td>\n",
       "      <td>{'C': 0.2782559402207126}</td>\n",
       "      <td>png</td>\n",
       "    </tr>\n",
       "    <tr>\n",
       "      <th>5</th>\n",
       "      <td>NonLinear SVM (RBF)</td>\n",
       "      <td>0.275862</td>\n",
       "      <td>{'C': 46.41588833612782, 'gamma': 0.0016681005...</td>\n",
       "      <td>NaN</td>\n",
       "    </tr>\n",
       "    <tr>\n",
       "      <th>6</th>\n",
       "      <td>NonLinear SVM (Poly)</td>\n",
       "      <td>0.211823</td>\n",
       "      <td>{'C': 0.0001291549665014884, 'gamma': 3.593813...</td>\n",
       "      <td>NaN</td>\n",
       "    </tr>\n",
       "    <tr>\n",
       "      <th>7</th>\n",
       "      <td>Decision Tree</td>\n",
       "      <td>0.197044</td>\n",
       "      <td>{'criterion': 'gini', 'max_depth': 5}</td>\n",
       "      <td>NaN</td>\n",
       "    </tr>\n",
       "    <tr>\n",
       "      <th>8</th>\n",
       "      <td>Random Forest</td>\n",
       "      <td>0.226601</td>\n",
       "      <td>{'criterion': 'gini', 'max_depth': 3, 'n_estim...</td>\n",
       "      <td>NaN</td>\n",
       "    </tr>\n",
       "    <tr>\n",
       "      <th>9</th>\n",
       "      <td>GBM</td>\n",
       "      <td>0.206897</td>\n",
       "      <td>{'learning_rate': 0.2, 'max_depth': 1, 'n_esti...</td>\n",
       "      <td>NaN</td>\n",
       "    </tr>\n",
       "  </tbody>\n",
       "</table>\n",
       "</div>"
      ],
      "text/plain": [
       "    Machine Learning Method  Test Accuracy  \\\n",
       "0                       KNN       0.206897   \n",
       "1  Logistic Regression (L1)       0.261084   \n",
       "2  Logistic Regression (L2)       0.231527   \n",
       "3           Linear SVM (L1)       0.290640   \n",
       "4           Linear SVM (L2)       0.280788   \n",
       "5       NonLinear SVM (RBF)       0.275862   \n",
       "6      NonLinear SVM (Poly)       0.211823   \n",
       "7             Decision Tree       0.197044   \n",
       "8             Random Forest       0.226601   \n",
       "9                       GBM       0.206897   \n",
       "\n",
       "                                      Best Parameter Top Predictor Variable  \n",
       "0                                {'n_neighbors': 23}                    NaN  \n",
       "1                           {'C': 3.593813663804626}                    png  \n",
       "2                           {'C': 3.593813663804626}                    png  \n",
       "3                          {'C': 0.2782559402207126}                 mean_b  \n",
       "4                          {'C': 0.2782559402207126}                    png  \n",
       "5  {'C': 46.41588833612782, 'gamma': 0.0016681005...                    NaN  \n",
       "6  {'C': 0.0001291549665014884, 'gamma': 3.593813...                    NaN  \n",
       "7              {'criterion': 'gini', 'max_depth': 5}                    NaN  \n",
       "8  {'criterion': 'gini', 'max_depth': 3, 'n_estim...                    NaN  \n",
       "9  {'learning_rate': 0.2, 'max_depth': 1, 'n_esti...                    NaN  "
      ]
     },
     "execution_count": 98,
     "metadata": {},
     "output_type": "execute_result"
    }
   ],
   "source": [
    "df_acc_prim_all"
   ]
  },
  {
   "cell_type": "markdown",
   "metadata": {},
   "source": [
    "From the different models, Logistic Regression with L1 regularization is the best. Looking at the weights:"
   ]
  },
  {
   "cell_type": "code",
   "execution_count": 99,
   "metadata": {
    "ExecuteTime": {
     "end_time": "2020-08-11T16:10:23.897180Z",
     "start_time": "2020-08-11T16:10:23.721650Z"
    }
   },
   "outputs": [
    {
     "data": {
      "text/plain": [
       "(-0.6919057517439353, 0.6919057517439353)"
      ]
     },
     "execution_count": 99,
     "metadata": {},
     "output_type": "execute_result"
    },
    {
     "data": {
      "image/png": "[encoded data removed]",
      "text/plain": [
       "<Figure size 432x288 with 1 Axes>"
      ]
     },
     "metadata": {
      "needs_background": "light"
     },
     "output_type": "display_data"
    }
   ],
   "source": [
    "coefs = models['Logistic Regression (L1)'].best_estimator_.coef_.mean(axis=0)\n",
    "plt.barh(df_feat.columns[np.argsort(coefs)], np.sort(coefs))\n",
    "plt.xlim(-max(abs(coefs)) -0.01, max(abs(coefs))+0.01)"
   ]
  },
  {
   "cell_type": "code",
   "execution_count": 100,
   "metadata": {
    "ExecuteTime": {
     "end_time": "2020-08-11T16:10:23.977001Z",
     "start_time": "2020-08-11T16:10:23.898188Z"
    }
   },
   "outputs": [],
   "source": [
    "cols = ['Machine Learning Method', 'Test Accuracy',\n",
    "        'Best Parameter', 'Top Predictor Variable']\n",
    "df_acc_prim_all_types = pd.DataFrame(columns=cols)\n",
    "\n",
    "# for i, m in enumerate(models):\n",
    "m = 'Logistic Regression (L1)'\n",
    "for i in df_target_A.value_counts().index[::-1]:\n",
    "    try:\n",
    "        top_predictor = dict(zip(X.columns, np.abs(models[m].best_estimator_.coef_).mean(axis=0)))\n",
    "\n",
    "    except AttributeError:\n",
    "        top_predictor = np.nan\n",
    "    \n",
    "    df_acc_prim_all_types.loc[i] = [m, \n",
    "                 models[m].best_estimator_.score(X_val[y_val==i], y_val[y_val==i]),\n",
    "                 models[m].best_params_ ,\n",
    "                 top_predictor]"
   ]
  },
  {
   "cell_type": "markdown",
   "metadata": {},
   "source": [
    "Looking at the accuracies for the different classifications:"
   ]
  },
  {
   "cell_type": "code",
   "execution_count": 101,
   "metadata": {
    "ExecuteTime": {
     "end_time": "2020-08-11T16:10:23.984946Z",
     "start_time": "2020-08-11T16:10:23.977963Z"
    }
   },
   "outputs": [
    {
     "data": {
      "text/html": [
       "<div>\n",
       "<style scoped>\n",
       "    .dataframe tbody tr th:only-of-type {\n",
       "        vertical-align: middle;\n",
       "    }\n",
       "\n",
       "    .dataframe tbody tr th {\n",
       "        vertical-align: top;\n",
       "    }\n",
       "\n",
       "    .dataframe thead th {\n",
       "        text-align: right;\n",
       "    }\n",
       "</style>\n",
       "<table border=\"1\" class=\"dataframe\">\n",
       "  <thead>\n",
       "    <tr style=\"text-align: right;\">\n",
       "      <th></th>\n",
       "      <th>Test Accuracy</th>\n",
       "    </tr>\n",
       "  </thead>\n",
       "  <tbody>\n",
       "    <tr>\n",
       "      <th>Flying</th>\n",
       "      <td>0.000000</td>\n",
       "    </tr>\n",
       "    <tr>\n",
       "      <th>Fairy</th>\n",
       "      <td>0.200000</td>\n",
       "    </tr>\n",
       "    <tr>\n",
       "      <th>Ice</th>\n",
       "      <td>0.285714</td>\n",
       "    </tr>\n",
       "    <tr>\n",
       "      <th>Steel</th>\n",
       "      <td>0.000000</td>\n",
       "    </tr>\n",
       "    <tr>\n",
       "      <th>Ghost</th>\n",
       "      <td>0.333333</td>\n",
       "    </tr>\n",
       "    <tr>\n",
       "      <th>Dragon</th>\n",
       "      <td>0.000000</td>\n",
       "    </tr>\n",
       "    <tr>\n",
       "      <th>Fighting</th>\n",
       "      <td>0.000000</td>\n",
       "    </tr>\n",
       "    <tr>\n",
       "      <th>Dark</th>\n",
       "      <td>0.400000</td>\n",
       "    </tr>\n",
       "    <tr>\n",
       "      <th>Ground</th>\n",
       "      <td>0.000000</td>\n",
       "    </tr>\n",
       "    <tr>\n",
       "      <th>Poison</th>\n",
       "      <td>0.333333</td>\n",
       "    </tr>\n",
       "    <tr>\n",
       "      <th>Electric</th>\n",
       "      <td>0.000000</td>\n",
       "    </tr>\n",
       "    <tr>\n",
       "      <th>Rock</th>\n",
       "      <td>0.000000</td>\n",
       "    </tr>\n",
       "    <tr>\n",
       "      <th>Fire</th>\n",
       "      <td>0.533333</td>\n",
       "    </tr>\n",
       "    <tr>\n",
       "      <th>Psychic</th>\n",
       "      <td>0.000000</td>\n",
       "    </tr>\n",
       "    <tr>\n",
       "      <th>Bug</th>\n",
       "      <td>0.333333</td>\n",
       "    </tr>\n",
       "    <tr>\n",
       "      <th>Grass</th>\n",
       "      <td>0.391304</td>\n",
       "    </tr>\n",
       "    <tr>\n",
       "      <th>Normal</th>\n",
       "      <td>0.384615</td>\n",
       "    </tr>\n",
       "    <tr>\n",
       "      <th>Water</th>\n",
       "      <td>0.500000</td>\n",
       "    </tr>\n",
       "  </tbody>\n",
       "</table>\n",
       "</div>"
      ],
      "text/plain": [
       "          Test Accuracy\n",
       "Flying         0.000000\n",
       "Fairy          0.200000\n",
       "Ice            0.285714\n",
       "Steel          0.000000\n",
       "Ghost          0.333333\n",
       "Dragon         0.000000\n",
       "Fighting       0.000000\n",
       "Dark           0.400000\n",
       "Ground         0.000000\n",
       "Poison         0.333333\n",
       "Electric       0.000000\n",
       "Rock           0.000000\n",
       "Fire           0.533333\n",
       "Psychic        0.000000\n",
       "Bug            0.333333\n",
       "Grass          0.391304\n",
       "Normal         0.384615\n",
       "Water          0.500000"
      ]
     },
     "execution_count": 101,
     "metadata": {},
     "output_type": "execute_result"
    }
   ],
   "source": [
    "df_acc_prim_all_types[['Test Accuracy']]"
   ]
  },
  {
   "cell_type": "code",
   "execution_count": 102,
   "metadata": {
    "ExecuteTime": {
     "end_time": "2020-08-11T16:10:24.017905Z",
     "start_time": "2020-08-11T16:10:23.986940Z"
    }
   },
   "outputs": [],
   "source": [
    "cols = ['Machine Learning Method', 'Test Accuracy',\n",
    "        'Best Parameter', 'Top Predictor Variable']\n",
    "df_acc_prim_all_gen = pd.DataFrame(columns=cols)\n",
    "gen_scaled = dict(zip(range(1, 8), np.unique(X_val[:, -1])))\n",
    "\n",
    "# for i, m in enumerate(models):\n",
    "m = 'Logistic Regression (L1)'\n",
    "\n",
    "for i in range(1,8):\n",
    "    try:\n",
    "        top_predictor = dict(zip(X.columns, np.abs(models[m].best_estimator_.coef_).mean(axis=0)))\n",
    "\n",
    "    except AttributeError:\n",
    "        top_predictor = np.nan\n",
    "    \n",
    "    df_acc_prim_all_gen.loc[i] = [m, \n",
    "                     models[m].best_estimator_.score(X_val[X_val[:, -1]==gen_scaled[i]], y_val[X_val[:, -1]==gen_scaled[i]]),\n",
    "                     models[m].best_params_ ,\n",
    "                     top_predictor]"
   ]
  },
  {
   "cell_type": "code",
   "execution_count": 103,
   "metadata": {
    "ExecuteTime": {
     "end_time": "2020-08-11T16:10:24.028877Z",
     "start_time": "2020-08-11T16:10:24.019851Z"
    }
   },
   "outputs": [
    {
     "data": {
      "text/html": [
       "<div>\n",
       "<style scoped>\n",
       "    .dataframe tbody tr th:only-of-type {\n",
       "        vertical-align: middle;\n",
       "    }\n",
       "\n",
       "    .dataframe tbody tr th {\n",
       "        vertical-align: top;\n",
       "    }\n",
       "\n",
       "    .dataframe thead th {\n",
       "        text-align: right;\n",
       "    }\n",
       "</style>\n",
       "<table border=\"1\" class=\"dataframe\">\n",
       "  <thead>\n",
       "    <tr style=\"text-align: right;\">\n",
       "      <th></th>\n",
       "      <th>Test Accuracy</th>\n",
       "    </tr>\n",
       "    <tr>\n",
       "      <th>Generation</th>\n",
       "      <th></th>\n",
       "    </tr>\n",
       "  </thead>\n",
       "  <tbody>\n",
       "    <tr>\n",
       "      <th>I</th>\n",
       "      <td>0.368421</td>\n",
       "    </tr>\n",
       "    <tr>\n",
       "      <th>II</th>\n",
       "      <td>0.318182</td>\n",
       "    </tr>\n",
       "    <tr>\n",
       "      <th>III</th>\n",
       "      <td>0.181818</td>\n",
       "    </tr>\n",
       "    <tr>\n",
       "      <th>IV</th>\n",
       "      <td>0.125000</td>\n",
       "    </tr>\n",
       "    <tr>\n",
       "      <th>V</th>\n",
       "      <td>0.340909</td>\n",
       "    </tr>\n",
       "    <tr>\n",
       "      <th>VI</th>\n",
       "      <td>0.238095</td>\n",
       "    </tr>\n",
       "    <tr>\n",
       "      <th>VII</th>\n",
       "      <td>0.142857</td>\n",
       "    </tr>\n",
       "  </tbody>\n",
       "</table>\n",
       "</div>"
      ],
      "text/plain": [
       "            Test Accuracy\n",
       "Generation               \n",
       "I                0.368421\n",
       "II               0.318182\n",
       "III              0.181818\n",
       "IV               0.125000\n",
       "V                0.340909\n",
       "VI               0.238095\n",
       "VII              0.142857"
      ]
     },
     "execution_count": 103,
     "metadata": {},
     "output_type": "execute_result"
    }
   ],
   "source": [
    "df_acc_prim_all_gen['Generation'] = ['I', 'II', 'III', 'IV', 'V', 'VI', 'VII']\n",
    "df_acc_prim_all_gen.set_index('Generation', inplace=True)\n",
    "df_acc_prim_all_gen[['Test Accuracy']]"
   ]
  },
  {
   "cell_type": "markdown",
   "metadata": {},
   "source": [
    "#### Color features only\n",
    "Using a subset of the features, what would the accuracies be?"
   ]
  },
  {
   "cell_type": "code",
   "execution_count": 104,
   "metadata": {
    "ExecuteTime": {
     "end_time": "2020-08-11T16:10:24.040831Z",
     "start_time": "2020-08-11T16:10:24.029825Z"
    }
   },
   "outputs": [],
   "source": [
    "cl1 = KNeighborsClassifier(n_jobs=-1)\n",
    "cl2 = LogisticRegression(penalty='l1', max_iter=1000,\n",
    "                         solver='liblinear', n_jobs=-1)\n",
    "cl3 = LogisticRegression(penalty='l2', max_iter=1000, n_jobs=-1)\n",
    "cl4 = LinearSVC(penalty='l1', dual=False, max_iter=10000)\n",
    "cl5 = LinearSVC(penalty='l2', max_iter=10000)\n",
    "cl6 = SVC(kernel='rbf', )\n",
    "cl7 = SVC(kernel='poly', degree=3)\n",
    "cl8 = DecisionTreeClassifier()\n",
    "cl9 = RandomForestClassifier(max_features='sqrt')\n",
    "cl10 = GradientBoostingClassifier()\n",
    "kneighbors = range(1, 31)\n",
    "C_list = np.logspace(-5, 5, num=10)\n",
    "gamma_list = np.logspace(-5, 5, num=10)\n",
    "\n",
    "estimators = [('KNN', cl1, {'n_neighbors':kneighbors}),\n",
    "              ('Logistic Regression (L1)', cl2, {'C':C_list}),\n",
    "              ('Logistic Regression (L2)', cl3, {'C':C_list}),\n",
    "              ('Linear SVM (L1)', cl4, {'C':C_list}),\n",
    "              ('Linear SVM (L2)', cl5, {'C':C_list}),\n",
    "              ('NonLinear SVM (RBF)', cl6, {'C':C_list,\n",
    "                                            'gamma':gamma_list}),\n",
    "              ('NonLinear SVM (Poly)', cl7, {'C':C_list,\n",
    "                                             'gamma':gamma_list}),\n",
    "              ('Decision Tree', cl8, {'max_depth':range(1,11),\n",
    "                                      'criterion':['gini', 'entropy']}),\n",
    "              ('Random Forest', cl9, {'max_depth':range(1,4),\n",
    "                                      'n_estimators':range(10,101,10),\n",
    "                                      'criterion':['gini', 'entropy']}),\n",
    "              ('GBM', cl10, {'max_depth':range(1,4),\n",
    "                            'n_estimators':range(10,101,10),\n",
    "                            'learning_rate':np.arange(0.1,1.01,0.1)})]"
   ]
  },
  {
   "cell_type": "code",
   "execution_count": 105,
   "metadata": {
    "ExecuteTime": {
     "end_time": "2020-08-11T16:10:24.052801Z",
     "start_time": "2020-08-11T16:10:24.041824Z"
    }
   },
   "outputs": [
    {
     "data": {
      "text/html": [
       "<div>\n",
       "<style scoped>\n",
       "    .dataframe tbody tr th:only-of-type {\n",
       "        vertical-align: middle;\n",
       "    }\n",
       "\n",
       "    .dataframe tbody tr th {\n",
       "        vertical-align: top;\n",
       "    }\n",
       "\n",
       "    .dataframe thead th {\n",
       "        text-align: right;\n",
       "    }\n",
       "</style>\n",
       "<table border=\"1\" class=\"dataframe\">\n",
       "  <thead>\n",
       "    <tr style=\"text-align: right;\">\n",
       "      <th></th>\n",
       "      <th>Name</th>\n",
       "      <th>Type1</th>\n",
       "      <th>Type2</th>\n",
       "      <th>Generation</th>\n",
       "    </tr>\n",
       "    <tr>\n",
       "      <th>Pokedex Number</th>\n",
       "      <th></th>\n",
       "      <th></th>\n",
       "      <th></th>\n",
       "      <th></th>\n",
       "    </tr>\n",
       "  </thead>\n",
       "  <tbody>\n",
       "    <tr>\n",
       "      <th>1</th>\n",
       "      <td>bulbasaur</td>\n",
       "      <td>Grass</td>\n",
       "      <td>Poison</td>\n",
       "      <td>1.0</td>\n",
       "    </tr>\n",
       "    <tr>\n",
       "      <th>2</th>\n",
       "      <td>ivysaur</td>\n",
       "      <td>Grass</td>\n",
       "      <td>Poison</td>\n",
       "      <td>1.0</td>\n",
       "    </tr>\n",
       "    <tr>\n",
       "      <th>3</th>\n",
       "      <td>venusaur</td>\n",
       "      <td>Grass</td>\n",
       "      <td>Poison</td>\n",
       "      <td>1.0</td>\n",
       "    </tr>\n",
       "    <tr>\n",
       "      <th>4</th>\n",
       "      <td>charmander</td>\n",
       "      <td>Fire</td>\n",
       "      <td>NaN</td>\n",
       "      <td>1.0</td>\n",
       "    </tr>\n",
       "    <tr>\n",
       "      <th>5</th>\n",
       "      <td>charmeleon</td>\n",
       "      <td>Fire</td>\n",
       "      <td>NaN</td>\n",
       "      <td>1.0</td>\n",
       "    </tr>\n",
       "  </tbody>\n",
       "</table>\n",
       "</div>"
      ],
      "text/plain": [
       "                      Name  Type1   Type2  Generation\n",
       "Pokedex Number                                       \n",
       "1                bulbasaur  Grass  Poison         1.0\n",
       "2                  ivysaur  Grass  Poison         1.0\n",
       "3                 venusaur  Grass  Poison         1.0\n",
       "4               charmander   Fire     NaN         1.0\n",
       "5               charmeleon   Fire     NaN         1.0"
      ]
     },
     "execution_count": 105,
     "metadata": {},
     "output_type": "execute_result"
    }
   ],
   "source": [
    "df.head()"
   ]
  },
  {
   "cell_type": "code",
   "execution_count": 106,
   "metadata": {
    "ExecuteTime": {
     "end_time": "2020-08-11T16:10:24.066755Z",
     "start_time": "2020-08-11T16:10:24.053761Z"
    }
   },
   "outputs": [],
   "source": [
    "X = df_feat_color\n",
    "X['Generation'] = df['Generation'].astype(float)\n",
    "y = df_target_A\n",
    "\n",
    "X_train, X_val, y_train, y_val = model_selection.train_test_split(X, y,\n",
    "                                                            random_state=1)\n",
    "scaler = preprocessing.RobustScaler()\n",
    "X_train = scaler.fit_transform(X_train)\n",
    "X_val = scaler.transform(X_val)"
   ]
  },
  {
   "cell_type": "markdown",
   "metadata": {},
   "source": [
    "To make the analysis more comparable, we will use the same model for the different feature subsets."
   ]
  },
  {
   "cell_type": "code",
   "execution_count": 107,
   "metadata": {
    "ExecuteTime": {
     "end_time": "2020-08-11T16:10:26.627880Z",
     "start_time": "2020-08-11T16:10:24.067756Z"
    }
   },
   "outputs": [
    {
     "name": "stdout",
     "output_type": "stream",
     "text": [
      "Training ('Logistic Regression (L1)', LogisticRegression(C=1.0, class_weight=None, dual=False, fit_intercept=True,\n",
      "                   intercept_scaling=1, l1_ratio=None, max_iter=1000,\n",
      "                   multi_class='auto', n_jobs=-1, penalty='l1',\n",
      "                   random_state=None, solver='liblinear', tol=0.0001, verbose=0,\n",
      "                   warm_start=False), {'C': array([1.00000000e-05, 1.29154967e-04, 1.66810054e-03, 2.15443469e-02,\n",
      "       2.78255940e-01, 3.59381366e+00, 4.64158883e+01, 5.99484250e+02,\n",
      "       7.74263683e+03, 1.00000000e+05])})\n",
      "\n"
     ]
    }
   ],
   "source": [
    "models = {}\n",
    "for est in estimators[1:2]:\n",
    "    print(f'Training {est}\\n')\n",
    "    gs_cv = model_selection.GridSearchCV(est[1], param_grid=est[2], n_jobs=4)\n",
    "    gs_cv.fit(X_train, y_train)\n",
    "    models[est[0]] = gs_cv"
   ]
  },
  {
   "cell_type": "code",
   "execution_count": 108,
   "metadata": {
    "ExecuteTime": {
     "end_time": "2020-08-11T16:10:26.640845Z",
     "start_time": "2020-08-11T16:10:26.628876Z"
    }
   },
   "outputs": [],
   "source": [
    "cols = ['Machine Learning Method', 'Test Accuracy',\n",
    "        'Best Parameter', 'Top Predictor Variable']\n",
    "df_acc_prim_color = pd.DataFrame(columns=cols)\n",
    "\n",
    "for i, m in enumerate(models):\n",
    "    \n",
    "    try:\n",
    "        top_predictor = X.columns[\n",
    "            np.argmax(np.abs(models[m].best_estimator_.coef_).mean(axis=0))]\n",
    "\n",
    "    except AttributeError:\n",
    "        top_predictor = np.nan\n",
    "    \n",
    "    df_acc_prim_color.loc[i] = [m, \n",
    "                 models[m].best_estimator_.score(X_val, y_val),\n",
    "                 models[m].best_params_ ,\n",
    "                 top_predictor]"
   ]
  },
  {
   "cell_type": "code",
   "execution_count": 109,
   "metadata": {
    "ExecuteTime": {
     "end_time": "2020-08-11T16:10:26.648824Z",
     "start_time": "2020-08-11T16:10:26.641843Z"
    }
   },
   "outputs": [
    {
     "data": {
      "text/html": [
       "<div>\n",
       "<style scoped>\n",
       "    .dataframe tbody tr th:only-of-type {\n",
       "        vertical-align: middle;\n",
       "    }\n",
       "\n",
       "    .dataframe tbody tr th {\n",
       "        vertical-align: top;\n",
       "    }\n",
       "\n",
       "    .dataframe thead th {\n",
       "        text-align: right;\n",
       "    }\n",
       "</style>\n",
       "<table border=\"1\" class=\"dataframe\">\n",
       "  <thead>\n",
       "    <tr style=\"text-align: right;\">\n",
       "      <th></th>\n",
       "      <th>Machine Learning Method</th>\n",
       "      <th>Test Accuracy</th>\n",
       "      <th>Best Parameter</th>\n",
       "      <th>Top Predictor Variable</th>\n",
       "    </tr>\n",
       "  </thead>\n",
       "  <tbody>\n",
       "    <tr>\n",
       "      <th>0</th>\n",
       "      <td>Logistic Regression (L1)</td>\n",
       "      <td>0.256158</td>\n",
       "      <td>{'C': 599.4842503189421}</td>\n",
       "      <td>png</td>\n",
       "    </tr>\n",
       "  </tbody>\n",
       "</table>\n",
       "</div>"
      ],
      "text/plain": [
       "    Machine Learning Method  Test Accuracy            Best Parameter  \\\n",
       "0  Logistic Regression (L1)       0.256158  {'C': 599.4842503189421}   \n",
       "\n",
       "  Top Predictor Variable  \n",
       "0                    png  "
      ]
     },
     "execution_count": 109,
     "metadata": {},
     "output_type": "execute_result"
    }
   ],
   "source": [
    "df_acc_prim_color"
   ]
  },
  {
   "cell_type": "code",
   "execution_count": 110,
   "metadata": {
    "ExecuteTime": {
     "end_time": "2020-08-11T16:10:26.721679Z",
     "start_time": "2020-08-11T16:10:26.649822Z"
    }
   },
   "outputs": [],
   "source": [
    "cols = ['Machine Learning Method', 'Test Accuracy',\n",
    "        'Best Parameter', 'Top Predictor Variable']\n",
    "df_acc_prim_color_types = pd.DataFrame(columns=cols)\n",
    "\n",
    "# for i, m in enumerate(models):\n",
    "m = 'Logistic Regression (L1)'\n",
    "for i in df_target_A.value_counts().index[::-1]:\n",
    "    try:\n",
    "        top_predictor = dict(zip(X.columns, np.abs(models[m].best_estimator_.coef_).mean(axis=0)))\n",
    "\n",
    "    except AttributeError:\n",
    "        top_predictor = np.nan\n",
    "    \n",
    "    df_acc_prim_color_types.loc[i] = [m, \n",
    "                 models[m].best_estimator_.score(X_val[y_val==i], y_val[y_val==i]),\n",
    "                 models[m].best_params_ ,\n",
    "                 top_predictor]"
   ]
  },
  {
   "cell_type": "code",
   "execution_count": 111,
   "metadata": {
    "ExecuteTime": {
     "end_time": "2020-08-11T16:10:26.726651Z",
     "start_time": "2020-08-11T16:10:26.722660Z"
    }
   },
   "outputs": [
    {
     "data": {
      "text/plain": [
       "{'mean_r': 1.1604741401267666,\n",
       " 'mean_g': 1.7687725597116122,\n",
       " 'mean_b': 1.3968118486004508,\n",
       " 'mode_r': 0.6018755526150712,\n",
       " 'mode_g': 1.0195660683900658,\n",
       " 'mode_b': 1.0741450690455625,\n",
       " 'mode_freq_r': 0.4594121067813701,\n",
       " 'mode_freq_g': 0.4944337652792616,\n",
       " 'mode_freq_b': 1.2295899728734687,\n",
       " 'std_r': 0.9625086617491027,\n",
       " 'std_g': 0.9256276412039706,\n",
       " 'std_b': 0.3721836533037734,\n",
       " 'png': 3.813710067315665,\n",
       " 'Generation': 1.2157918434370218}"
      ]
     },
     "execution_count": 111,
     "metadata": {},
     "output_type": "execute_result"
    }
   ],
   "source": [
    "df_acc_prim_color_types['Top Predictor Variable']['Water']"
   ]
  },
  {
   "cell_type": "code",
   "execution_count": 112,
   "metadata": {
    "ExecuteTime": {
     "end_time": "2020-08-11T16:10:26.852330Z",
     "start_time": "2020-08-11T16:10:26.727614Z"
    }
   },
   "outputs": [
    {
     "data": {
      "text/plain": [
       "(-2.968341979445716, 2.968341979445716)"
      ]
     },
     "execution_count": 112,
     "metadata": {},
     "output_type": "execute_result"
    },
    {
     "data": {
      "image/png": "[encoded data removed]",
      "text/plain": [
       "<Figure size 432x288 with 1 Axes>"
      ]
     },
     "metadata": {
      "needs_background": "light"
     },
     "output_type": "display_data"
    }
   ],
   "source": [
    "coefs = models['Logistic Regression (L1)'].best_estimator_.coef_.mean(axis=0)\n",
    "plt.barh(df_feat_color.columns[np.argsort(coefs)], np.sort(coefs))\n",
    "plt.xlim(-max(abs(coefs)) -0.01, max(abs(coefs))+0.01)"
   ]
  },
  {
   "cell_type": "markdown",
   "metadata": {},
   "source": [
    "Interestingly, the top feature for the logistic regression is the file type of the image processed (PNG or JPG). As observed earlier, the PNG is for pokemons from Gen I to Gen VI while the filetype of the most recent Gen VII are all JPG. While this is not a color feature, it is interesting to see how it is a more significant feature than the colors (which could be attributed to the difference in style from the first generations to the last ones). Note that Gen VII is where Alolan pokemons are introduced, signifying a change in style which was captured by this model."
   ]
  },
  {
   "cell_type": "code",
   "execution_count": 113,
   "metadata": {
    "ExecuteTime": {
     "end_time": "2020-08-11T16:10:26.860294Z",
     "start_time": "2020-08-11T16:10:26.853278Z"
    }
   },
   "outputs": [
    {
     "data": {
      "text/html": [
       "<div>\n",
       "<style scoped>\n",
       "    .dataframe tbody tr th:only-of-type {\n",
       "        vertical-align: middle;\n",
       "    }\n",
       "\n",
       "    .dataframe tbody tr th {\n",
       "        vertical-align: top;\n",
       "    }\n",
       "\n",
       "    .dataframe thead th {\n",
       "        text-align: right;\n",
       "    }\n",
       "</style>\n",
       "<table border=\"1\" class=\"dataframe\">\n",
       "  <thead>\n",
       "    <tr style=\"text-align: right;\">\n",
       "      <th></th>\n",
       "      <th>Test Accuracy</th>\n",
       "    </tr>\n",
       "  </thead>\n",
       "  <tbody>\n",
       "    <tr>\n",
       "      <th>Flying</th>\n",
       "      <td>0.000000</td>\n",
       "    </tr>\n",
       "    <tr>\n",
       "      <th>Fairy</th>\n",
       "      <td>0.200000</td>\n",
       "    </tr>\n",
       "    <tr>\n",
       "      <th>Ice</th>\n",
       "      <td>0.285714</td>\n",
       "    </tr>\n",
       "    <tr>\n",
       "      <th>Steel</th>\n",
       "      <td>0.000000</td>\n",
       "    </tr>\n",
       "    <tr>\n",
       "      <th>Ghost</th>\n",
       "      <td>0.000000</td>\n",
       "    </tr>\n",
       "    <tr>\n",
       "      <th>Dragon</th>\n",
       "      <td>0.000000</td>\n",
       "    </tr>\n",
       "    <tr>\n",
       "      <th>Fighting</th>\n",
       "      <td>0.000000</td>\n",
       "    </tr>\n",
       "    <tr>\n",
       "      <th>Dark</th>\n",
       "      <td>0.400000</td>\n",
       "    </tr>\n",
       "    <tr>\n",
       "      <th>Ground</th>\n",
       "      <td>0.000000</td>\n",
       "    </tr>\n",
       "    <tr>\n",
       "      <th>Poison</th>\n",
       "      <td>0.500000</td>\n",
       "    </tr>\n",
       "    <tr>\n",
       "      <th>Electric</th>\n",
       "      <td>0.000000</td>\n",
       "    </tr>\n",
       "    <tr>\n",
       "      <th>Rock</th>\n",
       "      <td>0.000000</td>\n",
       "    </tr>\n",
       "    <tr>\n",
       "      <th>Fire</th>\n",
       "      <td>0.466667</td>\n",
       "    </tr>\n",
       "    <tr>\n",
       "      <th>Psychic</th>\n",
       "      <td>0.000000</td>\n",
       "    </tr>\n",
       "    <tr>\n",
       "      <th>Bug</th>\n",
       "      <td>0.111111</td>\n",
       "    </tr>\n",
       "    <tr>\n",
       "      <th>Grass</th>\n",
       "      <td>0.478261</td>\n",
       "    </tr>\n",
       "    <tr>\n",
       "      <th>Normal</th>\n",
       "      <td>0.307692</td>\n",
       "    </tr>\n",
       "    <tr>\n",
       "      <th>Water</th>\n",
       "      <td>0.607143</td>\n",
       "    </tr>\n",
       "  </tbody>\n",
       "</table>\n",
       "</div>"
      ],
      "text/plain": [
       "          Test Accuracy\n",
       "Flying         0.000000\n",
       "Fairy          0.200000\n",
       "Ice            0.285714\n",
       "Steel          0.000000\n",
       "Ghost          0.000000\n",
       "Dragon         0.000000\n",
       "Fighting       0.000000\n",
       "Dark           0.400000\n",
       "Ground         0.000000\n",
       "Poison         0.500000\n",
       "Electric       0.000000\n",
       "Rock           0.000000\n",
       "Fire           0.466667\n",
       "Psychic        0.000000\n",
       "Bug            0.111111\n",
       "Grass          0.478261\n",
       "Normal         0.307692\n",
       "Water          0.607143"
      ]
     },
     "execution_count": 113,
     "metadata": {},
     "output_type": "execute_result"
    }
   ],
   "source": [
    "df_acc_prim_color_types[['Test Accuracy']]"
   ]
  },
  {
   "cell_type": "code",
   "execution_count": 114,
   "metadata": {
    "ExecuteTime": {
     "end_time": "2020-08-11T16:10:26.894203Z",
     "start_time": "2020-08-11T16:10:26.861256Z"
    }
   },
   "outputs": [],
   "source": [
    "cols = ['Machine Learning Method', 'Test Accuracy',\n",
    "        'Best Parameter', 'Top Predictor Variable']\n",
    "df_acc_prim_color_gen = pd.DataFrame(columns=cols)\n",
    "gen_scaled = dict(zip(range(1, 8), np.unique(X_val[:, -1])))\n",
    "\n",
    "# for i, m in enumerate(models):\n",
    "m = 'Logistic Regression (L1)'\n",
    "\n",
    "for i in range(1,8):\n",
    "    try:\n",
    "        top_predictor = dict(zip(X.columns, np.abs(models[m].best_estimator_.coef_).mean(axis=0)))\n",
    "\n",
    "    except AttributeError:\n",
    "        top_predictor = np.nan\n",
    "    \n",
    "    df_acc_prim_color_gen.loc[i] = [m, \n",
    "                     models[m].best_estimator_.score(X_val[X_val[:, -1]==gen_scaled[i]], y_val[X_val[:, -1]==gen_scaled[i]]),\n",
    "                     models[m].best_params_ ,\n",
    "                     top_predictor]"
   ]
  },
  {
   "cell_type": "code",
   "execution_count": 115,
   "metadata": {
    "ExecuteTime": {
     "end_time": "2020-08-11T16:10:26.904189Z",
     "start_time": "2020-08-11T16:10:26.895166Z"
    }
   },
   "outputs": [
    {
     "data": {
      "text/html": [
       "<div>\n",
       "<style scoped>\n",
       "    .dataframe tbody tr th:only-of-type {\n",
       "        vertical-align: middle;\n",
       "    }\n",
       "\n",
       "    .dataframe tbody tr th {\n",
       "        vertical-align: top;\n",
       "    }\n",
       "\n",
       "    .dataframe thead th {\n",
       "        text-align: right;\n",
       "    }\n",
       "</style>\n",
       "<table border=\"1\" class=\"dataframe\">\n",
       "  <thead>\n",
       "    <tr style=\"text-align: right;\">\n",
       "      <th></th>\n",
       "      <th>Test Accuracy</th>\n",
       "    </tr>\n",
       "    <tr>\n",
       "      <th>Generation</th>\n",
       "      <th></th>\n",
       "    </tr>\n",
       "  </thead>\n",
       "  <tbody>\n",
       "    <tr>\n",
       "      <th>I</th>\n",
       "      <td>0.342105</td>\n",
       "    </tr>\n",
       "    <tr>\n",
       "      <th>II</th>\n",
       "      <td>0.409091</td>\n",
       "    </tr>\n",
       "    <tr>\n",
       "      <th>III</th>\n",
       "      <td>0.212121</td>\n",
       "    </tr>\n",
       "    <tr>\n",
       "      <th>IV</th>\n",
       "      <td>0.125000</td>\n",
       "    </tr>\n",
       "    <tr>\n",
       "      <th>V</th>\n",
       "      <td>0.250000</td>\n",
       "    </tr>\n",
       "    <tr>\n",
       "      <th>VI</th>\n",
       "      <td>0.190476</td>\n",
       "    </tr>\n",
       "    <tr>\n",
       "      <th>VII</th>\n",
       "      <td>0.238095</td>\n",
       "    </tr>\n",
       "  </tbody>\n",
       "</table>\n",
       "</div>"
      ],
      "text/plain": [
       "            Test Accuracy\n",
       "Generation               \n",
       "I                0.342105\n",
       "II               0.409091\n",
       "III              0.212121\n",
       "IV               0.125000\n",
       "V                0.250000\n",
       "VI               0.190476\n",
       "VII              0.238095"
      ]
     },
     "execution_count": 115,
     "metadata": {},
     "output_type": "execute_result"
    }
   ],
   "source": [
    "df_acc_prim_color_gen['Generation'] = ['I', 'II', 'III', 'IV', 'V', 'VI', 'VII']\n",
    "df_acc_prim_color_gen.set_index('Generation', inplace=True)\n",
    "df_acc_prim_color_gen[['Test Accuracy']]"
   ]
  },
  {
   "cell_type": "markdown",
   "metadata": {},
   "source": [
    "#### Size features only"
   ]
  },
  {
   "cell_type": "code",
   "execution_count": 116,
   "metadata": {
    "ExecuteTime": {
     "end_time": "2020-08-11T16:10:26.917107Z",
     "start_time": "2020-08-11T16:10:26.905140Z"
    }
   },
   "outputs": [],
   "source": [
    "cl1 = KNeighborsClassifier(n_jobs=-1)\n",
    "cl2 = LogisticRegression(penalty='l1', max_iter=1000,\n",
    "                         solver='liblinear', n_jobs=-1)\n",
    "cl3 = LogisticRegression(penalty='l2', max_iter=1000, n_jobs=-1)\n",
    "cl4 = LinearSVC(penalty='l1', dual=False, max_iter=10000)\n",
    "cl5 = LinearSVC(penalty='l2', max_iter=10000)\n",
    "cl6 = SVC(kernel='rbf', )\n",
    "cl7 = SVC(kernel='poly', degree=3)\n",
    "cl8 = DecisionTreeClassifier()\n",
    "cl9 = RandomForestClassifier(max_features='sqrt')\n",
    "cl10 = GradientBoostingClassifier()\n",
    "kneighbors = range(1, 31)\n",
    "C_list = np.logspace(-5, 5, num=10)\n",
    "gamma_list = np.logspace(-5, 5, num=10)\n",
    "\n",
    "estimators = [('KNN', cl1, {'n_neighbors':kneighbors}),\n",
    "              ('Logistic Regression (L1)', cl2, {'C':C_list}),\n",
    "              ('Logistic Regression (L2)', cl3, {'C':C_list}),\n",
    "              ('Linear SVM (L1)', cl4, {'C':C_list}),\n",
    "              ('Linear SVM (L2)', cl5, {'C':C_list}),\n",
    "              ('NonLinear SVM (RBF)', cl6, {'C':C_list,\n",
    "                                            'gamma':gamma_list}),\n",
    "              ('NonLinear SVM (Poly)', cl7, {'C':C_list,\n",
    "                                             'gamma':gamma_list}),\n",
    "              ('Decision Tree', cl8, {'max_depth':range(1,11),\n",
    "                                      'criterion':['gini', 'entropy']}),\n",
    "              ('Random Forest', cl9, {'max_depth':range(1,4),\n",
    "                                      'n_estimators':range(10,101,10),\n",
    "                                      'criterion':['gini', 'entropy']}),\n",
    "              ('GBM', cl10, {'max_depth':range(1,4),\n",
    "                            'n_estimators':range(10,101,10),\n",
    "                            'learning_rate':np.arange(0.1,1.01,0.1)})]"
   ]
  },
  {
   "cell_type": "code",
   "execution_count": 117,
   "metadata": {
    "ExecuteTime": {
     "end_time": "2020-08-11T16:10:26.931069Z",
     "start_time": "2020-08-11T16:10:26.920100Z"
    }
   },
   "outputs": [],
   "source": [
    "X = df_feat_size\n",
    "X['Generation'] = df['Generation'].astype(float)\n",
    "y = df_target_A\n",
    "\n",
    "X_train, X_val, y_train, y_val = model_selection.train_test_split(X, y,\n",
    "                                                            random_state=1)\n",
    "scaler = preprocessing.RobustScaler()\n",
    "X_train = scaler.fit_transform(X_train)\n",
    "X_val = scaler.transform(X_val)"
   ]
  },
  {
   "cell_type": "code",
   "execution_count": 118,
   "metadata": {
    "ExecuteTime": {
     "end_time": "2020-08-11T16:10:29.452330Z",
     "start_time": "2020-08-11T16:10:26.933096Z"
    }
   },
   "outputs": [
    {
     "name": "stdout",
     "output_type": "stream",
     "text": [
      "Training ('Logistic Regression (L1)', LogisticRegression(C=1.0, class_weight=None, dual=False, fit_intercept=True,\n",
      "                   intercept_scaling=1, l1_ratio=None, max_iter=1000,\n",
      "                   multi_class='auto', n_jobs=-1, penalty='l1',\n",
      "                   random_state=None, solver='liblinear', tol=0.0001, verbose=0,\n",
      "                   warm_start=False), {'C': array([1.00000000e-05, 1.29154967e-04, 1.66810054e-03, 2.15443469e-02,\n",
      "       2.78255940e-01, 3.59381366e+00, 4.64158883e+01, 5.99484250e+02,\n",
      "       7.74263683e+03, 1.00000000e+05])})\n",
      "\n"
     ]
    }
   ],
   "source": [
    "models = {}\n",
    "for est in estimators[1:2]:\n",
    "    print(f'Training {est}\\n')\n",
    "    gs_cv = model_selection.GridSearchCV(est[1], param_grid=est[2], n_jobs=4)\n",
    "    gs_cv.fit(X_train, y_train)\n",
    "    models[est[0]] = gs_cv"
   ]
  },
  {
   "cell_type": "code",
   "execution_count": 119,
   "metadata": {
    "ExecuteTime": {
     "end_time": "2020-08-11T16:10:29.464298Z",
     "start_time": "2020-08-11T16:10:29.453328Z"
    }
   },
   "outputs": [],
   "source": [
    "cols = ['Machine Learning Method', 'Test Accuracy',\n",
    "        'Best Parameter', 'Top Predictor Variable']\n",
    "df_acc_prim_size = pd.DataFrame(columns=cols)\n",
    "\n",
    "for i, m in enumerate(models):\n",
    "    \n",
    "    try:\n",
    "        top_predictor = X.columns[\n",
    "            np.argmax(np.abs(models[m].best_estimator_.coef_).mean(axis=0))]\n",
    "\n",
    "    except AttributeError:\n",
    "        top_predictor = np.nan\n",
    "    \n",
    "    df_acc_prim_size.loc[i] = [m, \n",
    "                 models[m].best_estimator_.score(X_val, y_val),\n",
    "                 models[m].best_params_ ,\n",
    "                 top_predictor]"
   ]
  },
  {
   "cell_type": "code",
   "execution_count": 120,
   "metadata": {
    "ExecuteTime": {
     "end_time": "2020-08-11T16:10:29.473274Z",
     "start_time": "2020-08-11T16:10:29.465295Z"
    }
   },
   "outputs": [
    {
     "data": {
      "text/html": [
       "<div>\n",
       "<style scoped>\n",
       "    .dataframe tbody tr th:only-of-type {\n",
       "        vertical-align: middle;\n",
       "    }\n",
       "\n",
       "    .dataframe tbody tr th {\n",
       "        vertical-align: top;\n",
       "    }\n",
       "\n",
       "    .dataframe thead th {\n",
       "        text-align: right;\n",
       "    }\n",
       "</style>\n",
       "<table border=\"1\" class=\"dataframe\">\n",
       "  <thead>\n",
       "    <tr style=\"text-align: right;\">\n",
       "      <th></th>\n",
       "      <th>Machine Learning Method</th>\n",
       "      <th>Test Accuracy</th>\n",
       "      <th>Best Parameter</th>\n",
       "      <th>Top Predictor Variable</th>\n",
       "    </tr>\n",
       "  </thead>\n",
       "  <tbody>\n",
       "    <tr>\n",
       "      <th>0</th>\n",
       "      <td>Logistic Regression (L1)</td>\n",
       "      <td>0.152709</td>\n",
       "      <td>{'C': 0.2782559402207126}</td>\n",
       "      <td>mean_length</td>\n",
       "    </tr>\n",
       "  </tbody>\n",
       "</table>\n",
       "</div>"
      ],
      "text/plain": [
       "    Machine Learning Method  Test Accuracy             Best Parameter  \\\n",
       "0  Logistic Regression (L1)       0.152709  {'C': 0.2782559402207126}   \n",
       "\n",
       "  Top Predictor Variable  \n",
       "0            mean_length  "
      ]
     },
     "execution_count": 120,
     "metadata": {},
     "output_type": "execute_result"
    }
   ],
   "source": [
    "df_acc_prim_size"
   ]
  },
  {
   "cell_type": "code",
   "execution_count": 121,
   "metadata": {
    "ExecuteTime": {
     "end_time": "2020-08-11T16:10:29.580035Z",
     "start_time": "2020-08-11T16:10:29.474272Z"
    }
   },
   "outputs": [
    {
     "data": {
      "text/plain": [
       "(-0.03220882422820588, 0.03220882422820588)"
      ]
     },
     "execution_count": 121,
     "metadata": {},
     "output_type": "execute_result"
    },
    {
     "data": {
      "image/png": "[encoded data removed]",
      "text/plain": [
       "<Figure size 432x288 with 1 Axes>"
      ]
     },
     "metadata": {
      "needs_background": "light"
     },
     "output_type": "display_data"
    }
   ],
   "source": [
    "coefs = models['Logistic Regression (L1)'].best_estimator_.coef_.mean(axis=0)\n",
    "plt.barh(df_feat_size.columns[np.argsort(coefs)], np.sort(coefs))\n",
    "plt.xlim(-max(abs(coefs)) -0.01, max(abs(coefs))+0.01)"
   ]
  },
  {
   "cell_type": "code",
   "execution_count": 122,
   "metadata": {
    "ExecuteTime": {
     "end_time": "2020-08-11T16:10:29.653822Z",
     "start_time": "2020-08-11T16:10:29.580988Z"
    }
   },
   "outputs": [],
   "source": [
    "cols = ['Machine Learning Method', 'Test Accuracy',\n",
    "        'Best Parameter', 'Top Predictor Variable']\n",
    "df_acc_prim_size_types = pd.DataFrame(columns=cols)\n",
    "\n",
    "# for i, m in enumerate(models):\n",
    "m = 'Logistic Regression (L1)'\n",
    "for i in df_target_A.value_counts().index[::-1]:\n",
    "    try:\n",
    "        top_predictor = dict(zip(X.columns, np.abs(models[m].best_estimator_.coef_).mean(axis=0)))\n",
    "\n",
    "    except AttributeError:\n",
    "        top_predictor = np.nan\n",
    "    \n",
    "    df_acc_prim_size_types.loc[i] = [m, \n",
    "                 models[m].best_estimator_.score(X_val[y_val==i], y_val[y_val==i]),\n",
    "                 models[m].best_params_ ,\n",
    "                 top_predictor]"
   ]
  },
  {
   "cell_type": "code",
   "execution_count": 123,
   "metadata": {
    "ExecuteTime": {
     "end_time": "2020-08-11T16:10:29.661802Z",
     "start_time": "2020-08-11T16:10:29.654789Z"
    }
   },
   "outputs": [
    {
     "data": {
      "text/html": [
       "<div>\n",
       "<style scoped>\n",
       "    .dataframe tbody tr th:only-of-type {\n",
       "        vertical-align: middle;\n",
       "    }\n",
       "\n",
       "    .dataframe tbody tr th {\n",
       "        vertical-align: top;\n",
       "    }\n",
       "\n",
       "    .dataframe thead th {\n",
       "        text-align: right;\n",
       "    }\n",
       "</style>\n",
       "<table border=\"1\" class=\"dataframe\">\n",
       "  <thead>\n",
       "    <tr style=\"text-align: right;\">\n",
       "      <th></th>\n",
       "      <th>Test Accuracy</th>\n",
       "    </tr>\n",
       "  </thead>\n",
       "  <tbody>\n",
       "    <tr>\n",
       "      <th>Flying</th>\n",
       "      <td>0.000000</td>\n",
       "    </tr>\n",
       "    <tr>\n",
       "      <th>Fairy</th>\n",
       "      <td>0.000000</td>\n",
       "    </tr>\n",
       "    <tr>\n",
       "      <th>Ice</th>\n",
       "      <td>0.000000</td>\n",
       "    </tr>\n",
       "    <tr>\n",
       "      <th>Steel</th>\n",
       "      <td>0.000000</td>\n",
       "    </tr>\n",
       "    <tr>\n",
       "      <th>Ghost</th>\n",
       "      <td>0.000000</td>\n",
       "    </tr>\n",
       "    <tr>\n",
       "      <th>Dragon</th>\n",
       "      <td>0.000000</td>\n",
       "    </tr>\n",
       "    <tr>\n",
       "      <th>Fighting</th>\n",
       "      <td>0.000000</td>\n",
       "    </tr>\n",
       "    <tr>\n",
       "      <th>Dark</th>\n",
       "      <td>0.000000</td>\n",
       "    </tr>\n",
       "    <tr>\n",
       "      <th>Ground</th>\n",
       "      <td>0.000000</td>\n",
       "    </tr>\n",
       "    <tr>\n",
       "      <th>Poison</th>\n",
       "      <td>0.000000</td>\n",
       "    </tr>\n",
       "    <tr>\n",
       "      <th>Electric</th>\n",
       "      <td>0.000000</td>\n",
       "    </tr>\n",
       "    <tr>\n",
       "      <th>Rock</th>\n",
       "      <td>0.000000</td>\n",
       "    </tr>\n",
       "    <tr>\n",
       "      <th>Fire</th>\n",
       "      <td>0.000000</td>\n",
       "    </tr>\n",
       "    <tr>\n",
       "      <th>Psychic</th>\n",
       "      <td>0.000000</td>\n",
       "    </tr>\n",
       "    <tr>\n",
       "      <th>Bug</th>\n",
       "      <td>0.111111</td>\n",
       "    </tr>\n",
       "    <tr>\n",
       "      <th>Grass</th>\n",
       "      <td>0.000000</td>\n",
       "    </tr>\n",
       "    <tr>\n",
       "      <th>Normal</th>\n",
       "      <td>0.615385</td>\n",
       "    </tr>\n",
       "    <tr>\n",
       "      <th>Water</th>\n",
       "      <td>0.500000</td>\n",
       "    </tr>\n",
       "  </tbody>\n",
       "</table>\n",
       "</div>"
      ],
      "text/plain": [
       "          Test Accuracy\n",
       "Flying         0.000000\n",
       "Fairy          0.000000\n",
       "Ice            0.000000\n",
       "Steel          0.000000\n",
       "Ghost          0.000000\n",
       "Dragon         0.000000\n",
       "Fighting       0.000000\n",
       "Dark           0.000000\n",
       "Ground         0.000000\n",
       "Poison         0.000000\n",
       "Electric       0.000000\n",
       "Rock           0.000000\n",
       "Fire           0.000000\n",
       "Psychic        0.000000\n",
       "Bug            0.111111\n",
       "Grass          0.000000\n",
       "Normal         0.615385\n",
       "Water          0.500000"
      ]
     },
     "execution_count": 123,
     "metadata": {},
     "output_type": "execute_result"
    }
   ],
   "source": [
    "df_acc_prim_size_types[['Test Accuracy']]"
   ]
  },
  {
   "cell_type": "code",
   "execution_count": 124,
   "metadata": {
    "ExecuteTime": {
     "end_time": "2020-08-11T16:10:29.692730Z",
     "start_time": "2020-08-11T16:10:29.662768Z"
    }
   },
   "outputs": [],
   "source": [
    "cols = ['Machine Learning Method', 'Test Accuracy',\n",
    "        'Best Parameter', 'Top Predictor Variable']\n",
    "df_acc_prim_size_gen = pd.DataFrame(columns=cols)\n",
    "gen_scaled = dict(zip(range(1, 8), np.unique(X_val[:, -1])))\n",
    "\n",
    "# for i, m in enumerate(models):\n",
    "m = 'Logistic Regression (L1)'\n",
    "\n",
    "for i in range(1,8):\n",
    "    try:\n",
    "        top_predictor = dict(zip(X.columns, np.abs(models[m].best_estimator_.coef_).mean(axis=0)))\n",
    "\n",
    "    except AttributeError:\n",
    "        top_predictor = np.nan\n",
    "    \n",
    "    df_acc_prim_size_gen.loc[i] = [m, \n",
    "                     models[m].best_estimator_.score(X_val[X_val[:, -1]==gen_scaled[i]], y_val[X_val[:, -1]==gen_scaled[i]]),\n",
    "                     models[m].best_params_ ,\n",
    "                     top_predictor]"
   ]
  },
  {
   "cell_type": "code",
   "execution_count": 125,
   "metadata": {
    "ExecuteTime": {
     "end_time": "2020-08-11T16:10:29.701695Z",
     "start_time": "2020-08-11T16:10:29.693686Z"
    }
   },
   "outputs": [
    {
     "data": {
      "text/plain": [
       "{'size': 0.04273329086995648,\n",
       " 'mean_width': 0.0570165363069099,\n",
       " 'mode_width': 0.03463092006413958,\n",
       " 'std_width': 0.015373512513715583,\n",
       " 'mean_length': 0.08742663603608632,\n",
       " 'mode_length': 0.06474750125990256,\n",
       " 'std_length': 0.04224160384381795,\n",
       " 'Generation': 0.03413330599241739}"
      ]
     },
     "execution_count": 125,
     "metadata": {},
     "output_type": "execute_result"
    }
   ],
   "source": [
    "df_acc_prim_size_gen['Top Predictor Variable'][1]"
   ]
  },
  {
   "cell_type": "code",
   "execution_count": 126,
   "metadata": {
    "ExecuteTime": {
     "end_time": "2020-08-11T16:10:29.713681Z",
     "start_time": "2020-08-11T16:10:29.702660Z"
    }
   },
   "outputs": [
    {
     "data": {
      "text/html": [
       "<div>\n",
       "<style scoped>\n",
       "    .dataframe tbody tr th:only-of-type {\n",
       "        vertical-align: middle;\n",
       "    }\n",
       "\n",
       "    .dataframe tbody tr th {\n",
       "        vertical-align: top;\n",
       "    }\n",
       "\n",
       "    .dataframe thead th {\n",
       "        text-align: right;\n",
       "    }\n",
       "</style>\n",
       "<table border=\"1\" class=\"dataframe\">\n",
       "  <thead>\n",
       "    <tr style=\"text-align: right;\">\n",
       "      <th></th>\n",
       "      <th>Test Accuracy</th>\n",
       "    </tr>\n",
       "    <tr>\n",
       "      <th>Generation</th>\n",
       "      <th></th>\n",
       "    </tr>\n",
       "  </thead>\n",
       "  <tbody>\n",
       "    <tr>\n",
       "      <th>I</th>\n",
       "      <td>0.263158</td>\n",
       "    </tr>\n",
       "    <tr>\n",
       "      <th>II</th>\n",
       "      <td>0.136364</td>\n",
       "    </tr>\n",
       "    <tr>\n",
       "      <th>III</th>\n",
       "      <td>0.181818</td>\n",
       "    </tr>\n",
       "    <tr>\n",
       "      <th>IV</th>\n",
       "      <td>0.166667</td>\n",
       "    </tr>\n",
       "    <tr>\n",
       "      <th>V</th>\n",
       "      <td>0.136364</td>\n",
       "    </tr>\n",
       "    <tr>\n",
       "      <th>VI</th>\n",
       "      <td>0.047619</td>\n",
       "    </tr>\n",
       "    <tr>\n",
       "      <th>VII</th>\n",
       "      <td>0.047619</td>\n",
       "    </tr>\n",
       "  </tbody>\n",
       "</table>\n",
       "</div>"
      ],
      "text/plain": [
       "            Test Accuracy\n",
       "Generation               \n",
       "I                0.263158\n",
       "II               0.136364\n",
       "III              0.181818\n",
       "IV               0.166667\n",
       "V                0.136364\n",
       "VI               0.047619\n",
       "VII              0.047619"
      ]
     },
     "execution_count": 126,
     "metadata": {},
     "output_type": "execute_result"
    }
   ],
   "source": [
    "df_acc_prim_size_gen['Generation'] = ['I', 'II', 'III', 'IV', 'V', 'VI', 'VII']\n",
    "df_acc_prim_size_gen.set_index('Generation', inplace=True)\n",
    "df_acc_prim_size_gen[['Test Accuracy']]"
   ]
  },
  {
   "cell_type": "markdown",
   "metadata": {},
   "source": [
    "<a id=\"imb-sec\"></a>\n",
    "\n",
    "### Secondary Type only"
   ]
  },
  {
   "cell_type": "markdown",
   "metadata": {},
   "source": [
    "#### Combined features"
   ]
  },
  {
   "cell_type": "code",
   "execution_count": 127,
   "metadata": {
    "ExecuteTime": {
     "end_time": "2020-08-11T16:10:29.733611Z",
     "start_time": "2020-08-11T16:10:29.714628Z"
    }
   },
   "outputs": [],
   "source": [
    "import pandas as pd\n",
    "import numpy as np\n",
    "import matplotlib as mpl\n",
    "import matplotlib.pyplot as plt\n",
    "import seaborn as sns\n",
    "\n",
    "from warnings import filterwarnings\n",
    "filterwarnings('ignore')\n",
    "\n",
    "import importlib\n",
    "\n",
    "from sklearn import model_selection, preprocessing\n",
    "from sklearn.linear_model import LogisticRegression\n",
    "from sklearn.neighbors import KNeighborsClassifier\n",
    "from sklearn.svm import LinearSVC, SVC\n",
    "from sklearn.tree import DecisionTreeClassifier\n",
    "from sklearn.ensemble import RandomForestClassifier\n",
    "from sklearn.ensemble import GradientBoostingClassifier\n"
   ]
  },
  {
   "cell_type": "code",
   "execution_count": 128,
   "metadata": {
    "ExecuteTime": {
     "end_time": "2020-08-11T16:10:29.745584Z",
     "start_time": "2020-08-11T16:10:29.734609Z"
    }
   },
   "outputs": [],
   "source": [
    "df_target_B = df['Type2']\n",
    "df_target_B[df_target_B.isnull()] = df['Type1'][df_target_B.isnull()]"
   ]
  },
  {
   "cell_type": "code",
   "execution_count": 129,
   "metadata": {
    "ExecuteTime": {
     "end_time": "2020-08-11T16:10:29.886217Z",
     "start_time": "2020-08-11T16:10:29.746543Z"
    }
   },
   "outputs": [
    {
     "data": {
      "text/plain": [
       "Text(0.5, 0, 'Count')"
      ]
     },
     "execution_count": 129,
     "metadata": {},
     "output_type": "execute_result"
    },
    {
     "data": {
      "image/png": "[encoded data removed]",
      "text/plain": [
       "<Figure size 432x288 with 1 Axes>"
      ]
     },
     "metadata": {
      "needs_background": "light"
     },
     "output_type": "display_data"
    }
   ],
   "source": [
    "df_target_B.value_counts()[::-1].plot.barh()\n",
    "plt.xlabel('Count')"
   ]
  },
  {
   "cell_type": "code",
   "execution_count": 130,
   "metadata": {
    "ExecuteTime": {
     "end_time": "2020-08-11T16:10:29.892155Z",
     "start_time": "2020-08-11T16:10:29.887169Z"
    }
   },
   "outputs": [
    {
     "name": "stdout",
     "output_type": "stream",
     "text": [
      "1.25 x PCC = 8.38%\n"
     ]
    }
   ],
   "source": [
    "print(f'1.25 x PCC = {125*((df_target_B.value_counts() / df_target_B.count())**2).sum():.2f}%')"
   ]
  },
  {
   "cell_type": "code",
   "execution_count": 131,
   "metadata": {
    "ExecuteTime": {
     "end_time": "2020-08-11T16:10:29.904161Z",
     "start_time": "2020-08-11T16:10:29.893178Z"
    }
   },
   "outputs": [],
   "source": [
    "cl1 = KNeighborsClassifier(n_jobs=-1)\n",
    "cl2 = LogisticRegression(penalty='l1', max_iter=1000,\n",
    "                         solver='liblinear', n_jobs=-1)\n",
    "cl3 = LogisticRegression(penalty='l2', max_iter=1000, n_jobs=-1)\n",
    "cl4 = LinearSVC(penalty='l1', dual=False, max_iter=10000)\n",
    "cl5 = LinearSVC(penalty='l2', max_iter=10000)\n",
    "cl6 = SVC(kernel='rbf', )\n",
    "cl7 = SVC(kernel='poly', degree=3)\n",
    "cl8 = DecisionTreeClassifier()\n",
    "cl9 = RandomForestClassifier(max_features='sqrt')\n",
    "cl10 = GradientBoostingClassifier()\n",
    "kneighbors = range(1, 31)\n",
    "C_list = np.logspace(-5, 5, num=10)\n",
    "gamma_list = np.logspace(-5, 5, num=10)\n",
    "\n",
    "estimators = [('KNN', cl1, {'n_neighbors':kneighbors}),\n",
    "              ('Logistic Regression (L1)', cl2, {'C':C_list}),\n",
    "              ('Logistic Regression (L2)', cl3, {'C':C_list}),\n",
    "              ('Linear SVM (L1)', cl4, {'C':C_list}),\n",
    "              ('Linear SVM (L2)', cl5, {'C':C_list}),\n",
    "              ('NonLinear SVM (RBF)', cl6, {'C':C_list,\n",
    "                                            'gamma':gamma_list}),\n",
    "              ('NonLinear SVM (Poly)', cl7, {'C':C_list,\n",
    "                                             'gamma':gamma_list}),\n",
    "              ('Decision Tree', cl8, {'max_depth':range(1,11),\n",
    "                                      'criterion':['gini', 'entropy']}),\n",
    "              ('Random Forest', cl9, {'max_depth':range(1,4),\n",
    "                                      'n_estimators':range(10,101,10),\n",
    "                                      'criterion':['gini', 'entropy']}),\n",
    "              ('GBM', cl10, {'max_depth':range(1,4),\n",
    "                            'n_estimators':range(10,101,10),\n",
    "                            'learning_rate':np.arange(0.1,1.01,0.1)})]"
   ]
  },
  {
   "cell_type": "code",
   "execution_count": 132,
   "metadata": {
    "ExecuteTime": {
     "end_time": "2020-08-11T16:10:29.918131Z",
     "start_time": "2020-08-11T16:10:29.905120Z"
    }
   },
   "outputs": [],
   "source": [
    "X = df_feat.astype(float)\n",
    "y = df_target_B\n",
    "\n",
    "X_train, X_val, y_train, y_val = model_selection.train_test_split(X, y,\n",
    "                                                            random_state=1)\n",
    "scaler = preprocessing.RobustScaler()\n",
    "X_train = scaler.fit_transform(X_train)\n",
    "X_val = scaler.transform(X_val)"
   ]
  },
  {
   "cell_type": "code",
   "execution_count": 133,
   "metadata": {
    "ExecuteTime": {
     "end_time": "2020-08-11T16:10:32.971922Z",
     "start_time": "2020-08-11T16:10:29.919109Z"
    }
   },
   "outputs": [
    {
     "name": "stdout",
     "output_type": "stream",
     "text": [
      "Training ('Logistic Regression (L1)', LogisticRegression(C=1.0, class_weight=None, dual=False, fit_intercept=True,\n",
      "                   intercept_scaling=1, l1_ratio=None, max_iter=1000,\n",
      "                   multi_class='auto', n_jobs=-1, penalty='l1',\n",
      "                   random_state=None, solver='liblinear', tol=0.0001, verbose=0,\n",
      "                   warm_start=False), {'C': array([1.00000000e-05, 1.29154967e-04, 1.66810054e-03, 2.15443469e-02,\n",
      "       2.78255940e-01, 3.59381366e+00, 4.64158883e+01, 5.99484250e+02,\n",
      "       7.74263683e+03, 1.00000000e+05])})\n",
      "\n"
     ]
    }
   ],
   "source": [
    "models = {}\n",
    "for est in estimators[1:2]:\n",
    "    print(f'Training {est}\\n')\n",
    "    gs_cv = model_selection.GridSearchCV(est[1], param_grid=est[2], n_jobs=4)\n",
    "    gs_cv.fit(X_train, y_train)\n",
    "    models[est[0]] = gs_cv"
   ]
  },
  {
   "cell_type": "code",
   "execution_count": 134,
   "metadata": {
    "ExecuteTime": {
     "end_time": "2020-08-11T16:10:32.984885Z",
     "start_time": "2020-08-11T16:10:32.972919Z"
    }
   },
   "outputs": [],
   "source": [
    "cols = ['Machine Learning Method', 'Test Accuracy',\n",
    "        'Best Parameter', 'Top Predictor Variable']\n",
    "df_acc_sec_all = pd.DataFrame(columns=cols)\n",
    "\n",
    "for i, m in enumerate(models):\n",
    "    \n",
    "    try:\n",
    "        top_predictor = X.columns[\n",
    "            np.argmax(np.abs(models[m].best_estimator_.coef_).mean(axis=0))]\n",
    "\n",
    "    except AttributeError:\n",
    "        top_predictor = np.nan\n",
    "    \n",
    "    df_acc_sec_all.loc[i] = [m, \n",
    "                 models[m].best_estimator_.score(X_val, y_val),\n",
    "                 models[m].best_params_ ,\n",
    "                 top_predictor]"
   ]
  },
  {
   "cell_type": "code",
   "execution_count": 135,
   "metadata": {
    "ExecuteTime": {
     "end_time": "2020-08-11T16:10:32.997851Z",
     "start_time": "2020-08-11T16:10:32.986881Z"
    },
    "scrolled": true
   },
   "outputs": [
    {
     "data": {
      "text/html": [
       "<div>\n",
       "<style scoped>\n",
       "    .dataframe tbody tr th:only-of-type {\n",
       "        vertical-align: middle;\n",
       "    }\n",
       "\n",
       "    .dataframe tbody tr th {\n",
       "        vertical-align: top;\n",
       "    }\n",
       "\n",
       "    .dataframe thead th {\n",
       "        text-align: right;\n",
       "    }\n",
       "</style>\n",
       "<table border=\"1\" class=\"dataframe\">\n",
       "  <thead>\n",
       "    <tr style=\"text-align: right;\">\n",
       "      <th></th>\n",
       "      <th>Machine Learning Method</th>\n",
       "      <th>Test Accuracy</th>\n",
       "      <th>Best Parameter</th>\n",
       "      <th>Top Predictor Variable</th>\n",
       "    </tr>\n",
       "  </thead>\n",
       "  <tbody>\n",
       "    <tr>\n",
       "      <th>0</th>\n",
       "      <td>Logistic Regression (L1)</td>\n",
       "      <td>0.236453</td>\n",
       "      <td>{'C': 46.41588833612782}</td>\n",
       "      <td>png</td>\n",
       "    </tr>\n",
       "  </tbody>\n",
       "</table>\n",
       "</div>"
      ],
      "text/plain": [
       "    Machine Learning Method  Test Accuracy            Best Parameter  \\\n",
       "0  Logistic Regression (L1)       0.236453  {'C': 46.41588833612782}   \n",
       "\n",
       "  Top Predictor Variable  \n",
       "0                    png  "
      ]
     },
     "execution_count": 135,
     "metadata": {},
     "output_type": "execute_result"
    }
   ],
   "source": [
    "df_acc_sec_all"
   ]
  },
  {
   "cell_type": "code",
   "execution_count": 136,
   "metadata": {
    "ExecuteTime": {
     "end_time": "2020-08-11T16:10:33.210284Z",
     "start_time": "2020-08-11T16:10:32.999846Z"
    }
   },
   "outputs": [
    {
     "data": {
      "text/plain": [
       "(-0.8798309186889557, 0.8798309186889557)"
      ]
     },
     "execution_count": 136,
     "metadata": {},
     "output_type": "execute_result"
    },
    {
     "data": {
      "image/png": "[encoded data removed]",
      "text/plain": [
       "<Figure size 432x288 with 1 Axes>"
      ]
     },
     "metadata": {
      "needs_background": "light"
     },
     "output_type": "display_data"
    }
   ],
   "source": [
    "coefs = models['Logistic Regression (L1)'].best_estimator_.coef_.mean(axis=0)\n",
    "plt.barh(df_feat.columns[np.argsort(coefs)], np.sort(coefs))\n",
    "plt.xlim(-max(abs(coefs)) -0.01, max(abs(coefs))+0.01)"
   ]
  },
  {
   "cell_type": "code",
   "execution_count": 137,
   "metadata": {
    "ExecuteTime": {
     "end_time": "2020-08-11T16:10:33.283089Z",
     "start_time": "2020-08-11T16:10:33.211281Z"
    }
   },
   "outputs": [],
   "source": [
    "cols = ['Machine Learning Method', 'Test Accuracy',\n",
    "        'Best Parameter', 'Top Predictor Variable']\n",
    "df_acc_sec_all_types = pd.DataFrame(columns=cols)\n",
    "\n",
    "# for i, m in enumerate(models):\n",
    "m = 'Logistic Regression (L1)'\n",
    "for i in df_target_B.value_counts().index[::-1]:\n",
    "    try:\n",
    "        top_predictor = dict(zip(X.columns, np.abs(models[m].best_estimator_.coef_).mean(axis=0)))\n",
    "\n",
    "    except AttributeError:\n",
    "        top_predictor = np.nan\n",
    "    \n",
    "    df_acc_sec_all_types.loc[i] = [m, \n",
    "                 models[m].best_estimator_.score(X_val[y_val==i], y_val[y_val==i]),\n",
    "                 models[m].best_params_ ,\n",
    "                 top_predictor]"
   ]
  },
  {
   "cell_type": "code",
   "execution_count": 138,
   "metadata": {
    "ExecuteTime": {
     "end_time": "2020-08-11T16:10:33.292069Z",
     "start_time": "2020-08-11T16:10:33.284086Z"
    }
   },
   "outputs": [
    {
     "data": {
      "text/html": [
       "<div>\n",
       "<style scoped>\n",
       "    .dataframe tbody tr th:only-of-type {\n",
       "        vertical-align: middle;\n",
       "    }\n",
       "\n",
       "    .dataframe tbody tr th {\n",
       "        vertical-align: top;\n",
       "    }\n",
       "\n",
       "    .dataframe thead th {\n",
       "        text-align: right;\n",
       "    }\n",
       "</style>\n",
       "<table border=\"1\" class=\"dataframe\">\n",
       "  <thead>\n",
       "    <tr style=\"text-align: right;\">\n",
       "      <th></th>\n",
       "      <th>Test Accuracy</th>\n",
       "    </tr>\n",
       "  </thead>\n",
       "  <tbody>\n",
       "    <tr>\n",
       "      <th>Bug</th>\n",
       "      <td>0.000000</td>\n",
       "    </tr>\n",
       "    <tr>\n",
       "      <th>Ice</th>\n",
       "      <td>0.666667</td>\n",
       "    </tr>\n",
       "    <tr>\n",
       "      <th>Ghost</th>\n",
       "      <td>0.333333</td>\n",
       "    </tr>\n",
       "    <tr>\n",
       "      <th>Rock</th>\n",
       "      <td>0.000000</td>\n",
       "    </tr>\n",
       "    <tr>\n",
       "      <th>Dark</th>\n",
       "      <td>0.300000</td>\n",
       "    </tr>\n",
       "    <tr>\n",
       "      <th>Steel</th>\n",
       "      <td>0.200000</td>\n",
       "    </tr>\n",
       "    <tr>\n",
       "      <th>Dragon</th>\n",
       "      <td>0.000000</td>\n",
       "    </tr>\n",
       "    <tr>\n",
       "      <th>Electric</th>\n",
       "      <td>0.000000</td>\n",
       "    </tr>\n",
       "    <tr>\n",
       "      <th>Fire</th>\n",
       "      <td>0.555556</td>\n",
       "    </tr>\n",
       "    <tr>\n",
       "      <th>Fairy</th>\n",
       "      <td>0.333333</td>\n",
       "    </tr>\n",
       "    <tr>\n",
       "      <th>Ground</th>\n",
       "      <td>0.133333</td>\n",
       "    </tr>\n",
       "    <tr>\n",
       "      <th>Fighting</th>\n",
       "      <td>0.066667</td>\n",
       "    </tr>\n",
       "    <tr>\n",
       "      <th>Poison</th>\n",
       "      <td>0.333333</td>\n",
       "    </tr>\n",
       "    <tr>\n",
       "      <th>Grass</th>\n",
       "      <td>0.545455</td>\n",
       "    </tr>\n",
       "    <tr>\n",
       "      <th>Psychic</th>\n",
       "      <td>0.000000</td>\n",
       "    </tr>\n",
       "    <tr>\n",
       "      <th>Normal</th>\n",
       "      <td>0.315789</td>\n",
       "    </tr>\n",
       "    <tr>\n",
       "      <th>Water</th>\n",
       "      <td>0.333333</td>\n",
       "    </tr>\n",
       "    <tr>\n",
       "      <th>Flying</th>\n",
       "      <td>0.300000</td>\n",
       "    </tr>\n",
       "  </tbody>\n",
       "</table>\n",
       "</div>"
      ],
      "text/plain": [
       "          Test Accuracy\n",
       "Bug            0.000000\n",
       "Ice            0.666667\n",
       "Ghost          0.333333\n",
       "Rock           0.000000\n",
       "Dark           0.300000\n",
       "Steel          0.200000\n",
       "Dragon         0.000000\n",
       "Electric       0.000000\n",
       "Fire           0.555556\n",
       "Fairy          0.333333\n",
       "Ground         0.133333\n",
       "Fighting       0.066667\n",
       "Poison         0.333333\n",
       "Grass          0.545455\n",
       "Psychic        0.000000\n",
       "Normal         0.315789\n",
       "Water          0.333333\n",
       "Flying         0.300000"
      ]
     },
     "execution_count": 138,
     "metadata": {},
     "output_type": "execute_result"
    }
   ],
   "source": [
    "df_acc_sec_all_types[['Test Accuracy']]"
   ]
  },
  {
   "cell_type": "code",
   "execution_count": 139,
   "metadata": {
    "ExecuteTime": {
     "end_time": "2020-08-11T16:10:33.325024Z",
     "start_time": "2020-08-11T16:10:33.293064Z"
    }
   },
   "outputs": [],
   "source": [
    "cols = ['Machine Learning Method', 'Test Accuracy',\n",
    "        'Best Parameter', 'Top Predictor Variable']\n",
    "df_acc_sec_all_gen = pd.DataFrame(columns=cols)\n",
    "gen_scaled = dict(zip(range(1, 8), np.unique(X_val[:, -1])))\n",
    "\n",
    "# for i, m in enumerate(models):\n",
    "m = 'Logistic Regression (L1)'\n",
    "\n",
    "for i in range(1,8):\n",
    "    try:\n",
    "        top_predictor = dict(zip(X.columns, np.abs(models[m].best_estimator_.coef_).mean(axis=0)))\n",
    "\n",
    "    except AttributeError:\n",
    "        top_predictor = np.nan\n",
    "    \n",
    "    df_acc_sec_all_gen.loc[i] = [m, \n",
    "                     models[m].best_estimator_.score(X_val[X_val[:, -1]==gen_scaled[i]], y_val[X_val[:, -1]==gen_scaled[i]]),\n",
    "                     models[m].best_params_ ,\n",
    "                     top_predictor]"
   ]
  },
  {
   "cell_type": "code",
   "execution_count": 140,
   "metadata": {
    "ExecuteTime": {
     "end_time": "2020-08-11T16:10:33.332000Z",
     "start_time": "2020-08-11T16:10:33.326023Z"
    }
   },
   "outputs": [
    {
     "data": {
      "text/plain": [
       "{'mean_r': 1.1309017255658198,\n",
       " 'mean_g': 1.01876380808323,\n",
       " 'mean_b': 0.7638530126264487,\n",
       " 'mode_r': 0.8277410223760405,\n",
       " 'mode_g': 0.6626352210532551,\n",
       " 'mode_b': 0.7293648544757625,\n",
       " 'mode_freq_r': 0.7539064357299494,\n",
       " 'mode_freq_g': 0.453068676027666,\n",
       " 'mode_freq_b': 0.4589230104563115,\n",
       " 'std_r': 0.5246302674007338,\n",
       " 'std_g': 0.5394443980717021,\n",
       " 'std_b': 0.5641206905991735,\n",
       " 'png': 1.5723762932090262,\n",
       " 'size': 1.2349990173624372,\n",
       " 'mean_width': 1.0738353984688074,\n",
       " 'mode_width': 0.3798777619263852,\n",
       " 'std_width': 0.4845224650436984,\n",
       " 'mean_length': 0.5964029257831089,\n",
       " 'mode_length': 0.4561151254276408,\n",
       " 'std_length': 0.618493119668619,\n",
       " 'Generation': 0.6185002819148505}"
      ]
     },
     "execution_count": 140,
     "metadata": {},
     "output_type": "execute_result"
    }
   ],
   "source": [
    "df_acc_sec_all_gen['Top Predictor Variable'][1]"
   ]
  },
  {
   "cell_type": "code",
   "execution_count": 141,
   "metadata": {
    "ExecuteTime": {
     "end_time": "2020-08-11T16:10:33.343977Z",
     "start_time": "2020-08-11T16:10:33.332956Z"
    }
   },
   "outputs": [
    {
     "data": {
      "text/html": [
       "<div>\n",
       "<style scoped>\n",
       "    .dataframe tbody tr th:only-of-type {\n",
       "        vertical-align: middle;\n",
       "    }\n",
       "\n",
       "    .dataframe tbody tr th {\n",
       "        vertical-align: top;\n",
       "    }\n",
       "\n",
       "    .dataframe thead th {\n",
       "        text-align: right;\n",
       "    }\n",
       "</style>\n",
       "<table border=\"1\" class=\"dataframe\">\n",
       "  <thead>\n",
       "    <tr style=\"text-align: right;\">\n",
       "      <th></th>\n",
       "      <th>Test Accuracy</th>\n",
       "    </tr>\n",
       "    <tr>\n",
       "      <th>Generation</th>\n",
       "      <th></th>\n",
       "    </tr>\n",
       "  </thead>\n",
       "  <tbody>\n",
       "    <tr>\n",
       "      <th>I</th>\n",
       "      <td>0.289474</td>\n",
       "    </tr>\n",
       "    <tr>\n",
       "      <th>II</th>\n",
       "      <td>0.181818</td>\n",
       "    </tr>\n",
       "    <tr>\n",
       "      <th>III</th>\n",
       "      <td>0.121212</td>\n",
       "    </tr>\n",
       "    <tr>\n",
       "      <th>IV</th>\n",
       "      <td>0.333333</td>\n",
       "    </tr>\n",
       "    <tr>\n",
       "      <th>V</th>\n",
       "      <td>0.272727</td>\n",
       "    </tr>\n",
       "    <tr>\n",
       "      <th>VI</th>\n",
       "      <td>0.333333</td>\n",
       "    </tr>\n",
       "    <tr>\n",
       "      <th>VII</th>\n",
       "      <td>0.095238</td>\n",
       "    </tr>\n",
       "  </tbody>\n",
       "</table>\n",
       "</div>"
      ],
      "text/plain": [
       "            Test Accuracy\n",
       "Generation               \n",
       "I                0.289474\n",
       "II               0.181818\n",
       "III              0.121212\n",
       "IV               0.333333\n",
       "V                0.272727\n",
       "VI               0.333333\n",
       "VII              0.095238"
      ]
     },
     "execution_count": 141,
     "metadata": {},
     "output_type": "execute_result"
    }
   ],
   "source": [
    "df_acc_sec_all_gen['Generation'] = ['I', 'II', 'III', 'IV', 'V', 'VI', 'VII']\n",
    "df_acc_sec_all_gen.set_index('Generation', inplace=True)\n",
    "df_acc_sec_all_gen[['Test Accuracy']]"
   ]
  },
  {
   "cell_type": "markdown",
   "metadata": {},
   "source": [
    "#### Color features only"
   ]
  },
  {
   "cell_type": "code",
   "execution_count": 142,
   "metadata": {
    "ExecuteTime": {
     "end_time": "2020-08-11T16:10:33.354943Z",
     "start_time": "2020-08-11T16:10:33.344965Z"
    }
   },
   "outputs": [],
   "source": [
    "cl1 = KNeighborsClassifier(n_jobs=-1)\n",
    "cl2 = LogisticRegression(penalty='l1', max_iter=1000,\n",
    "                         solver='liblinear', n_jobs=-1)\n",
    "cl3 = LogisticRegression(penalty='l2', max_iter=1000, n_jobs=-1)\n",
    "cl4 = LinearSVC(penalty='l1', dual=False, max_iter=10000)\n",
    "cl5 = LinearSVC(penalty='l2', max_iter=10000)\n",
    "cl6 = SVC(kernel='rbf', )\n",
    "cl7 = SVC(kernel='poly', degree=3)\n",
    "cl8 = DecisionTreeClassifier()\n",
    "cl9 = RandomForestClassifier(max_features='sqrt')\n",
    "cl10 = GradientBoostingClassifier()\n",
    "kneighbors = range(1, 31)\n",
    "C_list = np.logspace(-5, 5, num=10)\n",
    "gamma_list = np.logspace(-5, 5, num=10)\n",
    "\n",
    "estimators = [('KNN', cl1, {'n_neighbors':kneighbors}),\n",
    "              ('Logistic Regression (L1)', cl2, {'C':C_list}),\n",
    "              ('Logistic Regression (L2)', cl3, {'C':C_list}),\n",
    "              ('Linear SVM (L1)', cl4, {'C':C_list}),\n",
    "              ('Linear SVM (L2)', cl5, {'C':C_list}),\n",
    "              ('NonLinear SVM (RBF)', cl6, {'C':C_list,\n",
    "                                            'gamma':gamma_list}),\n",
    "              ('NonLinear SVM (Poly)', cl7, {'C':C_list,\n",
    "                                             'gamma':gamma_list}),\n",
    "              ('Decision Tree', cl8, {'max_depth':range(1,11),\n",
    "                                      'criterion':['gini', 'entropy']}),\n",
    "              ('Random Forest', cl9, {'max_depth':range(1,4),\n",
    "                                      'n_estimators':range(10,101,10),\n",
    "                                      'criterion':['gini', 'entropy']}),\n",
    "              ('GBM', cl10, {'max_depth':range(1,4),\n",
    "                            'n_estimators':range(10,101,10),\n",
    "                            'learning_rate':np.arange(0.1,1.01,0.1)})]"
   ]
  },
  {
   "cell_type": "code",
   "execution_count": 143,
   "metadata": {
    "ExecuteTime": {
     "end_time": "2020-08-11T16:10:33.365868Z",
     "start_time": "2020-08-11T16:10:33.355920Z"
    }
   },
   "outputs": [
    {
     "data": {
      "text/html": [
       "<div>\n",
       "<style scoped>\n",
       "    .dataframe tbody tr th:only-of-type {\n",
       "        vertical-align: middle;\n",
       "    }\n",
       "\n",
       "    .dataframe tbody tr th {\n",
       "        vertical-align: top;\n",
       "    }\n",
       "\n",
       "    .dataframe thead th {\n",
       "        text-align: right;\n",
       "    }\n",
       "</style>\n",
       "<table border=\"1\" class=\"dataframe\">\n",
       "  <thead>\n",
       "    <tr style=\"text-align: right;\">\n",
       "      <th></th>\n",
       "      <th>Name</th>\n",
       "      <th>Type1</th>\n",
       "      <th>Type2</th>\n",
       "      <th>Generation</th>\n",
       "    </tr>\n",
       "    <tr>\n",
       "      <th>Pokedex Number</th>\n",
       "      <th></th>\n",
       "      <th></th>\n",
       "      <th></th>\n",
       "      <th></th>\n",
       "    </tr>\n",
       "  </thead>\n",
       "  <tbody>\n",
       "    <tr>\n",
       "      <th>1</th>\n",
       "      <td>bulbasaur</td>\n",
       "      <td>Grass</td>\n",
       "      <td>Poison</td>\n",
       "      <td>1.0</td>\n",
       "    </tr>\n",
       "    <tr>\n",
       "      <th>2</th>\n",
       "      <td>ivysaur</td>\n",
       "      <td>Grass</td>\n",
       "      <td>Poison</td>\n",
       "      <td>1.0</td>\n",
       "    </tr>\n",
       "    <tr>\n",
       "      <th>3</th>\n",
       "      <td>venusaur</td>\n",
       "      <td>Grass</td>\n",
       "      <td>Poison</td>\n",
       "      <td>1.0</td>\n",
       "    </tr>\n",
       "    <tr>\n",
       "      <th>4</th>\n",
       "      <td>charmander</td>\n",
       "      <td>Fire</td>\n",
       "      <td>Fire</td>\n",
       "      <td>1.0</td>\n",
       "    </tr>\n",
       "    <tr>\n",
       "      <th>5</th>\n",
       "      <td>charmeleon</td>\n",
       "      <td>Fire</td>\n",
       "      <td>Fire</td>\n",
       "      <td>1.0</td>\n",
       "    </tr>\n",
       "  </tbody>\n",
       "</table>\n",
       "</div>"
      ],
      "text/plain": [
       "                      Name  Type1   Type2  Generation\n",
       "Pokedex Number                                       \n",
       "1                bulbasaur  Grass  Poison         1.0\n",
       "2                  ivysaur  Grass  Poison         1.0\n",
       "3                 venusaur  Grass  Poison         1.0\n",
       "4               charmander   Fire    Fire         1.0\n",
       "5               charmeleon   Fire    Fire         1.0"
      ]
     },
     "execution_count": 143,
     "metadata": {},
     "output_type": "execute_result"
    }
   ],
   "source": [
    "df.head()"
   ]
  },
  {
   "cell_type": "code",
   "execution_count": 144,
   "metadata": {
    "ExecuteTime": {
     "end_time": "2020-08-11T16:10:33.377887Z",
     "start_time": "2020-08-11T16:10:33.366865Z"
    }
   },
   "outputs": [],
   "source": [
    "X = df_feat_color\n",
    "X['Generation'] = df['Generation'].astype(float)\n",
    "y = df_target_B\n",
    "\n",
    "X_train, X_val, y_train, y_val = model_selection.train_test_split(X, y,\n",
    "                                                            random_state=1)\n",
    "scaler = preprocessing.RobustScaler()\n",
    "X_train = scaler.fit_transform(X_train)\n",
    "X_val = scaler.transform(X_val)"
   ]
  },
  {
   "cell_type": "code",
   "execution_count": 145,
   "metadata": {
    "ExecuteTime": {
     "end_time": "2020-08-11T16:10:35.907074Z",
     "start_time": "2020-08-11T16:10:33.378833Z"
    }
   },
   "outputs": [
    {
     "name": "stdout",
     "output_type": "stream",
     "text": [
      "Training ('Logistic Regression (L1)', LogisticRegression(C=1.0, class_weight=None, dual=False, fit_intercept=True,\n",
      "                   intercept_scaling=1, l1_ratio=None, max_iter=1000,\n",
      "                   multi_class='auto', n_jobs=-1, penalty='l1',\n",
      "                   random_state=None, solver='liblinear', tol=0.0001, verbose=0,\n",
      "                   warm_start=False), {'C': array([1.00000000e-05, 1.29154967e-04, 1.66810054e-03, 2.15443469e-02,\n",
      "       2.78255940e-01, 3.59381366e+00, 4.64158883e+01, 5.99484250e+02,\n",
      "       7.74263683e+03, 1.00000000e+05])})\n",
      "\n"
     ]
    }
   ],
   "source": [
    "models = {}\n",
    "for est in estimators[1:2]:\n",
    "    print(f'Training {est}\\n')\n",
    "    gs_cv = model_selection.GridSearchCV(est[1], param_grid=est[2], n_jobs=4)\n",
    "    gs_cv.fit(X_train, y_train)\n",
    "    models[est[0]] = gs_cv"
   ]
  },
  {
   "cell_type": "code",
   "execution_count": 146,
   "metadata": {
    "ExecuteTime": {
     "end_time": "2020-08-11T16:10:35.920041Z",
     "start_time": "2020-08-11T16:10:35.908074Z"
    }
   },
   "outputs": [],
   "source": [
    "cols = ['Machine Learning Method', 'Test Accuracy',\n",
    "        'Best Parameter', 'Top Predictor Variable']\n",
    "df_acc_sec_color = pd.DataFrame(columns=cols)\n",
    "\n",
    "for i, m in enumerate(models):\n",
    "    \n",
    "    try:\n",
    "        top_predictor = X.columns[\n",
    "            np.argmax(np.abs(models[m].best_estimator_.coef_).mean(axis=0))]\n",
    "\n",
    "    except AttributeError:\n",
    "        top_predictor = np.nan\n",
    "    \n",
    "    df_acc_sec_color.loc[i] = [m, \n",
    "                 models[m].best_estimator_.score(X_val, y_val),\n",
    "                 models[m].best_params_ ,\n",
    "                 top_predictor]"
   ]
  },
  {
   "cell_type": "code",
   "execution_count": 147,
   "metadata": {
    "ExecuteTime": {
     "end_time": "2020-08-11T16:10:35.928019Z",
     "start_time": "2020-08-11T16:10:35.921038Z"
    }
   },
   "outputs": [
    {
     "data": {
      "text/html": [
       "<div>\n",
       "<style scoped>\n",
       "    .dataframe tbody tr th:only-of-type {\n",
       "        vertical-align: middle;\n",
       "    }\n",
       "\n",
       "    .dataframe tbody tr th {\n",
       "        vertical-align: top;\n",
       "    }\n",
       "\n",
       "    .dataframe thead th {\n",
       "        text-align: right;\n",
       "    }\n",
       "</style>\n",
       "<table border=\"1\" class=\"dataframe\">\n",
       "  <thead>\n",
       "    <tr style=\"text-align: right;\">\n",
       "      <th></th>\n",
       "      <th>Machine Learning Method</th>\n",
       "      <th>Test Accuracy</th>\n",
       "      <th>Best Parameter</th>\n",
       "      <th>Top Predictor Variable</th>\n",
       "    </tr>\n",
       "  </thead>\n",
       "  <tbody>\n",
       "    <tr>\n",
       "      <th>0</th>\n",
       "      <td>Logistic Regression (L1)</td>\n",
       "      <td>0.221675</td>\n",
       "      <td>{'C': 46.41588833612782}</td>\n",
       "      <td>png</td>\n",
       "    </tr>\n",
       "  </tbody>\n",
       "</table>\n",
       "</div>"
      ],
      "text/plain": [
       "    Machine Learning Method  Test Accuracy            Best Parameter  \\\n",
       "0  Logistic Regression (L1)       0.221675  {'C': 46.41588833612782}   \n",
       "\n",
       "  Top Predictor Variable  \n",
       "0                    png  "
      ]
     },
     "execution_count": 147,
     "metadata": {},
     "output_type": "execute_result"
    }
   ],
   "source": [
    "df_acc_sec_color"
   ]
  },
  {
   "cell_type": "code",
   "execution_count": 148,
   "metadata": {
    "ExecuteTime": {
     "end_time": "2020-08-11T16:10:36.060664Z",
     "start_time": "2020-08-11T16:10:35.929018Z"
    }
   },
   "outputs": [
    {
     "data": {
      "text/plain": [
       "(-0.8885043375912951, 0.8885043375912951)"
      ]
     },
     "execution_count": 148,
     "metadata": {},
     "output_type": "execute_result"
    },
    {
     "data": {
      "image/png": "[encoded data removed]",
      "text/plain": [
       "<Figure size 432x288 with 1 Axes>"
      ]
     },
     "metadata": {
      "needs_background": "light"
     },
     "output_type": "display_data"
    }
   ],
   "source": [
    "coefs = models['Logistic Regression (L1)'].best_estimator_.coef_.mean(axis=0)\n",
    "plt.barh(df_feat_color.columns[np.argsort(coefs)], np.sort(coefs))\n",
    "plt.xlim(-max(abs(coefs)) -0.01, max(abs(coefs))+0.01)"
   ]
  },
  {
   "cell_type": "code",
   "execution_count": 149,
   "metadata": {
    "ExecuteTime": {
     "end_time": "2020-08-11T16:10:36.133516Z",
     "start_time": "2020-08-11T16:10:36.061662Z"
    }
   },
   "outputs": [],
   "source": [
    "cols = ['Machine Learning Method', 'Test Accuracy',\n",
    "        'Best Parameter', 'Top Predictor Variable']\n",
    "df_acc_sec_color_types = pd.DataFrame(columns=cols)\n",
    "\n",
    "# for i, m in enumerate(models):\n",
    "m = 'Logistic Regression (L1)'\n",
    "for i in df_target_B.value_counts().index[::-1]:\n",
    "    try:\n",
    "        top_predictor = dict(zip(X.columns, np.abs(models[m].best_estimator_.coef_).mean(axis=0)))\n",
    "\n",
    "    except AttributeError:\n",
    "        top_predictor = np.nan\n",
    "    \n",
    "    df_acc_sec_color_types.loc[i] = [m, \n",
    "                 models[m].best_estimator_.score(X_val[y_val==i], y_val[y_val==i]),\n",
    "                 models[m].best_params_ ,\n",
    "                 top_predictor]"
   ]
  },
  {
   "cell_type": "code",
   "execution_count": 150,
   "metadata": {
    "ExecuteTime": {
     "end_time": "2020-08-11T16:10:36.142448Z",
     "start_time": "2020-08-11T16:10:36.134467Z"
    }
   },
   "outputs": [
    {
     "data": {
      "text/html": [
       "<div>\n",
       "<style scoped>\n",
       "    .dataframe tbody tr th:only-of-type {\n",
       "        vertical-align: middle;\n",
       "    }\n",
       "\n",
       "    .dataframe tbody tr th {\n",
       "        vertical-align: top;\n",
       "    }\n",
       "\n",
       "    .dataframe thead th {\n",
       "        text-align: right;\n",
       "    }\n",
       "</style>\n",
       "<table border=\"1\" class=\"dataframe\">\n",
       "  <thead>\n",
       "    <tr style=\"text-align: right;\">\n",
       "      <th></th>\n",
       "      <th>Test Accuracy</th>\n",
       "    </tr>\n",
       "  </thead>\n",
       "  <tbody>\n",
       "    <tr>\n",
       "      <th>Bug</th>\n",
       "      <td>0.000000</td>\n",
       "    </tr>\n",
       "    <tr>\n",
       "      <th>Ice</th>\n",
       "      <td>0.666667</td>\n",
       "    </tr>\n",
       "    <tr>\n",
       "      <th>Ghost</th>\n",
       "      <td>0.000000</td>\n",
       "    </tr>\n",
       "    <tr>\n",
       "      <th>Rock</th>\n",
       "      <td>0.000000</td>\n",
       "    </tr>\n",
       "    <tr>\n",
       "      <th>Dark</th>\n",
       "      <td>0.300000</td>\n",
       "    </tr>\n",
       "    <tr>\n",
       "      <th>Steel</th>\n",
       "      <td>0.200000</td>\n",
       "    </tr>\n",
       "    <tr>\n",
       "      <th>Dragon</th>\n",
       "      <td>0.000000</td>\n",
       "    </tr>\n",
       "    <tr>\n",
       "      <th>Electric</th>\n",
       "      <td>0.100000</td>\n",
       "    </tr>\n",
       "    <tr>\n",
       "      <th>Fire</th>\n",
       "      <td>0.444444</td>\n",
       "    </tr>\n",
       "    <tr>\n",
       "      <th>Fairy</th>\n",
       "      <td>0.333333</td>\n",
       "    </tr>\n",
       "    <tr>\n",
       "      <th>Ground</th>\n",
       "      <td>0.000000</td>\n",
       "    </tr>\n",
       "    <tr>\n",
       "      <th>Fighting</th>\n",
       "      <td>0.066667</td>\n",
       "    </tr>\n",
       "    <tr>\n",
       "      <th>Poison</th>\n",
       "      <td>0.444444</td>\n",
       "    </tr>\n",
       "    <tr>\n",
       "      <th>Grass</th>\n",
       "      <td>0.545455</td>\n",
       "    </tr>\n",
       "    <tr>\n",
       "      <th>Psychic</th>\n",
       "      <td>0.000000</td>\n",
       "    </tr>\n",
       "    <tr>\n",
       "      <th>Normal</th>\n",
       "      <td>0.263158</td>\n",
       "    </tr>\n",
       "    <tr>\n",
       "      <th>Water</th>\n",
       "      <td>0.380952</td>\n",
       "    </tr>\n",
       "    <tr>\n",
       "      <th>Flying</th>\n",
       "      <td>0.250000</td>\n",
       "    </tr>\n",
       "  </tbody>\n",
       "</table>\n",
       "</div>"
      ],
      "text/plain": [
       "          Test Accuracy\n",
       "Bug            0.000000\n",
       "Ice            0.666667\n",
       "Ghost          0.000000\n",
       "Rock           0.000000\n",
       "Dark           0.300000\n",
       "Steel          0.200000\n",
       "Dragon         0.000000\n",
       "Electric       0.100000\n",
       "Fire           0.444444\n",
       "Fairy          0.333333\n",
       "Ground         0.000000\n",
       "Fighting       0.066667\n",
       "Poison         0.444444\n",
       "Grass          0.545455\n",
       "Psychic        0.000000\n",
       "Normal         0.263158\n",
       "Water          0.380952\n",
       "Flying         0.250000"
      ]
     },
     "execution_count": 150,
     "metadata": {},
     "output_type": "execute_result"
    }
   ],
   "source": [
    "df_acc_sec_color_types[['Test Accuracy']]"
   ]
  },
  {
   "cell_type": "code",
   "execution_count": 151,
   "metadata": {
    "ExecuteTime": {
     "end_time": "2020-08-11T16:10:36.175404Z",
     "start_time": "2020-08-11T16:10:36.143444Z"
    }
   },
   "outputs": [],
   "source": [
    "cols = ['Machine Learning Method', 'Test Accuracy',\n",
    "        'Best Parameter', 'Top Predictor Variable']\n",
    "df_acc_sec_color_gen = pd.DataFrame(columns=cols)\n",
    "gen_scaled = dict(zip(range(1, 8), np.unique(X_val[:, -1])))\n",
    "\n",
    "# for i, m in enumerate(models):\n",
    "m = 'Logistic Regression (L1)'\n",
    "\n",
    "for i in range(1,8):\n",
    "    try:\n",
    "        top_predictor = dict(zip(X.columns, np.abs(models[m].best_estimator_.coef_).mean(axis=0)))\n",
    "\n",
    "    except AttributeError:\n",
    "        top_predictor = np.nan\n",
    "    \n",
    "    df_acc_sec_color_gen.loc[i] = [m, \n",
    "                     models[m].best_estimator_.score(X_val[X_val[:, -1]==gen_scaled[i]], y_val[X_val[:, -1]==gen_scaled[i]]),\n",
    "                     models[m].best_params_ ,\n",
    "                     top_predictor]"
   ]
  },
  {
   "cell_type": "code",
   "execution_count": 152,
   "metadata": {
    "ExecuteTime": {
     "end_time": "2020-08-11T16:10:36.180367Z",
     "start_time": "2020-08-11T16:10:36.176391Z"
    }
   },
   "outputs": [
    {
     "data": {
      "text/plain": [
       "{'mean_r': 1.0489141643160076,\n",
       " 'mean_g': 0.9655245277154683,\n",
       " 'mean_b': 0.7871276807751699,\n",
       " 'mode_r': 0.8407083351620557,\n",
       " 'mode_g': 0.6439534706367539,\n",
       " 'mode_b': 0.7370186605874696,\n",
       " 'mode_freq_r': 0.7245742359421679,\n",
       " 'mode_freq_g': 0.42293578005646265,\n",
       " 'mode_freq_b': 0.41548935144391475,\n",
       " 'std_r': 0.4687692280370862,\n",
       " 'std_g': 0.5295675721824948,\n",
       " 'std_b': 0.549991652367419,\n",
       " 'png': 1.436684834719361,\n",
       " 'Generation': 0.6309670188545896}"
      ]
     },
     "execution_count": 152,
     "metadata": {},
     "output_type": "execute_result"
    }
   ],
   "source": [
    "df_acc_sec_color_gen['Top Predictor Variable'][1]"
   ]
  },
  {
   "cell_type": "code",
   "execution_count": 153,
   "metadata": {
    "ExecuteTime": {
     "end_time": "2020-08-11T16:10:36.191349Z",
     "start_time": "2020-08-11T16:10:36.181366Z"
    }
   },
   "outputs": [
    {
     "data": {
      "text/html": [
       "<div>\n",
       "<style scoped>\n",
       "    .dataframe tbody tr th:only-of-type {\n",
       "        vertical-align: middle;\n",
       "    }\n",
       "\n",
       "    .dataframe tbody tr th {\n",
       "        vertical-align: top;\n",
       "    }\n",
       "\n",
       "    .dataframe thead th {\n",
       "        text-align: right;\n",
       "    }\n",
       "</style>\n",
       "<table border=\"1\" class=\"dataframe\">\n",
       "  <thead>\n",
       "    <tr style=\"text-align: right;\">\n",
       "      <th></th>\n",
       "      <th>Test Accuracy</th>\n",
       "    </tr>\n",
       "    <tr>\n",
       "      <th>Generation</th>\n",
       "      <th></th>\n",
       "    </tr>\n",
       "  </thead>\n",
       "  <tbody>\n",
       "    <tr>\n",
       "      <th>I</th>\n",
       "      <td>0.263158</td>\n",
       "    </tr>\n",
       "    <tr>\n",
       "      <th>II</th>\n",
       "      <td>0.227273</td>\n",
       "    </tr>\n",
       "    <tr>\n",
       "      <th>III</th>\n",
       "      <td>0.121212</td>\n",
       "    </tr>\n",
       "    <tr>\n",
       "      <th>IV</th>\n",
       "      <td>0.250000</td>\n",
       "    </tr>\n",
       "    <tr>\n",
       "      <th>V</th>\n",
       "      <td>0.295455</td>\n",
       "    </tr>\n",
       "    <tr>\n",
       "      <th>VI</th>\n",
       "      <td>0.285714</td>\n",
       "    </tr>\n",
       "    <tr>\n",
       "      <th>VII</th>\n",
       "      <td>0.047619</td>\n",
       "    </tr>\n",
       "  </tbody>\n",
       "</table>\n",
       "</div>"
      ],
      "text/plain": [
       "            Test Accuracy\n",
       "Generation               \n",
       "I                0.263158\n",
       "II               0.227273\n",
       "III              0.121212\n",
       "IV               0.250000\n",
       "V                0.295455\n",
       "VI               0.285714\n",
       "VII              0.047619"
      ]
     },
     "execution_count": 153,
     "metadata": {},
     "output_type": "execute_result"
    }
   ],
   "source": [
    "df_acc_sec_color_gen['Generation'] = ['I', 'II', 'III', 'IV', 'V', 'VI', 'VII']\n",
    "df_acc_sec_color_gen.set_index('Generation', inplace=True)\n",
    "df_acc_sec_color_gen[['Test Accuracy']]"
   ]
  },
  {
   "cell_type": "markdown",
   "metadata": {},
   "source": [
    "#### Size features only"
   ]
  },
  {
   "cell_type": "code",
   "execution_count": 154,
   "metadata": {
    "ExecuteTime": {
     "end_time": "2020-08-11T16:10:36.202320Z",
     "start_time": "2020-08-11T16:10:36.192348Z"
    }
   },
   "outputs": [],
   "source": [
    "cl1 = KNeighborsClassifier(n_jobs=-1)\n",
    "cl2 = LogisticRegression(penalty='l1', max_iter=1000,\n",
    "                         solver='liblinear', n_jobs=-1)\n",
    "cl3 = LogisticRegression(penalty='l2', max_iter=1000, n_jobs=-1)\n",
    "cl4 = LinearSVC(penalty='l1', dual=False, max_iter=10000)\n",
    "cl5 = LinearSVC(penalty='l2', max_iter=10000)\n",
    "cl6 = SVC(kernel='rbf', )\n",
    "cl7 = SVC(kernel='poly', degree=3)\n",
    "cl8 = DecisionTreeClassifier()\n",
    "cl9 = RandomForestClassifier(max_features='sqrt')\n",
    "cl10 = GradientBoostingClassifier()\n",
    "kneighbors = range(1, 31)\n",
    "C_list = np.logspace(-5, 5, num=10)\n",
    "gamma_list = np.logspace(-5, 5, num=10)\n",
    "\n",
    "estimators = [('KNN', cl1, {'n_neighbors':kneighbors}),\n",
    "              ('Logistic Regression (L1)', cl2, {'C':C_list}),\n",
    "              ('Logistic Regression (L2)', cl3, {'C':C_list}),\n",
    "              ('Linear SVM (L1)', cl4, {'C':C_list}),\n",
    "              ('Linear SVM (L2)', cl5, {'C':C_list}),\n",
    "              ('NonLinear SVM (RBF)', cl6, {'C':C_list,\n",
    "                                            'gamma':gamma_list}),\n",
    "              ('NonLinear SVM (Poly)', cl7, {'C':C_list,\n",
    "                                             'gamma':gamma_list}),\n",
    "              ('Decision Tree', cl8, {'max_depth':range(1,11),\n",
    "                                      'criterion':['gini', 'entropy']}),\n",
    "              ('Random Forest', cl9, {'max_depth':range(1,4),\n",
    "                                      'n_estimators':range(10,101,10),\n",
    "                                      'criterion':['gini', 'entropy']}),\n",
    "              ('GBM', cl10, {'max_depth':range(1,4),\n",
    "                            'n_estimators':range(10,101,10),\n",
    "                            'learning_rate':np.arange(0.1,1.01,0.1)})]"
   ]
  },
  {
   "cell_type": "code",
   "execution_count": 155,
   "metadata": {
    "ExecuteTime": {
     "end_time": "2020-08-11T16:10:36.215299Z",
     "start_time": "2020-08-11T16:10:36.203317Z"
    }
   },
   "outputs": [],
   "source": [
    "X = df_feat_size\n",
    "X['Generation'] = df['Generation'].astype(float)\n",
    "y = df_target_B\n",
    "\n",
    "X_train, X_val, y_train, y_val = model_selection.train_test_split(X, y,\n",
    "                                                            random_state=1)\n",
    "scaler = preprocessing.RobustScaler()\n",
    "X_train = scaler.fit_transform(X_train)\n",
    "X_val = scaler.transform(X_val)"
   ]
  },
  {
   "cell_type": "code",
   "execution_count": 156,
   "metadata": {
    "ExecuteTime": {
     "end_time": "2020-08-11T16:10:38.657722Z",
     "start_time": "2020-08-11T16:10:36.216249Z"
    }
   },
   "outputs": [
    {
     "name": "stdout",
     "output_type": "stream",
     "text": [
      "Training ('Logistic Regression (L1)', LogisticRegression(C=1.0, class_weight=None, dual=False, fit_intercept=True,\n",
      "                   intercept_scaling=1, l1_ratio=None, max_iter=1000,\n",
      "                   multi_class='auto', n_jobs=-1, penalty='l1',\n",
      "                   random_state=None, solver='liblinear', tol=0.0001, verbose=0,\n",
      "                   warm_start=False), {'C': array([1.00000000e-05, 1.29154967e-04, 1.66810054e-03, 2.15443469e-02,\n",
      "       2.78255940e-01, 3.59381366e+00, 4.64158883e+01, 5.99484250e+02,\n",
      "       7.74263683e+03, 1.00000000e+05])})\n",
      "\n"
     ]
    }
   ],
   "source": [
    "models = {}\n",
    "for est in estimators[1:2]:\n",
    "    print(f'Training {est}\\n')\n",
    "    gs_cv = model_selection.GridSearchCV(est[1], param_grid=est[2], n_jobs=4)\n",
    "    gs_cv.fit(X_train, y_train)\n",
    "    models[est[0]] = gs_cv"
   ]
  },
  {
   "cell_type": "code",
   "execution_count": 157,
   "metadata": {
    "ExecuteTime": {
     "end_time": "2020-08-11T16:10:38.669690Z",
     "start_time": "2020-08-11T16:10:38.658719Z"
    }
   },
   "outputs": [],
   "source": [
    "cols = ['Machine Learning Method', 'Test Accuracy',\n",
    "        'Best Parameter', 'Top Predictor Variable']\n",
    "df_acc_sec_size = pd.DataFrame(columns=cols)\n",
    "\n",
    "for i, m in enumerate(models):\n",
    "    \n",
    "    try:\n",
    "        top_predictor = X.columns[\n",
    "            np.argmax(np.abs(models[m].best_estimator_.coef_).mean(axis=0))]\n",
    "\n",
    "    except AttributeError:\n",
    "        top_predictor = np.nan\n",
    "    \n",
    "    df_acc_sec_size.loc[i] = [m, \n",
    "                 models[m].best_estimator_.score(X_val, y_val),\n",
    "                 models[m].best_params_ ,\n",
    "                 top_predictor]"
   ]
  },
  {
   "cell_type": "code",
   "execution_count": 158,
   "metadata": {
    "ExecuteTime": {
     "end_time": "2020-08-11T16:10:38.680661Z",
     "start_time": "2020-08-11T16:10:38.670687Z"
    }
   },
   "outputs": [
    {
     "data": {
      "text/html": [
       "<div>\n",
       "<style scoped>\n",
       "    .dataframe tbody tr th:only-of-type {\n",
       "        vertical-align: middle;\n",
       "    }\n",
       "\n",
       "    .dataframe tbody tr th {\n",
       "        vertical-align: top;\n",
       "    }\n",
       "\n",
       "    .dataframe thead th {\n",
       "        text-align: right;\n",
       "    }\n",
       "</style>\n",
       "<table border=\"1\" class=\"dataframe\">\n",
       "  <thead>\n",
       "    <tr style=\"text-align: right;\">\n",
       "      <th></th>\n",
       "      <th>Machine Learning Method</th>\n",
       "      <th>Test Accuracy</th>\n",
       "      <th>Best Parameter</th>\n",
       "      <th>Top Predictor Variable</th>\n",
       "    </tr>\n",
       "  </thead>\n",
       "  <tbody>\n",
       "    <tr>\n",
       "      <th>0</th>\n",
       "      <td>Logistic Regression (L1)</td>\n",
       "      <td>0.118227</td>\n",
       "      <td>{'C': 0.2782559402207126}</td>\n",
       "      <td>Generation</td>\n",
       "    </tr>\n",
       "  </tbody>\n",
       "</table>\n",
       "</div>"
      ],
      "text/plain": [
       "    Machine Learning Method  Test Accuracy             Best Parameter  \\\n",
       "0  Logistic Regression (L1)       0.118227  {'C': 0.2782559402207126}   \n",
       "\n",
       "  Top Predictor Variable  \n",
       "0             Generation  "
      ]
     },
     "execution_count": 158,
     "metadata": {},
     "output_type": "execute_result"
    }
   ],
   "source": [
    "df_acc_sec_size"
   ]
  },
  {
   "cell_type": "code",
   "execution_count": 159,
   "metadata": {
    "ExecuteTime": {
     "end_time": "2020-08-11T16:10:38.785381Z",
     "start_time": "2020-08-11T16:10:38.681658Z"
    }
   },
   "outputs": [
    {
     "data": {
      "text/plain": [
       "(-0.045855892880581305, 0.045855892880581305)"
      ]
     },
     "execution_count": 159,
     "metadata": {},
     "output_type": "execute_result"
    },
    {
     "data": {
      "image/png": "[encoded data removed]",
      "text/plain": [
       "<Figure size 432x288 with 1 Axes>"
      ]
     },
     "metadata": {
      "needs_background": "light"
     },
     "output_type": "display_data"
    }
   ],
   "source": [
    "coefs = models['Logistic Regression (L1)'].best_estimator_.coef_.mean(axis=0)\n",
    "plt.barh(df_feat_size.columns[np.argsort(coefs)], np.sort(coefs))\n",
    "plt.xlim(-max(abs(coefs)) -0.01, max(abs(coefs))+0.01)"
   ]
  },
  {
   "cell_type": "code",
   "execution_count": 160,
   "metadata": {
    "ExecuteTime": {
     "end_time": "2020-08-11T16:10:38.859183Z",
     "start_time": "2020-08-11T16:10:38.786378Z"
    }
   },
   "outputs": [],
   "source": [
    "cols = ['Machine Learning Method', 'Test Accuracy',\n",
    "        'Best Parameter', 'Top Predictor Variable']\n",
    "df_acc_sec_size_types = pd.DataFrame(columns=cols)\n",
    "\n",
    "# for i, m in enumerate(models):\n",
    "m = 'Logistic Regression (L1)'\n",
    "for i in df_target_B.value_counts().index[::-1]:\n",
    "    try:\n",
    "        top_predictor = dict(zip(X.columns, np.abs(models[m].best_estimator_.coef_).mean(axis=0)))\n",
    "\n",
    "    except AttributeError:\n",
    "        top_predictor = np.nan\n",
    "    \n",
    "    df_acc_sec_size_types.loc[i] = [m, \n",
    "                 models[m].best_estimator_.score(X_val[y_val==i], y_val[y_val==i]),\n",
    "                 models[m].best_params_ ,\n",
    "                 top_predictor]"
   ]
  },
  {
   "cell_type": "code",
   "execution_count": 161,
   "metadata": {
    "ExecuteTime": {
     "end_time": "2020-08-11T16:10:38.867172Z",
     "start_time": "2020-08-11T16:10:38.860181Z"
    }
   },
   "outputs": [
    {
     "data": {
      "text/html": [
       "<div>\n",
       "<style scoped>\n",
       "    .dataframe tbody tr th:only-of-type {\n",
       "        vertical-align: middle;\n",
       "    }\n",
       "\n",
       "    .dataframe tbody tr th {\n",
       "        vertical-align: top;\n",
       "    }\n",
       "\n",
       "    .dataframe thead th {\n",
       "        text-align: right;\n",
       "    }\n",
       "</style>\n",
       "<table border=\"1\" class=\"dataframe\">\n",
       "  <thead>\n",
       "    <tr style=\"text-align: right;\">\n",
       "      <th></th>\n",
       "      <th>Test Accuracy</th>\n",
       "    </tr>\n",
       "  </thead>\n",
       "  <tbody>\n",
       "    <tr>\n",
       "      <th>Bug</th>\n",
       "      <td>0.000000</td>\n",
       "    </tr>\n",
       "    <tr>\n",
       "      <th>Ice</th>\n",
       "      <td>0.000000</td>\n",
       "    </tr>\n",
       "    <tr>\n",
       "      <th>Ghost</th>\n",
       "      <td>0.000000</td>\n",
       "    </tr>\n",
       "    <tr>\n",
       "      <th>Rock</th>\n",
       "      <td>0.000000</td>\n",
       "    </tr>\n",
       "    <tr>\n",
       "      <th>Dark</th>\n",
       "      <td>0.000000</td>\n",
       "    </tr>\n",
       "    <tr>\n",
       "      <th>Steel</th>\n",
       "      <td>0.000000</td>\n",
       "    </tr>\n",
       "    <tr>\n",
       "      <th>Dragon</th>\n",
       "      <td>0.000000</td>\n",
       "    </tr>\n",
       "    <tr>\n",
       "      <th>Electric</th>\n",
       "      <td>0.000000</td>\n",
       "    </tr>\n",
       "    <tr>\n",
       "      <th>Fire</th>\n",
       "      <td>0.000000</td>\n",
       "    </tr>\n",
       "    <tr>\n",
       "      <th>Fairy</th>\n",
       "      <td>0.166667</td>\n",
       "    </tr>\n",
       "    <tr>\n",
       "      <th>Ground</th>\n",
       "      <td>0.066667</td>\n",
       "    </tr>\n",
       "    <tr>\n",
       "      <th>Fighting</th>\n",
       "      <td>0.000000</td>\n",
       "    </tr>\n",
       "    <tr>\n",
       "      <th>Poison</th>\n",
       "      <td>0.111111</td>\n",
       "    </tr>\n",
       "    <tr>\n",
       "      <th>Grass</th>\n",
       "      <td>0.000000</td>\n",
       "    </tr>\n",
       "    <tr>\n",
       "      <th>Psychic</th>\n",
       "      <td>0.000000</td>\n",
       "    </tr>\n",
       "    <tr>\n",
       "      <th>Normal</th>\n",
       "      <td>0.368421</td>\n",
       "    </tr>\n",
       "    <tr>\n",
       "      <th>Water</th>\n",
       "      <td>0.142857</td>\n",
       "    </tr>\n",
       "    <tr>\n",
       "      <th>Flying</th>\n",
       "      <td>0.550000</td>\n",
       "    </tr>\n",
       "  </tbody>\n",
       "</table>\n",
       "</div>"
      ],
      "text/plain": [
       "          Test Accuracy\n",
       "Bug            0.000000\n",
       "Ice            0.000000\n",
       "Ghost          0.000000\n",
       "Rock           0.000000\n",
       "Dark           0.000000\n",
       "Steel          0.000000\n",
       "Dragon         0.000000\n",
       "Electric       0.000000\n",
       "Fire           0.000000\n",
       "Fairy          0.166667\n",
       "Ground         0.066667\n",
       "Fighting       0.000000\n",
       "Poison         0.111111\n",
       "Grass          0.000000\n",
       "Psychic        0.000000\n",
       "Normal         0.368421\n",
       "Water          0.142857\n",
       "Flying         0.550000"
      ]
     },
     "execution_count": 161,
     "metadata": {},
     "output_type": "execute_result"
    }
   ],
   "source": [
    "df_acc_sec_size_types[['Test Accuracy']]"
   ]
  },
  {
   "cell_type": "code",
   "execution_count": 162,
   "metadata": {
    "ExecuteTime": {
     "end_time": "2020-08-11T16:10:38.906058Z",
     "start_time": "2020-08-11T16:10:38.875141Z"
    }
   },
   "outputs": [],
   "source": [
    "cols = ['Machine Learning Method', 'Test Accuracy',\n",
    "        'Best Parameter', 'Top Predictor Variable']\n",
    "df_acc_sec_size_gen = pd.DataFrame(columns=cols)\n",
    "gen_scaled = dict(zip(range(1, 8), np.unique(X_val[:, -1])))\n",
    "\n",
    "# for i, m in enumerate(models):\n",
    "m = 'Logistic Regression (L1)'\n",
    "\n",
    "for i in range(1,8):\n",
    "    try:\n",
    "        top_predictor = dict(zip(X.columns, np.abs(models[m].best_estimator_.coef_).mean(axis=0)))\n",
    "\n",
    "    except AttributeError:\n",
    "        top_predictor = np.nan\n",
    "    \n",
    "    df_acc_sec_size_gen.loc[i] = [m, \n",
    "                     models[m].best_estimator_.score(X_val[X_val[:, -1]==gen_scaled[i]], y_val[X_val[:, -1]==gen_scaled[i]]),\n",
    "                     models[m].best_params_ ,\n",
    "                     top_predictor]"
   ]
  },
  {
   "cell_type": "code",
   "execution_count": 163,
   "metadata": {
    "ExecuteTime": {
     "end_time": "2020-08-11T16:10:38.914037Z",
     "start_time": "2020-08-11T16:10:38.909050Z"
    }
   },
   "outputs": [
    {
     "data": {
      "text/plain": [
       "{'size': 0.04152374006783139,\n",
       " 'mean_width': 0.08251728271158644,\n",
       " 'mode_width': 0.037621426146925395,\n",
       " 'std_width': 0.12446818133600407,\n",
       " 'mean_length': 0.08135828626445102,\n",
       " 'mode_length': 0.0783503106901134,\n",
       " 'std_length': 0.08498692666930616,\n",
       " 'Generation': 0.17694785326190432}"
      ]
     },
     "execution_count": 163,
     "metadata": {},
     "output_type": "execute_result"
    }
   ],
   "source": [
    "df_acc_sec_size_gen['Top Predictor Variable'][1]"
   ]
  },
  {
   "cell_type": "code",
   "execution_count": 164,
   "metadata": {
    "ExecuteTime": {
     "end_time": "2020-08-11T16:10:38.926005Z",
     "start_time": "2020-08-11T16:10:38.915034Z"
    }
   },
   "outputs": [
    {
     "data": {
      "text/html": [
       "<div>\n",
       "<style scoped>\n",
       "    .dataframe tbody tr th:only-of-type {\n",
       "        vertical-align: middle;\n",
       "    }\n",
       "\n",
       "    .dataframe tbody tr th {\n",
       "        vertical-align: top;\n",
       "    }\n",
       "\n",
       "    .dataframe thead th {\n",
       "        text-align: right;\n",
       "    }\n",
       "</style>\n",
       "<table border=\"1\" class=\"dataframe\">\n",
       "  <thead>\n",
       "    <tr style=\"text-align: right;\">\n",
       "      <th></th>\n",
       "      <th>Test Accuracy</th>\n",
       "    </tr>\n",
       "    <tr>\n",
       "      <th>Generation</th>\n",
       "      <th></th>\n",
       "    </tr>\n",
       "  </thead>\n",
       "  <tbody>\n",
       "    <tr>\n",
       "      <th>I</th>\n",
       "      <td>0.078947</td>\n",
       "    </tr>\n",
       "    <tr>\n",
       "      <th>II</th>\n",
       "      <td>0.090909</td>\n",
       "    </tr>\n",
       "    <tr>\n",
       "      <th>III</th>\n",
       "      <td>0.060606</td>\n",
       "    </tr>\n",
       "    <tr>\n",
       "      <th>IV</th>\n",
       "      <td>0.166667</td>\n",
       "    </tr>\n",
       "    <tr>\n",
       "      <th>V</th>\n",
       "      <td>0.136364</td>\n",
       "    </tr>\n",
       "    <tr>\n",
       "      <th>VI</th>\n",
       "      <td>0.142857</td>\n",
       "    </tr>\n",
       "    <tr>\n",
       "      <th>VII</th>\n",
       "      <td>0.190476</td>\n",
       "    </tr>\n",
       "  </tbody>\n",
       "</table>\n",
       "</div>"
      ],
      "text/plain": [
       "            Test Accuracy\n",
       "Generation               \n",
       "I                0.078947\n",
       "II               0.090909\n",
       "III              0.060606\n",
       "IV               0.166667\n",
       "V                0.136364\n",
       "VI               0.142857\n",
       "VII              0.190476"
      ]
     },
     "execution_count": 164,
     "metadata": {},
     "output_type": "execute_result"
    }
   ],
   "source": [
    "df_acc_sec_size_gen['Generation'] = ['I', 'II', 'III', 'IV', 'V', 'VI', 'VII']\n",
    "df_acc_sec_size_gen.set_index('Generation', inplace=True)\n",
    "df_acc_sec_size_gen[['Test Accuracy']]"
   ]
  },
  {
   "cell_type": "markdown",
   "metadata": {},
   "source": [
    "<a id=\"imb-sum\"></a>\n",
    "\n",
    "### Summary (Imbalanced)\n",
    "We summarize and compare our results for the imbalanced dataset as follows:"
   ]
  },
  {
   "cell_type": "markdown",
   "metadata": {},
   "source": [
    "For the prediction accuracy of different Pokemon types, the best set of features are shown below:"
   ]
  },
  {
   "cell_type": "code",
   "execution_count": 165,
   "metadata": {
    "ExecuteTime": {
     "end_time": "2020-08-11T16:10:38.943957Z",
     "start_time": "2020-08-11T16:10:38.927002Z"
    }
   },
   "outputs": [
    {
     "data": {
      "text/html": [
       "<div>\n",
       "<style scoped>\n",
       "    .dataframe tbody tr th:only-of-type {\n",
       "        vertical-align: middle;\n",
       "    }\n",
       "\n",
       "    .dataframe tbody tr th {\n",
       "        vertical-align: top;\n",
       "    }\n",
       "\n",
       "    .dataframe thead th {\n",
       "        text-align: right;\n",
       "    }\n",
       "</style>\n",
       "<table border=\"1\" class=\"dataframe\">\n",
       "  <thead>\n",
       "    <tr style=\"text-align: right;\">\n",
       "      <th></th>\n",
       "      <th>All Features</th>\n",
       "      <th>Color Features</th>\n",
       "      <th>Size Features</th>\n",
       "      <th>Best set of features</th>\n",
       "    </tr>\n",
       "    <tr>\n",
       "      <th>Primary Type</th>\n",
       "      <th></th>\n",
       "      <th></th>\n",
       "      <th></th>\n",
       "      <th></th>\n",
       "    </tr>\n",
       "  </thead>\n",
       "  <tbody>\n",
       "    <tr>\n",
       "      <th>Flying</th>\n",
       "      <td>0.000000</td>\n",
       "      <td>0.000000</td>\n",
       "      <td>0.000000</td>\n",
       "      <td>None of the above</td>\n",
       "    </tr>\n",
       "    <tr>\n",
       "      <th>Fairy</th>\n",
       "      <td>0.200000</td>\n",
       "      <td>0.200000</td>\n",
       "      <td>0.000000</td>\n",
       "      <td>All Features</td>\n",
       "    </tr>\n",
       "    <tr>\n",
       "      <th>Ice</th>\n",
       "      <td>0.285714</td>\n",
       "      <td>0.285714</td>\n",
       "      <td>0.000000</td>\n",
       "      <td>All Features</td>\n",
       "    </tr>\n",
       "    <tr>\n",
       "      <th>Steel</th>\n",
       "      <td>0.000000</td>\n",
       "      <td>0.000000</td>\n",
       "      <td>0.000000</td>\n",
       "      <td>None of the above</td>\n",
       "    </tr>\n",
       "    <tr>\n",
       "      <th>Ghost</th>\n",
       "      <td>0.333333</td>\n",
       "      <td>0.000000</td>\n",
       "      <td>0.000000</td>\n",
       "      <td>All Features</td>\n",
       "    </tr>\n",
       "    <tr>\n",
       "      <th>Dragon</th>\n",
       "      <td>0.000000</td>\n",
       "      <td>0.000000</td>\n",
       "      <td>0.000000</td>\n",
       "      <td>None of the above</td>\n",
       "    </tr>\n",
       "    <tr>\n",
       "      <th>Fighting</th>\n",
       "      <td>0.000000</td>\n",
       "      <td>0.000000</td>\n",
       "      <td>0.000000</td>\n",
       "      <td>None of the above</td>\n",
       "    </tr>\n",
       "    <tr>\n",
       "      <th>Dark</th>\n",
       "      <td>0.400000</td>\n",
       "      <td>0.400000</td>\n",
       "      <td>0.000000</td>\n",
       "      <td>All Features</td>\n",
       "    </tr>\n",
       "    <tr>\n",
       "      <th>Ground</th>\n",
       "      <td>0.000000</td>\n",
       "      <td>0.000000</td>\n",
       "      <td>0.000000</td>\n",
       "      <td>None of the above</td>\n",
       "    </tr>\n",
       "    <tr>\n",
       "      <th>Poison</th>\n",
       "      <td>0.333333</td>\n",
       "      <td>0.500000</td>\n",
       "      <td>0.000000</td>\n",
       "      <td>Color Features</td>\n",
       "    </tr>\n",
       "    <tr>\n",
       "      <th>Electric</th>\n",
       "      <td>0.000000</td>\n",
       "      <td>0.000000</td>\n",
       "      <td>0.000000</td>\n",
       "      <td>None of the above</td>\n",
       "    </tr>\n",
       "    <tr>\n",
       "      <th>Rock</th>\n",
       "      <td>0.000000</td>\n",
       "      <td>0.000000</td>\n",
       "      <td>0.000000</td>\n",
       "      <td>None of the above</td>\n",
       "    </tr>\n",
       "    <tr>\n",
       "      <th>Fire</th>\n",
       "      <td>0.533333</td>\n",
       "      <td>0.466667</td>\n",
       "      <td>0.000000</td>\n",
       "      <td>All Features</td>\n",
       "    </tr>\n",
       "    <tr>\n",
       "      <th>Psychic</th>\n",
       "      <td>0.000000</td>\n",
       "      <td>0.000000</td>\n",
       "      <td>0.000000</td>\n",
       "      <td>None of the above</td>\n",
       "    </tr>\n",
       "    <tr>\n",
       "      <th>Bug</th>\n",
       "      <td>0.333333</td>\n",
       "      <td>0.111111</td>\n",
       "      <td>0.111111</td>\n",
       "      <td>All Features</td>\n",
       "    </tr>\n",
       "    <tr>\n",
       "      <th>Grass</th>\n",
       "      <td>0.391304</td>\n",
       "      <td>0.478261</td>\n",
       "      <td>0.000000</td>\n",
       "      <td>Color Features</td>\n",
       "    </tr>\n",
       "    <tr>\n",
       "      <th>Normal</th>\n",
       "      <td>0.384615</td>\n",
       "      <td>0.307692</td>\n",
       "      <td>0.615385</td>\n",
       "      <td>Size Features</td>\n",
       "    </tr>\n",
       "    <tr>\n",
       "      <th>Water</th>\n",
       "      <td>0.500000</td>\n",
       "      <td>0.607143</td>\n",
       "      <td>0.500000</td>\n",
       "      <td>Color Features</td>\n",
       "    </tr>\n",
       "  </tbody>\n",
       "</table>\n",
       "</div>"
      ],
      "text/plain": [
       "              All Features  Color Features  Size Features Best set of features\n",
       "Primary Type                                                                  \n",
       "Flying            0.000000        0.000000       0.000000    None of the above\n",
       "Fairy             0.200000        0.200000       0.000000         All Features\n",
       "Ice               0.285714        0.285714       0.000000         All Features\n",
       "Steel             0.000000        0.000000       0.000000    None of the above\n",
       "Ghost             0.333333        0.000000       0.000000         All Features\n",
       "Dragon            0.000000        0.000000       0.000000    None of the above\n",
       "Fighting          0.000000        0.000000       0.000000    None of the above\n",
       "Dark              0.400000        0.400000       0.000000         All Features\n",
       "Ground            0.000000        0.000000       0.000000    None of the above\n",
       "Poison            0.333333        0.500000       0.000000       Color Features\n",
       "Electric          0.000000        0.000000       0.000000    None of the above\n",
       "Rock              0.000000        0.000000       0.000000    None of the above\n",
       "Fire              0.533333        0.466667       0.000000         All Features\n",
       "Psychic           0.000000        0.000000       0.000000    None of the above\n",
       "Bug               0.333333        0.111111       0.111111         All Features\n",
       "Grass             0.391304        0.478261       0.000000       Color Features\n",
       "Normal            0.384615        0.307692       0.615385        Size Features\n",
       "Water             0.500000        0.607143       0.500000       Color Features"
      ]
     },
     "execution_count": 165,
     "metadata": {},
     "output_type": "execute_result"
    }
   ],
   "source": [
    "df_prim_types = pd.DataFrame()\n",
    "df_prim_types['All Features'] = df_acc_prim_all_types['Test Accuracy']\n",
    "df_prim_types['Color Features'] = df_acc_prim_color_types['Test Accuracy']\n",
    "df_prim_types['Size Features'] = df_acc_prim_size_types['Test Accuracy']\n",
    "# df_acc_sec_size_gen\n",
    "df_prim_types['Best set of features'] = df_prim_types.idxmax(axis=1)\n",
    "df_prim_types.loc[df_prim_types[['All Features', 'Color Features', 'Size Features']].sum(axis=1)==0, 'Best set of features'] = 'None of the above'\n",
    "\n",
    "df_prim_types['Primary Type'] = df_prim_types.index\n",
    "df_prim_types.set_index('Primary Type', inplace=True)\n",
    "df_prim_types"
   ]
  },
  {
   "cell_type": "markdown",
   "metadata": {},
   "source": [
    "For different Pokemon types, it is noticeable how a different combination of features yields different accuracies for the classification. For example, types like Poison are best modeled using color features only due to their distinct violet color while Normal type Pokemon are different to classify using colors and are actually best predicted using size features."
   ]
  },
  {
   "cell_type": "code",
   "execution_count": 166,
   "metadata": {
    "ExecuteTime": {
     "end_time": "2020-08-11T16:10:38.960911Z",
     "start_time": "2020-08-11T16:10:38.944954Z"
    }
   },
   "outputs": [
    {
     "data": {
      "text/html": [
       "<div>\n",
       "<style scoped>\n",
       "    .dataframe tbody tr th:only-of-type {\n",
       "        vertical-align: middle;\n",
       "    }\n",
       "\n",
       "    .dataframe tbody tr th {\n",
       "        vertical-align: top;\n",
       "    }\n",
       "\n",
       "    .dataframe thead th {\n",
       "        text-align: right;\n",
       "    }\n",
       "</style>\n",
       "<table border=\"1\" class=\"dataframe\">\n",
       "  <thead>\n",
       "    <tr style=\"text-align: right;\">\n",
       "      <th></th>\n",
       "      <th>All Features</th>\n",
       "      <th>Color Features</th>\n",
       "      <th>Size Features</th>\n",
       "      <th>Best set of features</th>\n",
       "    </tr>\n",
       "    <tr>\n",
       "      <th>Generation</th>\n",
       "      <th></th>\n",
       "      <th></th>\n",
       "      <th></th>\n",
       "      <th></th>\n",
       "    </tr>\n",
       "  </thead>\n",
       "  <tbody>\n",
       "    <tr>\n",
       "      <th>I</th>\n",
       "      <td>0.368421</td>\n",
       "      <td>0.342105</td>\n",
       "      <td>0.263158</td>\n",
       "      <td>All Features</td>\n",
       "    </tr>\n",
       "    <tr>\n",
       "      <th>II</th>\n",
       "      <td>0.318182</td>\n",
       "      <td>0.409091</td>\n",
       "      <td>0.136364</td>\n",
       "      <td>Color Features</td>\n",
       "    </tr>\n",
       "    <tr>\n",
       "      <th>III</th>\n",
       "      <td>0.181818</td>\n",
       "      <td>0.212121</td>\n",
       "      <td>0.181818</td>\n",
       "      <td>Color Features</td>\n",
       "    </tr>\n",
       "    <tr>\n",
       "      <th>IV</th>\n",
       "      <td>0.125000</td>\n",
       "      <td>0.125000</td>\n",
       "      <td>0.166667</td>\n",
       "      <td>Size Features</td>\n",
       "    </tr>\n",
       "    <tr>\n",
       "      <th>V</th>\n",
       "      <td>0.340909</td>\n",
       "      <td>0.250000</td>\n",
       "      <td>0.136364</td>\n",
       "      <td>All Features</td>\n",
       "    </tr>\n",
       "    <tr>\n",
       "      <th>VI</th>\n",
       "      <td>0.238095</td>\n",
       "      <td>0.190476</td>\n",
       "      <td>0.047619</td>\n",
       "      <td>All Features</td>\n",
       "    </tr>\n",
       "    <tr>\n",
       "      <th>VII</th>\n",
       "      <td>0.142857</td>\n",
       "      <td>0.238095</td>\n",
       "      <td>0.047619</td>\n",
       "      <td>Color Features</td>\n",
       "    </tr>\n",
       "  </tbody>\n",
       "</table>\n",
       "</div>"
      ],
      "text/plain": [
       "            All Features  Color Features  Size Features Best set of features\n",
       "Generation                                                                  \n",
       "I               0.368421        0.342105       0.263158         All Features\n",
       "II              0.318182        0.409091       0.136364       Color Features\n",
       "III             0.181818        0.212121       0.181818       Color Features\n",
       "IV              0.125000        0.125000       0.166667        Size Features\n",
       "V               0.340909        0.250000       0.136364         All Features\n",
       "VI              0.238095        0.190476       0.047619         All Features\n",
       "VII             0.142857        0.238095       0.047619       Color Features"
      ]
     },
     "execution_count": 166,
     "metadata": {},
     "output_type": "execute_result"
    }
   ],
   "source": [
    "df_prim_gen = pd.DataFrame()\n",
    "df_prim_gen['All Features'] = df_acc_prim_all_gen['Test Accuracy']\n",
    "df_prim_gen['Color Features'] = df_acc_prim_color_gen['Test Accuracy']\n",
    "df_prim_gen['Size Features'] = df_acc_prim_size_gen['Test Accuracy']\n",
    "# df_acc_sec_size_gen\n",
    "df_prim_gen['Best set of features'] = df_prim_gen.idxmax(axis=1)\n",
    "df_prim_gen.loc[df_prim_gen[['All Features', 'Color Features', 'Size Features']].sum(axis=1)==0, 'Best set of features'] = 'None of the above'\n",
    "\n",
    "df_prim_gen['Generation'] = df_prim_gen.index\n",
    "df_prim_gen.set_index('Generation', inplace=True)\n",
    "df_prim_gen"
   ]
  },
  {
   "cell_type": "markdown",
   "metadata": {},
   "source": [
    "Across different generations, different types of Pokemon are introduced. This is why there are no significant differences across different generation groups on the accuracies for different set of features."
   ]
  },
  {
   "cell_type": "markdown",
   "metadata": {},
   "source": [
    "Now, we summarize the results for classification of Pokemon secondary types."
   ]
  },
  {
   "cell_type": "code",
   "execution_count": 167,
   "metadata": {
    "ExecuteTime": {
     "end_time": "2020-08-11T16:10:38.980858Z",
     "start_time": "2020-08-11T16:10:38.961909Z"
    }
   },
   "outputs": [
    {
     "data": {
      "text/html": [
       "<div>\n",
       "<style scoped>\n",
       "    .dataframe tbody tr th:only-of-type {\n",
       "        vertical-align: middle;\n",
       "    }\n",
       "\n",
       "    .dataframe tbody tr th {\n",
       "        vertical-align: top;\n",
       "    }\n",
       "\n",
       "    .dataframe thead th {\n",
       "        text-align: right;\n",
       "    }\n",
       "</style>\n",
       "<table border=\"1\" class=\"dataframe\">\n",
       "  <thead>\n",
       "    <tr style=\"text-align: right;\">\n",
       "      <th></th>\n",
       "      <th>All Features</th>\n",
       "      <th>Color Features</th>\n",
       "      <th>Size Features</th>\n",
       "      <th>Best set of features</th>\n",
       "    </tr>\n",
       "    <tr>\n",
       "      <th>Secondary Type</th>\n",
       "      <th></th>\n",
       "      <th></th>\n",
       "      <th></th>\n",
       "      <th></th>\n",
       "    </tr>\n",
       "  </thead>\n",
       "  <tbody>\n",
       "    <tr>\n",
       "      <th>Bug</th>\n",
       "      <td>0.000000</td>\n",
       "      <td>0.000000</td>\n",
       "      <td>0.000000</td>\n",
       "      <td>None of the above</td>\n",
       "    </tr>\n",
       "    <tr>\n",
       "      <th>Ice</th>\n",
       "      <td>0.666667</td>\n",
       "      <td>0.666667</td>\n",
       "      <td>0.000000</td>\n",
       "      <td>All Features</td>\n",
       "    </tr>\n",
       "    <tr>\n",
       "      <th>Ghost</th>\n",
       "      <td>0.333333</td>\n",
       "      <td>0.000000</td>\n",
       "      <td>0.000000</td>\n",
       "      <td>All Features</td>\n",
       "    </tr>\n",
       "    <tr>\n",
       "      <th>Rock</th>\n",
       "      <td>0.000000</td>\n",
       "      <td>0.000000</td>\n",
       "      <td>0.000000</td>\n",
       "      <td>None of the above</td>\n",
       "    </tr>\n",
       "    <tr>\n",
       "      <th>Dark</th>\n",
       "      <td>0.300000</td>\n",
       "      <td>0.300000</td>\n",
       "      <td>0.000000</td>\n",
       "      <td>All Features</td>\n",
       "    </tr>\n",
       "    <tr>\n",
       "      <th>Steel</th>\n",
       "      <td>0.200000</td>\n",
       "      <td>0.200000</td>\n",
       "      <td>0.000000</td>\n",
       "      <td>All Features</td>\n",
       "    </tr>\n",
       "    <tr>\n",
       "      <th>Dragon</th>\n",
       "      <td>0.000000</td>\n",
       "      <td>0.000000</td>\n",
       "      <td>0.000000</td>\n",
       "      <td>None of the above</td>\n",
       "    </tr>\n",
       "    <tr>\n",
       "      <th>Electric</th>\n",
       "      <td>0.000000</td>\n",
       "      <td>0.100000</td>\n",
       "      <td>0.000000</td>\n",
       "      <td>Color Features</td>\n",
       "    </tr>\n",
       "    <tr>\n",
       "      <th>Fire</th>\n",
       "      <td>0.555556</td>\n",
       "      <td>0.444444</td>\n",
       "      <td>0.000000</td>\n",
       "      <td>All Features</td>\n",
       "    </tr>\n",
       "    <tr>\n",
       "      <th>Fairy</th>\n",
       "      <td>0.333333</td>\n",
       "      <td>0.333333</td>\n",
       "      <td>0.166667</td>\n",
       "      <td>All Features</td>\n",
       "    </tr>\n",
       "    <tr>\n",
       "      <th>Ground</th>\n",
       "      <td>0.133333</td>\n",
       "      <td>0.000000</td>\n",
       "      <td>0.066667</td>\n",
       "      <td>All Features</td>\n",
       "    </tr>\n",
       "    <tr>\n",
       "      <th>Fighting</th>\n",
       "      <td>0.066667</td>\n",
       "      <td>0.066667</td>\n",
       "      <td>0.000000</td>\n",
       "      <td>All Features</td>\n",
       "    </tr>\n",
       "    <tr>\n",
       "      <th>Poison</th>\n",
       "      <td>0.333333</td>\n",
       "      <td>0.444444</td>\n",
       "      <td>0.111111</td>\n",
       "      <td>Color Features</td>\n",
       "    </tr>\n",
       "    <tr>\n",
       "      <th>Grass</th>\n",
       "      <td>0.545455</td>\n",
       "      <td>0.545455</td>\n",
       "      <td>0.000000</td>\n",
       "      <td>All Features</td>\n",
       "    </tr>\n",
       "    <tr>\n",
       "      <th>Psychic</th>\n",
       "      <td>0.000000</td>\n",
       "      <td>0.000000</td>\n",
       "      <td>0.000000</td>\n",
       "      <td>None of the above</td>\n",
       "    </tr>\n",
       "    <tr>\n",
       "      <th>Normal</th>\n",
       "      <td>0.315789</td>\n",
       "      <td>0.263158</td>\n",
       "      <td>0.368421</td>\n",
       "      <td>Size Features</td>\n",
       "    </tr>\n",
       "    <tr>\n",
       "      <th>Water</th>\n",
       "      <td>0.333333</td>\n",
       "      <td>0.380952</td>\n",
       "      <td>0.142857</td>\n",
       "      <td>Color Features</td>\n",
       "    </tr>\n",
       "    <tr>\n",
       "      <th>Flying</th>\n",
       "      <td>0.300000</td>\n",
       "      <td>0.250000</td>\n",
       "      <td>0.550000</td>\n",
       "      <td>Size Features</td>\n",
       "    </tr>\n",
       "  </tbody>\n",
       "</table>\n",
       "</div>"
      ],
      "text/plain": [
       "                All Features  Color Features  Size Features  \\\n",
       "Secondary Type                                                \n",
       "Bug                 0.000000        0.000000       0.000000   \n",
       "Ice                 0.666667        0.666667       0.000000   \n",
       "Ghost               0.333333        0.000000       0.000000   \n",
       "Rock                0.000000        0.000000       0.000000   \n",
       "Dark                0.300000        0.300000       0.000000   \n",
       "Steel               0.200000        0.200000       0.000000   \n",
       "Dragon              0.000000        0.000000       0.000000   \n",
       "Electric            0.000000        0.100000       0.000000   \n",
       "Fire                0.555556        0.444444       0.000000   \n",
       "Fairy               0.333333        0.333333       0.166667   \n",
       "Ground              0.133333        0.000000       0.066667   \n",
       "Fighting            0.066667        0.066667       0.000000   \n",
       "Poison              0.333333        0.444444       0.111111   \n",
       "Grass               0.545455        0.545455       0.000000   \n",
       "Psychic             0.000000        0.000000       0.000000   \n",
       "Normal              0.315789        0.263158       0.368421   \n",
       "Water               0.333333        0.380952       0.142857   \n",
       "Flying              0.300000        0.250000       0.550000   \n",
       "\n",
       "               Best set of features  \n",
       "Secondary Type                       \n",
       "Bug               None of the above  \n",
       "Ice                    All Features  \n",
       "Ghost                  All Features  \n",
       "Rock              None of the above  \n",
       "Dark                   All Features  \n",
       "Steel                  All Features  \n",
       "Dragon            None of the above  \n",
       "Electric             Color Features  \n",
       "Fire                   All Features  \n",
       "Fairy                  All Features  \n",
       "Ground                 All Features  \n",
       "Fighting               All Features  \n",
       "Poison               Color Features  \n",
       "Grass                  All Features  \n",
       "Psychic           None of the above  \n",
       "Normal                Size Features  \n",
       "Water                Color Features  \n",
       "Flying                Size Features  "
      ]
     },
     "execution_count": 167,
     "metadata": {},
     "output_type": "execute_result"
    }
   ],
   "source": [
    "df_sec_types = pd.DataFrame()\n",
    "df_sec_types['All Features'] = df_acc_sec_all_types['Test Accuracy']\n",
    "df_sec_types['Color Features'] = df_acc_sec_color_types['Test Accuracy']\n",
    "df_sec_types['Size Features'] = df_acc_sec_size_types['Test Accuracy']\n",
    "# df_acc_sec_size_gen\n",
    "df_sec_types['Best set of features'] = df_sec_types.idxmax(axis=1)\n",
    "df_sec_types.loc[df_sec_types[['All Features', 'Color Features', 'Size Features']].sum(axis=1)==0, 'Best set of features'] = 'None of the above'\n",
    "\n",
    "\n",
    "df_sec_types['Secondary Type'] = df_sec_types.index\n",
    "df_sec_types.set_index('Secondary Type', inplace=True)\n",
    "df_sec_types"
   ]
  },
  {
   "cell_type": "markdown",
   "metadata": {},
   "source": [
    "Note that the data here is still imbalanced but similar observation can be made here wherein different set of features yield different accuracies for different Pokemon typings. Interestingly, there are less zero accuracies here than the Primary types, which could be an indicator of the higher predictability of Secondary Types rather than the Primary Types with our features. However, it could also be an artifact of the distribution of classes for the Secondary Types. We will stop that analysis there and balance the data instead to obtain better accuracies."
   ]
  },
  {
   "cell_type": "code",
   "execution_count": 168,
   "metadata": {
    "ExecuteTime": {
     "end_time": "2020-08-11T16:10:38.997813Z",
     "start_time": "2020-08-11T16:10:38.981856Z"
    }
   },
   "outputs": [
    {
     "data": {
      "text/html": [
       "<div>\n",
       "<style scoped>\n",
       "    .dataframe tbody tr th:only-of-type {\n",
       "        vertical-align: middle;\n",
       "    }\n",
       "\n",
       "    .dataframe tbody tr th {\n",
       "        vertical-align: top;\n",
       "    }\n",
       "\n",
       "    .dataframe thead th {\n",
       "        text-align: right;\n",
       "    }\n",
       "</style>\n",
       "<table border=\"1\" class=\"dataframe\">\n",
       "  <thead>\n",
       "    <tr style=\"text-align: right;\">\n",
       "      <th></th>\n",
       "      <th>All Features</th>\n",
       "      <th>Color Features</th>\n",
       "      <th>Size Features</th>\n",
       "      <th>Best set of features</th>\n",
       "    </tr>\n",
       "    <tr>\n",
       "      <th>Generation</th>\n",
       "      <th></th>\n",
       "      <th></th>\n",
       "      <th></th>\n",
       "      <th></th>\n",
       "    </tr>\n",
       "  </thead>\n",
       "  <tbody>\n",
       "    <tr>\n",
       "      <th>I</th>\n",
       "      <td>0.289474</td>\n",
       "      <td>0.263158</td>\n",
       "      <td>0.078947</td>\n",
       "      <td>All Features</td>\n",
       "    </tr>\n",
       "    <tr>\n",
       "      <th>II</th>\n",
       "      <td>0.181818</td>\n",
       "      <td>0.227273</td>\n",
       "      <td>0.090909</td>\n",
       "      <td>Color Features</td>\n",
       "    </tr>\n",
       "    <tr>\n",
       "      <th>III</th>\n",
       "      <td>0.121212</td>\n",
       "      <td>0.121212</td>\n",
       "      <td>0.060606</td>\n",
       "      <td>All Features</td>\n",
       "    </tr>\n",
       "    <tr>\n",
       "      <th>IV</th>\n",
       "      <td>0.333333</td>\n",
       "      <td>0.250000</td>\n",
       "      <td>0.166667</td>\n",
       "      <td>All Features</td>\n",
       "    </tr>\n",
       "    <tr>\n",
       "      <th>V</th>\n",
       "      <td>0.272727</td>\n",
       "      <td>0.295455</td>\n",
       "      <td>0.136364</td>\n",
       "      <td>Color Features</td>\n",
       "    </tr>\n",
       "    <tr>\n",
       "      <th>VI</th>\n",
       "      <td>0.333333</td>\n",
       "      <td>0.285714</td>\n",
       "      <td>0.142857</td>\n",
       "      <td>All Features</td>\n",
       "    </tr>\n",
       "    <tr>\n",
       "      <th>VII</th>\n",
       "      <td>0.095238</td>\n",
       "      <td>0.047619</td>\n",
       "      <td>0.190476</td>\n",
       "      <td>Size Features</td>\n",
       "    </tr>\n",
       "  </tbody>\n",
       "</table>\n",
       "</div>"
      ],
      "text/plain": [
       "            All Features  Color Features  Size Features Best set of features\n",
       "Generation                                                                  \n",
       "I               0.289474        0.263158       0.078947         All Features\n",
       "II              0.181818        0.227273       0.090909       Color Features\n",
       "III             0.121212        0.121212       0.060606         All Features\n",
       "IV              0.333333        0.250000       0.166667         All Features\n",
       "V               0.272727        0.295455       0.136364       Color Features\n",
       "VI              0.333333        0.285714       0.142857         All Features\n",
       "VII             0.095238        0.047619       0.190476        Size Features"
      ]
     },
     "execution_count": 168,
     "metadata": {},
     "output_type": "execute_result"
    }
   ],
   "source": [
    "df_sec_gen = pd.DataFrame()\n",
    "df_sec_gen['All Features'] = df_acc_sec_all_gen['Test Accuracy']\n",
    "df_sec_gen['Color Features'] = df_acc_sec_color_gen['Test Accuracy']\n",
    "df_sec_gen['Size Features'] = df_acc_sec_size_gen['Test Accuracy']\n",
    "# df_acc_sec_size_gen\n",
    "df_sec_gen['Best set of features'] = df_sec_gen.idxmax(axis=1)\n",
    "df_sec_gen.loc[df_sec_gen[['All Features', 'Color Features', 'Size Features']].sum(axis=1)==0, 'Best set of features'] = 'None of the above'\n",
    "\n",
    "\n",
    "df_sec_gen['Generation'] = df_sec_gen.index\n",
    "df_sec_gen.set_index('Generation', inplace=True)\n",
    "df_sec_gen"
   ]
  },
  {
   "cell_type": "markdown",
   "metadata": {},
   "source": [
    "Similar to the Primary Types, there are no significant differences in the use of different set of features for the accuracies of Pokemons from different generations."
   ]
  },
  {
   "cell_type": "markdown",
   "metadata": {},
   "source": [
    "<a id=\"balanced\"></a>\n",
    "\n",
    "# Data balancing through undersampling\n",
    "As mentioned earlier, the data is quite imbalanced. For this analysis, we will use undersampling with two purposes:\n",
    "1. Make the data balanced\n",
    "2. Reduce the target classes to improve predictability\n",
    "\n",
    "Again, we perform this analysis by considering the Primary Type and the Secondary Type as the target separately. The following steps will not be discussed as the methodology employed here will be the same as the <a href='#imbalanced'>imbalanced dataset</a>"
   ]
  },
  {
   "cell_type": "markdown",
   "metadata": {},
   "source": [
    "<a id=\"bal-main\"></a>\n",
    "\n",
    "### Primary Type"
   ]
  },
  {
   "cell_type": "markdown",
   "metadata": {},
   "source": [
    "From the original dataset:"
   ]
  },
  {
   "cell_type": "code",
   "execution_count": 169,
   "metadata": {
    "ExecuteTime": {
     "end_time": "2020-08-11T16:10:39.138437Z",
     "start_time": "2020-08-11T16:10:38.998810Z"
    }
   },
   "outputs": [
    {
     "data": {
      "text/plain": [
       "<matplotlib.collections.PolyCollection at 0x15483b56808>"
      ]
     },
     "execution_count": 169,
     "metadata": {},
     "output_type": "execute_result"
    },
    {
     "data": {
      "image/png": "[encoded data removed]",
      "text/plain": [
       "<Figure size 432x288 with 1 Axes>"
      ]
     },
     "metadata": {
      "needs_background": "light"
     },
     "output_type": "display_data"
    }
   ],
   "source": [
    "types = df_target_A.value_counts()\n",
    "plt.barh(types.index[::-1], types.values[::-1])\n",
    "plt.fill_between([0, 40], [9.5, 9.5], [17.5, 17.5], zorder=2, alpha=0.5)"
   ]
  },
  {
   "cell_type": "markdown",
   "metadata": {},
   "source": [
    "The orange filled area will be the sampled data."
   ]
  },
  {
   "cell_type": "code",
   "execution_count": 170,
   "metadata": {
    "ExecuteTime": {
     "end_time": "2020-08-11T16:10:39.147413Z",
     "start_time": "2020-08-11T16:10:39.139435Z"
    }
   },
   "outputs": [],
   "source": [
    "thresholded_A = pd.Series(df_target_A.index.values, index=df_target_A)[df_target_A.value_counts()>=40]\n",
    "df_target_A_balanced = df_target_A[thresholded_A]"
   ]
  },
  {
   "cell_type": "code",
   "execution_count": 171,
   "metadata": {
    "ExecuteTime": {
     "end_time": "2020-08-11T16:10:39.377797Z",
     "start_time": "2020-08-11T16:10:39.148412Z"
    }
   },
   "outputs": [],
   "source": [
    "df_temp = df_target_A_balanced.groupby(df_target_A_balanced).apply(lambda x: x.sample(n=40)).reset_index(level=1)\n",
    "df_temp.set_index('Pokedex Number', inplace=True)\n",
    "\n",
    "df_target_A_balanced = df_target_A_balanced[df_temp.index]"
   ]
  },
  {
   "cell_type": "markdown",
   "metadata": {},
   "source": [
    "#### Combined features"
   ]
  },
  {
   "cell_type": "code",
   "execution_count": 172,
   "metadata": {
    "ExecuteTime": {
     "end_time": "2020-08-11T16:10:39.384779Z",
     "start_time": "2020-08-11T16:10:39.378794Z"
    }
   },
   "outputs": [],
   "source": [
    "df_feat_balanced = df_feat.loc[thresholded_A]\n",
    "df_feat_balanced = df_feat_balanced.loc[df_temp.index]"
   ]
  },
  {
   "cell_type": "code",
   "execution_count": 173,
   "metadata": {
    "ExecuteTime": {
     "end_time": "2020-08-11T16:10:39.396746Z",
     "start_time": "2020-08-11T16:10:39.385776Z"
    }
   },
   "outputs": [],
   "source": [
    "cl1 = KNeighborsClassifier(n_jobs=-1)\n",
    "cl2 = LogisticRegression(penalty='l1', max_iter=1000,\n",
    "                         solver='liblinear', n_jobs=-1)\n",
    "cl3 = LogisticRegression(penalty='l2', max_iter=1000, n_jobs=-1)\n",
    "cl4 = LinearSVC(penalty='l1', dual=False, max_iter=10000)\n",
    "cl5 = LinearSVC(penalty='l2', max_iter=10000)\n",
    "cl6 = SVC(kernel='rbf', )\n",
    "cl7 = SVC(kernel='poly', degree=3)\n",
    "cl8 = DecisionTreeClassifier()\n",
    "cl9 = RandomForestClassifier(max_features='sqrt')\n",
    "cl10 = GradientBoostingClassifier()\n",
    "kneighbors = range(1, 31)\n",
    "C_list = np.logspace(-5, 5, num=10)\n",
    "gamma_list = np.logspace(-5, 5, num=10)\n",
    "\n",
    "estimators = [('KNN', cl1, {'n_neighbors':kneighbors}),\n",
    "              ('Logistic Regression (L1)', cl2, {'C':C_list}),\n",
    "              ('Logistic Regression (L2)', cl3, {'C':C_list}),\n",
    "              ('Linear SVM (L1)', cl4, {'C':C_list}),\n",
    "              ('Linear SVM (L2)', cl5, {'C':C_list}),\n",
    "              ('NonLinear SVM (RBF)', cl6, {'C':C_list,\n",
    "                                            'gamma':gamma_list}),\n",
    "              ('NonLinear SVM (Poly)', cl7, {'C':C_list,\n",
    "                                             'gamma':gamma_list}),\n",
    "              ('Decision Tree', cl8, {'max_depth':range(1,11),\n",
    "                                      'criterion':['gini', 'entropy']}),\n",
    "              ('Random Forest', cl9, {'max_depth':range(1,4),\n",
    "                                      'n_estimators':range(10,101,10),\n",
    "                                      'criterion':['gini', 'entropy']}),\n",
    "              ('GBM', cl10, {'max_depth':range(1,4),\n",
    "                            'n_estimators':range(10,101,10),\n",
    "                            'learning_rate':np.arange(0.1,1.01,0.1)})]"
   ]
  },
  {
   "cell_type": "code",
   "execution_count": 174,
   "metadata": {
    "ExecuteTime": {
     "end_time": "2020-08-11T16:10:39.413701Z",
     "start_time": "2020-08-11T16:10:39.397744Z"
    }
   },
   "outputs": [],
   "source": [
    "X = df_feat_balanced.astype(float)\n",
    "y = df_target_A_balanced\n",
    "\n",
    "X_train, X_val, y_train, y_val = model_selection.train_test_split(X, y,\n",
    "                                                            random_state=1)\n",
    "scaler = preprocessing.RobustScaler()\n",
    "X_train = scaler.fit_transform(X_train)\n",
    "X_val = scaler.transform(X_val)"
   ]
  },
  {
   "cell_type": "code",
   "execution_count": null,
   "metadata": {
    "ExecuteTime": {
     "start_time": "2020-08-11T16:01:01.637Z"
    }
   },
   "outputs": [
    {
     "name": "stdout",
     "output_type": "stream",
     "text": [
      "Training ('KNN', KNeighborsClassifier(algorithm='auto', leaf_size=30, metric='minkowski',\n",
      "                     metric_params=None, n_jobs=-1, n_neighbors=5, p=2,\n",
      "                     weights='uniform'), {'n_neighbors': range(1, 31)})\n",
      "\n",
      "Training ('Logistic Regression (L1)', LogisticRegression(C=1.0, class_weight=None, dual=False, fit_intercept=True,\n",
      "                   intercept_scaling=1, l1_ratio=None, max_iter=1000,\n",
      "                   multi_class='auto', n_jobs=-1, penalty='l1',\n",
      "                   random_state=None, solver='liblinear', tol=0.0001, verbose=0,\n",
      "                   warm_start=False), {'C': array([1.00000000e-05, 1.29154967e-04, 1.66810054e-03, 2.15443469e-02,\n",
      "       2.78255940e-01, 3.59381366e+00, 4.64158883e+01, 5.99484250e+02,\n",
      "       7.74263683e+03, 1.00000000e+05])})\n",
      "\n",
      "Training ('Logistic Regression (L2)', LogisticRegression(C=1.0, class_weight=None, dual=False, fit_intercept=True,\n",
      "                   intercept_scaling=1, l1_ratio=None, max_iter=1000,\n",
      "                   multi_class='auto', n_jobs=-1, penalty='l2',\n",
      "                   random_state=None, solver='lbfgs', tol=0.0001, verbose=0,\n",
      "                   warm_start=False), {'C': array([1.00000000e-05, 1.29154967e-04, 1.66810054e-03, 2.15443469e-02,\n",
      "       2.78255940e-01, 3.59381366e+00, 4.64158883e+01, 5.99484250e+02,\n",
      "       7.74263683e+03, 1.00000000e+05])})\n",
      "\n",
      "Training ('Linear SVM (L1)', LinearSVC(C=1.0, class_weight=None, dual=False, fit_intercept=True,\n",
      "          intercept_scaling=1, loss='squared_hinge', max_iter=10000,\n",
      "          multi_class='ovr', penalty='l1', random_state=None, tol=0.0001,\n",
      "          verbose=0), {'C': array([1.00000000e-05, 1.29154967e-04, 1.66810054e-03, 2.15443469e-02,\n",
      "       2.78255940e-01, 3.59381366e+00, 4.64158883e+01, 5.99484250e+02,\n",
      "       7.74263683e+03, 1.00000000e+05])})\n",
      "\n",
      "Training ('Linear SVM (L2)', LinearSVC(C=1.0, class_weight=None, dual=True, fit_intercept=True,\n",
      "          intercept_scaling=1, loss='squared_hinge', max_iter=10000,\n",
      "          multi_class='ovr', penalty='l2', random_state=None, tol=0.0001,\n",
      "          verbose=0), {'C': array([1.00000000e-05, 1.29154967e-04, 1.66810054e-03, 2.15443469e-02,\n",
      "       2.78255940e-01, 3.59381366e+00, 4.64158883e+01, 5.99484250e+02,\n",
      "       7.74263683e+03, 1.00000000e+05])})\n",
      "\n",
      "Training ('NonLinear SVM (RBF)', SVC(C=1.0, break_ties=False, cache_size=200, class_weight=None, coef0=0.0,\n",
      "    decision_function_shape='ovr', degree=3, gamma='scale', kernel='rbf',\n",
      "    max_iter=-1, probability=False, random_state=None, shrinking=True,\n",
      "    tol=0.001, verbose=False), {'C': array([1.00000000e-05, 1.29154967e-04, 1.66810054e-03, 2.15443469e-02,\n",
      "       2.78255940e-01, 3.59381366e+00, 4.64158883e+01, 5.99484250e+02,\n",
      "       7.74263683e+03, 1.00000000e+05]), 'gamma': array([1.00000000e-05, 1.29154967e-04, 1.66810054e-03, 2.15443469e-02,\n",
      "       2.78255940e-01, 3.59381366e+00, 4.64158883e+01, 5.99484250e+02,\n",
      "       7.74263683e+03, 1.00000000e+05])})\n",
      "\n",
      "Training ('NonLinear SVM (Poly)', SVC(C=1.0, break_ties=False, cache_size=200, class_weight=None, coef0=0.0,\n",
      "    decision_function_shape='ovr', degree=3, gamma='scale', kernel='poly',\n",
      "    max_iter=-1, probability=False, random_state=None, shrinking=True,\n",
      "    tol=0.001, verbose=False), {'C': array([1.00000000e-05, 1.29154967e-04, 1.66810054e-03, 2.15443469e-02,\n",
      "       2.78255940e-01, 3.59381366e+00, 4.64158883e+01, 5.99484250e+02,\n",
      "       7.74263683e+03, 1.00000000e+05]), 'gamma': array([1.00000000e-05, 1.29154967e-04, 1.66810054e-03, 2.15443469e-02,\n",
      "       2.78255940e-01, 3.59381366e+00, 4.64158883e+01, 5.99484250e+02,\n",
      "       7.74263683e+03, 1.00000000e+05])})\n",
      "\n",
      "Training ('Decision Tree', DecisionTreeClassifier(ccp_alpha=0.0, class_weight=None, criterion='gini',\n",
      "                       max_depth=None, max_features=None, max_leaf_nodes=None,\n",
      "                       min_impurity_decrease=0.0, min_impurity_split=None,\n",
      "                       min_samples_leaf=1, min_samples_split=2,\n",
      "                       min_weight_fraction_leaf=0.0, presort='deprecated',\n",
      "                       random_state=None, splitter='best'), {'max_depth': range(1, 11), 'criterion': ['gini', 'entropy']})\n",
      "\n",
      "Training ('Random Forest', RandomForestClassifier(bootstrap=True, ccp_alpha=0.0, class_weight=None,\n",
      "                       criterion='gini', max_depth=None, max_features='sqrt',\n",
      "                       max_leaf_nodes=None, max_samples=None,\n",
      "                       min_impurity_decrease=0.0, min_impurity_split=None,\n",
      "                       min_samples_leaf=1, min_samples_split=2,\n",
      "                       min_weight_fraction_leaf=0.0, n_estimators=100,\n",
      "                       n_jobs=None, oob_score=False, random_state=None,\n",
      "                       verbose=0, warm_start=False), {'max_depth': range(1, 4), 'n_estimators': range(10, 101, 10), 'criterion': ['gini', 'entropy']})\n",
      "\n",
      "Training ('GBM', GradientBoostingClassifier(ccp_alpha=0.0, criterion='friedman_mse', init=None,\n",
      "                           learning_rate=0.1, loss='deviance', max_depth=3,\n",
      "                           max_features=None, max_leaf_nodes=None,\n",
      "                           min_impurity_decrease=0.0, min_impurity_split=None,\n",
      "                           min_samples_leaf=1, min_samples_split=2,\n",
      "                           min_weight_fraction_leaf=0.0, n_estimators=100,\n",
      "                           n_iter_no_change=None, presort='deprecated',\n",
      "                           random_state=None, subsample=1.0, tol=0.0001,\n",
      "                           validation_fraction=0.1, verbose=0,\n",
      "                           warm_start=False), {'max_depth': range(1, 4), 'n_estimators': range(10, 101, 10), 'learning_rate': array([0.1, 0.2, 0.3, 0.4, 0.5, 0.6, 0.7, 0.8, 0.9, 1. ])})\n",
      "\n"
     ]
    }
   ],
   "source": [
    "models = {}\n",
    "for est in estimators:\n",
    "    print(f'Training {est}\\n')\n",
    "    gs_cv = model_selection.GridSearchCV(est[1], param_grid=est[2], n_jobs=4)\n",
    "    gs_cv.fit(X_train, y_train)\n",
    "    models[est[0]] = gs_cv"
   ]
  },
  {
   "cell_type": "code",
   "execution_count": null,
   "metadata": {
    "ExecuteTime": {
     "start_time": "2020-08-11T16:01:01.642Z"
    }
   },
   "outputs": [],
   "source": [
    "cols = ['Machine Learning Method', 'Test Accuracy',\n",
    "        'Best Parameter', 'Top Predictor Variable']\n",
    "df_acc_prim_bal = pd.DataFrame(columns=cols)\n",
    "\n",
    "for i, m in enumerate(models):\n",
    "    \n",
    "    try:\n",
    "        top_predictor = dict(zip(X.columns, np.abs(models[m].best_estimator_.coef_).mean(axis=0)))\n",
    "\n",
    "    except AttributeError:\n",
    "        top_predictor = np.nan\n",
    "    \n",
    "    df_acc_prim_bal.loc[i] = [m, \n",
    "                 models[m].best_estimator_.score(X_val, y_val),\n",
    "                 models[m].best_params_ ,\n",
    "                 top_predictor]"
   ]
  },
  {
   "cell_type": "code",
   "execution_count": null,
   "metadata": {
    "ExecuteTime": {
     "start_time": "2020-08-11T16:01:01.648Z"
    }
   },
   "outputs": [],
   "source": [
    "df_acc_prim_bal"
   ]
  },
  {
   "cell_type": "markdown",
   "metadata": {},
   "source": [
    "This is the only difference in the analysis above - the model used here is Linear SVM (L1)."
   ]
  },
  {
   "cell_type": "code",
   "execution_count": null,
   "metadata": {
    "ExecuteTime": {
     "start_time": "2020-08-11T16:01:01.655Z"
    }
   },
   "outputs": [],
   "source": [
    "coefs = models['Linear SVM (L1)'].best_estimator_.coef_.mean(axis=0)\n",
    "plt.barh(df_feat.columns[np.argsort(coefs)], np.sort(coefs))\n",
    "plt.xlim(-max(abs(coefs)) -0.01, max(abs(coefs))+0.01)"
   ]
  },
  {
   "cell_type": "code",
   "execution_count": null,
   "metadata": {
    "ExecuteTime": {
     "start_time": "2020-08-11T16:01:01.660Z"
    }
   },
   "outputs": [],
   "source": [
    "cols = ['Machine Learning Method', 'Test Accuracy',\n",
    "        'Best Parameter', 'Top Predictor Variable']\n",
    "df_acc_prim_bal_types = pd.DataFrame(columns=cols)\n",
    "\n",
    "# for i, m in enumerate(models):\n",
    "m = 'Linear SVM (L1)'\n",
    "for i in df_target_A_balanced.value_counts().index[::-1]:\n",
    "    try:\n",
    "        top_predictor = X.columns[np.argmax(np.abs(models[m].best_estimator_.coef_).mean(axis=0))]\n",
    "\n",
    "    except AttributeError:\n",
    "        top_predictor = np.nan\n",
    "    \n",
    "    df_acc_prim_bal_types.loc[i] = [m, \n",
    "                 models[m].best_estimator_.score(X_val[y_val==i], y_val[y_val==i]),\n",
    "                 models[m].best_params_ ,\n",
    "                 top_predictor]"
   ]
  },
  {
   "cell_type": "code",
   "execution_count": null,
   "metadata": {
    "ExecuteTime": {
     "start_time": "2020-08-11T16:01:01.666Z"
    }
   },
   "outputs": [],
   "source": [
    "df_acc_prim_bal_types[['Test Accuracy']]"
   ]
  },
  {
   "cell_type": "code",
   "execution_count": null,
   "metadata": {
    "ExecuteTime": {
     "start_time": "2020-08-11T16:01:01.671Z"
    }
   },
   "outputs": [],
   "source": [
    "cols = ['Machine Learning Method', 'Test Accuracy',\n",
    "        'Best Parameter', 'Top Predictor Variable']\n",
    "df_acc_prim_bal_gen = pd.DataFrame(columns=cols)\n",
    "gen_scaled = dict(zip(range(1, 8), np.unique(X_val[:, -1])))\n",
    "\n",
    "# for i, m in enumerate(models):\n",
    "m = 'Linear SVM (L1)'\n",
    "\n",
    "for i in range(1,8):\n",
    "    try:\n",
    "        top_predictor = dict(zip(X.columns, np.abs(models[m].best_estimator_.coef_).mean(axis=0)))\n",
    "\n",
    "    except AttributeError:\n",
    "        top_predictor = np.nan\n",
    "    \n",
    "    df_acc_prim_bal_gen.loc[i] = [m, \n",
    "                     models[m].best_estimator_.score(X_val[X_val[:, -1]==gen_scaled[i]], y_val[X_val[:, -1]==gen_scaled[i]]),\n",
    "                     models[m].best_params_ ,\n",
    "                     top_predictor]"
   ]
  },
  {
   "cell_type": "code",
   "execution_count": null,
   "metadata": {
    "ExecuteTime": {
     "start_time": "2020-08-11T16:01:01.677Z"
    }
   },
   "outputs": [],
   "source": [
    "df_acc_prim_bal_gen['Top Predictor Variable'][1]"
   ]
  },
  {
   "cell_type": "code",
   "execution_count": null,
   "metadata": {
    "ExecuteTime": {
     "start_time": "2020-08-11T16:01:01.682Z"
    }
   },
   "outputs": [],
   "source": [
    "df_acc_prim_bal_gen['Generation'] = ['I', 'II', 'III', 'IV', 'V', 'VI', 'VII']\n",
    "df_acc_prim_bal_gen.set_index('Generation', inplace=True)\n",
    "df_acc_prim_bal_gen[['Test Accuracy']]"
   ]
  },
  {
   "cell_type": "markdown",
   "metadata": {},
   "source": [
    "#### Color features only"
   ]
  },
  {
   "cell_type": "code",
   "execution_count": null,
   "metadata": {
    "ExecuteTime": {
     "start_time": "2020-08-11T16:01:01.689Z"
    }
   },
   "outputs": [],
   "source": [
    "df_feat_color_balanced = df_feat_color.loc[thresholded_A]\n",
    "df_feat_color_balanced = df_feat_color_balanced.loc[df_temp.index]"
   ]
  },
  {
   "cell_type": "code",
   "execution_count": null,
   "metadata": {
    "ExecuteTime": {
     "start_time": "2020-08-11T16:01:01.694Z"
    }
   },
   "outputs": [],
   "source": [
    "cl1 = KNeighborsClassifier(n_jobs=-1)\n",
    "cl2 = LogisticRegression(penalty='l1', max_iter=1000,\n",
    "                         solver='liblinear', n_jobs=-1)\n",
    "cl3 = LogisticRegression(penalty='l2', max_iter=1000, n_jobs=-1)\n",
    "cl4 = LinearSVC(penalty='l1', dual=False, max_iter=10000)\n",
    "cl5 = LinearSVC(penalty='l2', max_iter=10000)\n",
    "cl6 = SVC(kernel='rbf', )\n",
    "cl7 = SVC(kernel='poly', degree=3)\n",
    "cl8 = DecisionTreeClassifier()\n",
    "cl9 = RandomForestClassifier(max_features='sqrt')\n",
    "cl10 = GradientBoostingClassifier()\n",
    "kneighbors = range(1, 31)\n",
    "C_list = np.logspace(-5, 5, num=10)\n",
    "gamma_list = np.logspace(-5, 5, num=10)\n",
    "\n",
    "estimators = [('KNN', cl1, {'n_neighbors':kneighbors}),\n",
    "              ('Logistic Regression (L1)', cl2, {'C':C_list}),\n",
    "              ('Logistic Regression (L2)', cl3, {'C':C_list}),\n",
    "              ('Linear SVM (L1)', cl4, {'C':C_list}),\n",
    "              ('Linear SVM (L2)', cl5, {'C':C_list}),\n",
    "              ('NonLinear SVM (RBF)', cl6, {'C':C_list,\n",
    "                                            'gamma':gamma_list}),\n",
    "              ('NonLinear SVM (Poly)', cl7, {'C':C_list,\n",
    "                                             'gamma':gamma_list}),\n",
    "              ('Decision Tree', cl8, {'max_depth':range(1,11),\n",
    "                                      'criterion':['gini', 'entropy']}),\n",
    "              ('Random Forest', cl9, {'max_depth':range(1,4),\n",
    "                                      'n_estimators':range(10,101,10),\n",
    "                                      'criterion':['gini', 'entropy']}),\n",
    "              ('GBM', cl10, {'max_depth':range(1,4),\n",
    "                            'n_estimators':range(10,101,10),\n",
    "                            'learning_rate':np.arange(0.1,1.01,0.1)})]"
   ]
  },
  {
   "cell_type": "code",
   "execution_count": null,
   "metadata": {
    "ExecuteTime": {
     "start_time": "2020-08-11T16:01:01.700Z"
    }
   },
   "outputs": [],
   "source": [
    "df.head()"
   ]
  },
  {
   "cell_type": "code",
   "execution_count": null,
   "metadata": {
    "ExecuteTime": {
     "start_time": "2020-08-11T16:01:01.705Z"
    }
   },
   "outputs": [],
   "source": [
    "X = df_feat_color_balanced\n",
    "X['Generation'] = df.loc[thresholded_A]['Generation'].astype(float)\n",
    "y = df_target_A_balanced\n",
    "\n",
    "X_train, X_val, y_train, y_val = model_selection.train_test_split(X, y,\n",
    "                                                            random_state=1)\n",
    "scaler = preprocessing.RobustScaler()\n",
    "X_train = scaler.fit_transform(X_train)\n",
    "X_val = scaler.transform(X_val)"
   ]
  },
  {
   "cell_type": "code",
   "execution_count": null,
   "metadata": {
    "ExecuteTime": {
     "start_time": "2020-08-11T16:01:01.711Z"
    }
   },
   "outputs": [],
   "source": [
    "models = {}\n",
    "for est in estimators[3:4]:\n",
    "    print(f'Training {est}\\n')\n",
    "    gs_cv = model_selection.GridSearchCV(est[1], param_grid=est[2], n_jobs=4)\n",
    "    gs_cv.fit(X_train, y_train)\n",
    "    models[est[0]] = gs_cv"
   ]
  },
  {
   "cell_type": "code",
   "execution_count": null,
   "metadata": {
    "ExecuteTime": {
     "start_time": "2020-08-11T16:01:01.716Z"
    }
   },
   "outputs": [],
   "source": [
    "cols = ['Machine Learning Method', 'Test Accuracy',\n",
    "        'Best Parameter', 'Top Predictor Variable']\n",
    "df_acc_prim_bal_color = pd.DataFrame(columns=cols)\n",
    "\n",
    "for i, m in enumerate(models):\n",
    "    \n",
    "    try:\n",
    "        top_predictor = X.columns[\n",
    "            np.argmax(np.abs(models[m].best_estimator_.coef_).mean(axis=0))]\n",
    "\n",
    "    except AttributeError:\n",
    "        top_predictor = np.nan\n",
    "    \n",
    "    df_acc_prim_bal_color.loc[i] = [m, \n",
    "                 models[m].best_estimator_.score(X_val, y_val),\n",
    "                 models[m].best_params_ ,\n",
    "                 top_predictor]"
   ]
  },
  {
   "cell_type": "code",
   "execution_count": null,
   "metadata": {
    "ExecuteTime": {
     "start_time": "2020-08-11T16:01:01.722Z"
    }
   },
   "outputs": [],
   "source": [
    "df_acc_prim_bal_color"
   ]
  },
  {
   "cell_type": "code",
   "execution_count": null,
   "metadata": {
    "ExecuteTime": {
     "start_time": "2020-08-11T16:01:01.728Z"
    }
   },
   "outputs": [],
   "source": [
    "coefs = models['Linear SVM (L1)'].best_estimator_.coef_.mean(axis=0)\n",
    "plt.barh(df_feat_color.columns[np.argsort(coefs)], np.sort(coefs))\n",
    "plt.xlim(-max(abs(coefs)) -0.01, max(abs(coefs))+0.01)"
   ]
  },
  {
   "cell_type": "code",
   "execution_count": null,
   "metadata": {
    "ExecuteTime": {
     "start_time": "2020-08-11T16:01:01.734Z"
    }
   },
   "outputs": [],
   "source": [
    "cols = ['Machine Learning Method', 'Test Accuracy',\n",
    "        'Best Parameter', 'Top Predictor Variable']\n",
    "df_acc_prim_bal_color_types = pd.DataFrame(columns=cols)\n",
    "\n",
    "# for i, m in enumerate(models):\n",
    "m = 'Linear SVM (L1)'\n",
    "for i in df_target_A_balanced.value_counts().index[::-1]:\n",
    "    try:\n",
    "        top_predictor = dict(zip(X.columns, np.abs(models[m].best_estimator_.coef_).mean(axis=0)))\n",
    "\n",
    "    except AttributeError:\n",
    "        top_predictor = np.nan\n",
    "    \n",
    "    df_acc_prim_bal_color_types.loc[i] = [m, \n",
    "                 models[m].best_estimator_.score(X_val[y_val==i], y_val[y_val==i]),\n",
    "                 models[m].best_params_ ,\n",
    "                 top_predictor]"
   ]
  },
  {
   "cell_type": "code",
   "execution_count": null,
   "metadata": {
    "ExecuteTime": {
     "start_time": "2020-08-11T16:01:01.740Z"
    }
   },
   "outputs": [],
   "source": [
    "df_acc_prim_bal_color_types[['Test Accuracy']]"
   ]
  },
  {
   "cell_type": "code",
   "execution_count": null,
   "metadata": {
    "ExecuteTime": {
     "start_time": "2020-08-11T16:01:01.746Z"
    }
   },
   "outputs": [],
   "source": [
    "cols = ['Machine Learning Method', 'Test Accuracy',\n",
    "        'Best Parameter', 'Top Predictor Variable']\n",
    "df_acc_prim_bal_color_gen = pd.DataFrame(columns=cols)\n",
    "gen_scaled = dict(zip(range(1, 8), np.unique(X_val[:, -1])))\n",
    "\n",
    "# for i, m in enumerate(models):\n",
    "m = 'Linear SVM (L1)'\n",
    "\n",
    "for i in range(1,8):\n",
    "    try:\n",
    "        top_predictor = dict(zip(X.columns, np.abs(models[m].best_estimator_.coef_).mean(axis=0)))\n",
    "\n",
    "    except AttributeError:\n",
    "        top_predictor = np.nan\n",
    "    \n",
    "    df_acc_prim_bal_color_gen.loc[i] = [m, \n",
    "                     models[m].best_estimator_.score(X_val[X_val[:, -1]==gen_scaled[i]], y_val[X_val[:, -1]==gen_scaled[i]]),\n",
    "                     models[m].best_params_ ,\n",
    "                     top_predictor]"
   ]
  },
  {
   "cell_type": "code",
   "execution_count": null,
   "metadata": {
    "ExecuteTime": {
     "start_time": "2020-08-11T16:01:01.752Z"
    }
   },
   "outputs": [],
   "source": [
    "df_acc_prim_bal_color_gen['Generation'] = ['I', 'II', 'III', 'IV', 'V', 'VI', 'VII']\n",
    "df_acc_prim_bal_color_gen.set_index('Generation', inplace=True)\n",
    "df_acc_prim_bal_color_gen[['Test Accuracy']]"
   ]
  },
  {
   "cell_type": "markdown",
   "metadata": {},
   "source": [
    "#### Size features only"
   ]
  },
  {
   "cell_type": "code",
   "execution_count": null,
   "metadata": {
    "ExecuteTime": {
     "start_time": "2020-08-11T16:01:01.759Z"
    }
   },
   "outputs": [],
   "source": [
    "df_feat_size_balanced = df_feat_size.loc[thresholded_A]\n",
    "df_feat_size_balanced = df_feat_size_balanced.loc[df_temp.index]"
   ]
  },
  {
   "cell_type": "code",
   "execution_count": null,
   "metadata": {
    "ExecuteTime": {
     "start_time": "2020-08-11T16:01:01.765Z"
    }
   },
   "outputs": [],
   "source": [
    "cl1 = KNeighborsClassifier(n_jobs=-1)\n",
    "cl2 = LogisticRegression(penalty='l1', max_iter=1000,\n",
    "                         solver='liblinear', n_jobs=-1)\n",
    "cl3 = LogisticRegression(penalty='l2', max_iter=1000, n_jobs=-1)\n",
    "cl4 = LinearSVC(penalty='l1', dual=False, max_iter=10000)\n",
    "cl5 = LinearSVC(penalty='l2', max_iter=10000)\n",
    "cl6 = SVC(kernel='rbf', )\n",
    "cl7 = SVC(kernel='poly', degree=3)\n",
    "cl8 = DecisionTreeClassifier()\n",
    "cl9 = RandomForestClassifier(max_features='sqrt')\n",
    "cl10 = GradientBoostingClassifier()\n",
    "kneighbors = range(1, 31)\n",
    "C_list = np.logspace(-5, 5, num=10)\n",
    "gamma_list = np.logspace(-5, 5, num=10)\n",
    "\n",
    "estimators = [('KNN', cl1, {'n_neighbors':kneighbors}),\n",
    "              ('Logistic Regression (L1)', cl2, {'C':C_list}),\n",
    "              ('Logistic Regression (L2)', cl3, {'C':C_list}),\n",
    "              ('Linear SVM (L1)', cl4, {'C':C_list}),\n",
    "              ('Linear SVM (L2)', cl5, {'C':C_list}),\n",
    "              ('NonLinear SVM (RBF)', cl6, {'C':C_list,\n",
    "                                            'gamma':gamma_list}),\n",
    "              ('NonLinear SVM (Poly)', cl7, {'C':C_list,\n",
    "                                             'gamma':gamma_list}),\n",
    "              ('Decision Tree', cl8, {'max_depth':range(1,11),\n",
    "                                      'criterion':['gini', 'entropy']}),\n",
    "              ('Random Forest', cl9, {'max_depth':range(1,4),\n",
    "                                      'n_estimators':range(10,101,10),\n",
    "                                      'criterion':['gini', 'entropy']}),\n",
    "              ('GBM', cl10, {'max_depth':range(1,4),\n",
    "                            'n_estimators':range(10,101,10),\n",
    "                            'learning_rate':np.arange(0.1,1.01,0.1)})]"
   ]
  },
  {
   "cell_type": "code",
   "execution_count": null,
   "metadata": {
    "ExecuteTime": {
     "start_time": "2020-08-11T16:01:01.771Z"
    }
   },
   "outputs": [],
   "source": [
    "X = df_feat_size_balanced\n",
    "X['Generation'] = df.loc[thresholded_A]['Generation'].astype(float)\n",
    "y = df_target_A_balanced\n",
    "\n",
    "X_train, X_val, y_train, y_val = model_selection.train_test_split(X, y,\n",
    "                                                            random_state=1)\n",
    "scaler = preprocessing.RobustScaler()\n",
    "X_train = scaler.fit_transform(X_train)\n",
    "X_val = scaler.transform(X_val)"
   ]
  },
  {
   "cell_type": "code",
   "execution_count": null,
   "metadata": {
    "ExecuteTime": {
     "start_time": "2020-08-11T16:01:01.776Z"
    }
   },
   "outputs": [],
   "source": [
    "models = {}\n",
    "for est in estimators[3:4]:\n",
    "    print(f'Training {est}\\n')\n",
    "    gs_cv = model_selection.GridSearchCV(est[1], param_grid=est[2], n_jobs=4)\n",
    "    gs_cv.fit(X_train, y_train)\n",
    "    models[est[0]] = gs_cv"
   ]
  },
  {
   "cell_type": "code",
   "execution_count": null,
   "metadata": {
    "ExecuteTime": {
     "start_time": "2020-08-11T16:01:01.782Z"
    }
   },
   "outputs": [],
   "source": [
    "cols = ['Machine Learning Method', 'Test Accuracy',\n",
    "        'Best Parameter', 'Top Predictor Variable']\n",
    "df_acc_prim_bal_size = pd.DataFrame(columns=cols)\n",
    "\n",
    "for i, m in enumerate(models):\n",
    "    \n",
    "    try:\n",
    "        top_predictor = X.columns[\n",
    "            np.argmax(np.abs(models[m].best_estimator_.coef_).mean(axis=0))]\n",
    "\n",
    "    except AttributeError:\n",
    "        top_predictor = np.nan\n",
    "    \n",
    "    df_acc_prim_bal_size.loc[i] = [m, \n",
    "                 models[m].best_estimator_.score(X_val, y_val),\n",
    "                 models[m].best_params_ ,\n",
    "                 top_predictor]"
   ]
  },
  {
   "cell_type": "code",
   "execution_count": null,
   "metadata": {
    "ExecuteTime": {
     "start_time": "2020-08-11T16:01:01.787Z"
    }
   },
   "outputs": [],
   "source": [
    "df_acc_prim_bal_size"
   ]
  },
  {
   "cell_type": "code",
   "execution_count": null,
   "metadata": {
    "ExecuteTime": {
     "start_time": "2020-08-11T16:01:01.793Z"
    }
   },
   "outputs": [],
   "source": [
    "coefs = models['Linear SVM (L1)'].best_estimator_.coef_.mean(axis=0)\n",
    "plt.barh(df_feat_size.columns[np.argsort(coefs)], np.sort(coefs))\n",
    "plt.xlim(-max(abs(coefs)) -0.01, max(abs(coefs))+0.01)"
   ]
  },
  {
   "cell_type": "code",
   "execution_count": null,
   "metadata": {
    "ExecuteTime": {
     "start_time": "2020-08-11T16:01:01.798Z"
    }
   },
   "outputs": [],
   "source": [
    "cols = ['Machine Learning Method', 'Test Accuracy',\n",
    "        'Best Parameter', 'Top Predictor Variable']\n",
    "df_acc_prim_bal_size_types = pd.DataFrame(columns=cols)\n",
    "\n",
    "# for i, m in enumerate(models):\n",
    "m = 'Linear SVM (L1)'\n",
    "for i in df_target_A_balanced.value_counts().index[::-1]:\n",
    "    try:\n",
    "        top_predictor = dict(zip(X.columns, np.abs(models[m].best_estimator_.coef_).mean(axis=0)))\n",
    "\n",
    "    except AttributeError:\n",
    "        top_predictor = np.nan\n",
    "    \n",
    "    df_acc_prim_bal_size_types.loc[i] = [m, \n",
    "                 models[m].best_estimator_.score(X_val[y_val==i], y_val[y_val==i]),\n",
    "                 models[m].best_params_ ,\n",
    "                 top_predictor]"
   ]
  },
  {
   "cell_type": "code",
   "execution_count": null,
   "metadata": {
    "ExecuteTime": {
     "start_time": "2020-08-11T16:01:01.803Z"
    }
   },
   "outputs": [],
   "source": [
    "df_acc_prim_bal_size_types[['Test Accuracy']]"
   ]
  },
  {
   "cell_type": "code",
   "execution_count": null,
   "metadata": {
    "ExecuteTime": {
     "start_time": "2020-08-11T16:01:01.809Z"
    }
   },
   "outputs": [],
   "source": [
    "cols = ['Machine Learning Method', 'Test Accuracy',\n",
    "        'Best Parameter', 'Top Predictor Variable']\n",
    "df_acc_prim_bal_size_gen = pd.DataFrame(columns=cols)\n",
    "gen_scaled = dict(zip(range(1, 8), np.unique(X_val[:, -1])))\n",
    "\n",
    "# for i, m in enumerate(models):\n",
    "m = 'Linear SVM (L1)'\n",
    "\n",
    "for i in range(1,8):\n",
    "    try:\n",
    "        top_predictor = dict(zip(X.columns, np.abs(models[m].best_estimator_.coef_).mean(axis=0)))\n",
    "\n",
    "    except AttributeError:\n",
    "        top_predictor = np.nan\n",
    "    \n",
    "    df_acc_prim_bal_size_gen.loc[i] = [m, \n",
    "                     models[m].best_estimator_.score(X_val[X_val[:, -1]==gen_scaled[i]], y_val[X_val[:, -1]==gen_scaled[i]]),\n",
    "                     models[m].best_params_ ,\n",
    "                     top_predictor]"
   ]
  },
  {
   "cell_type": "code",
   "execution_count": null,
   "metadata": {
    "ExecuteTime": {
     "start_time": "2020-08-11T16:01:01.814Z"
    }
   },
   "outputs": [],
   "source": [
    "df_acc_prim_bal_size_gen['Generation'] = ['I', 'II', 'III', 'IV', 'V', 'VI', 'VII']\n",
    "df_acc_prim_bal_size_gen.set_index('Generation', inplace=True)\n",
    "df_acc_prim_bal_size_gen[['Test Accuracy']]"
   ]
  },
  {
   "cell_type": "markdown",
   "metadata": {},
   "source": [
    "<a id=\"bal-sec\"></a>\n",
    "\n",
    "### Secondary Type"
   ]
  },
  {
   "cell_type": "code",
   "execution_count": null,
   "metadata": {
    "ExecuteTime": {
     "start_time": "2020-08-11T16:01:01.821Z"
    }
   },
   "outputs": [],
   "source": [
    "types = df_target_B.value_counts()\n",
    "plt.barh(types.index[::-1], types.values[::-1])\n",
    "\n",
    "plt.fill_between([0, 45], [9.5, 9.5], [17.5, 17.5], zorder=2, alpha=0.5)"
   ]
  },
  {
   "cell_type": "code",
   "execution_count": null,
   "metadata": {
    "ExecuteTime": {
     "start_time": "2020-08-11T16:01:01.827Z"
    }
   },
   "outputs": [],
   "source": [
    "thresholded_B = pd.Series(df_target_B.index.values, index=df_target_B)[df_target_B.value_counts()>45]\n",
    "df_target_B_balanced = df_target_B[thresholded_B]"
   ]
  },
  {
   "cell_type": "code",
   "execution_count": null,
   "metadata": {
    "ExecuteTime": {
     "start_time": "2020-08-11T16:01:01.833Z"
    }
   },
   "outputs": [],
   "source": [
    "df_temp = df_target_B_balanced.groupby(df_target_B_balanced).apply(lambda x: x.sample(n=40)).reset_index(level=1)\n",
    "df_temp.set_index('Pokedex Number', inplace=True)\n",
    "\n",
    "df_target_B_balanced = df_target_B_balanced.loc[df_temp.index]"
   ]
  },
  {
   "cell_type": "markdown",
   "metadata": {},
   "source": [
    "#### Combined features"
   ]
  },
  {
   "cell_type": "code",
   "execution_count": null,
   "metadata": {
    "ExecuteTime": {
     "start_time": "2020-08-11T16:01:01.839Z"
    }
   },
   "outputs": [],
   "source": [
    "df_feat_balanced_B = df_feat.loc[thresholded_B]\n",
    "df_feat_balanced_B = df_feat_balanced_B.loc[df_temp.index]"
   ]
  },
  {
   "cell_type": "code",
   "execution_count": null,
   "metadata": {
    "ExecuteTime": {
     "start_time": "2020-08-11T16:01:01.845Z"
    }
   },
   "outputs": [],
   "source": [
    "cl1 = KNeighborsClassifier(n_jobs=-1)\n",
    "cl2 = LogisticRegression(penalty='l1', max_iter=1000,\n",
    "                         solver='liblinear', n_jobs=-1)\n",
    "cl3 = LogisticRegression(penalty='l2', max_iter=1000, n_jobs=-1)\n",
    "cl4 = LinearSVC(penalty='l1', dual=False, max_iter=10000)\n",
    "cl5 = LinearSVC(penalty='l2', max_iter=10000)\n",
    "cl6 = SVC(kernel='rbf', )\n",
    "cl7 = SVC(kernel='poly', degree=3)\n",
    "cl8 = DecisionTreeClassifier()\n",
    "cl9 = RandomForestClassifier(max_features='sqrt')\n",
    "cl10 = GradientBoostingClassifier()\n",
    "kneighbors = range(1, 31)\n",
    "C_list = np.logspace(-5, 5, num=10)\n",
    "gamma_list = np.logspace(-5, 5, num=10)\n",
    "\n",
    "estimators = [('KNN', cl1, {'n_neighbors':kneighbors}),\n",
    "              ('Logistic Regression (L1)', cl2, {'C':C_list}),\n",
    "              ('Logistic Regression (L2)', cl3, {'C':C_list}),\n",
    "              ('Linear SVM (L1)', cl4, {'C':C_list}),\n",
    "              ('Linear SVM (L2)', cl5, {'C':C_list}),\n",
    "              ('NonLinear SVM (RBF)', cl6, {'C':C_list,\n",
    "                                            'gamma':gamma_list}),\n",
    "              ('NonLinear SVM (Poly)', cl7, {'C':C_list,\n",
    "                                             'gamma':gamma_list}),\n",
    "              ('Decision Tree', cl8, {'max_depth':range(1,11),\n",
    "                                      'criterion':['gini', 'entropy']}),\n",
    "              ('Random Forest', cl9, {'max_depth':range(1,4),\n",
    "                                      'n_estimators':range(10,101,10),\n",
    "                                      'criterion':['gini', 'entropy']}),\n",
    "              ('GBM', cl10, {'max_depth':range(1,4),\n",
    "                            'n_estimators':range(10,101,10),\n",
    "                            'learning_rate':np.arange(0.1,1.01,0.1)})]"
   ]
  },
  {
   "cell_type": "code",
   "execution_count": null,
   "metadata": {
    "ExecuteTime": {
     "start_time": "2020-08-11T16:01:01.850Z"
    }
   },
   "outputs": [],
   "source": [
    "X = df_feat_balanced_B.astype(float)\n",
    "y = df_target_B_balanced\n",
    "\n",
    "X_train, X_val, y_train, y_val = model_selection.train_test_split(X, y,\n",
    "                                                            random_state=1)\n",
    "scaler = preprocessing.RobustScaler()\n",
    "X_train = scaler.fit_transform(X_train)\n",
    "X_val = scaler.transform(X_val)"
   ]
  },
  {
   "cell_type": "code",
   "execution_count": null,
   "metadata": {
    "ExecuteTime": {
     "start_time": "2020-08-11T16:01:01.856Z"
    }
   },
   "outputs": [],
   "source": [
    "models = {}\n",
    "for est in estimators[3:4]:\n",
    "    print(f'Training {est}\\n')\n",
    "    gs_cv = model_selection.GridSearchCV(est[1], param_grid=est[2], n_jobs=4)\n",
    "    gs_cv.fit(X_train, y_train)\n",
    "    models[est[0]] = gs_cv"
   ]
  },
  {
   "cell_type": "code",
   "execution_count": null,
   "metadata": {
    "ExecuteTime": {
     "start_time": "2020-08-11T16:01:01.862Z"
    }
   },
   "outputs": [],
   "source": [
    "cols = ['Machine Learning Method', 'Test Accuracy',\n",
    "        'Best Parameter', 'Top Predictor Variable']\n",
    "df_acc_sec_bal = pd.DataFrame(columns=cols)\n",
    "\n",
    "for i, m in enumerate(models):\n",
    "    \n",
    "    try:\n",
    "        top_predictor = X.columns[\n",
    "            np.argmax(np.abs(models[m].best_estimator_.coef_).mean(axis=0))]\n",
    "\n",
    "    except AttributeError:\n",
    "        top_predictor = np.nan\n",
    "    \n",
    "    df_acc_sec_bal.loc[i] = [m, \n",
    "                 models[m].best_estimator_.score(X_val, y_val),\n",
    "                 models[m].best_params_ ,\n",
    "                 top_predictor]"
   ]
  },
  {
   "cell_type": "code",
   "execution_count": null,
   "metadata": {
    "ExecuteTime": {
     "start_time": "2020-08-11T16:01:01.867Z"
    }
   },
   "outputs": [],
   "source": [
    "df_acc_sec_bal"
   ]
  },
  {
   "cell_type": "code",
   "execution_count": null,
   "metadata": {
    "ExecuteTime": {
     "start_time": "2020-08-11T16:01:01.873Z"
    }
   },
   "outputs": [],
   "source": [
    "coefs = models['Linear SVM (L1)'].best_estimator_.coef_.mean(axis=0)\n",
    "plt.barh(df_feat.columns[np.argsort(coefs)], np.sort(coefs))\n",
    "plt.xlim(-max(abs(coefs)) -0.01, max(abs(coefs))+0.01)"
   ]
  },
  {
   "cell_type": "code",
   "execution_count": null,
   "metadata": {
    "ExecuteTime": {
     "start_time": "2020-08-11T16:01:01.879Z"
    }
   },
   "outputs": [],
   "source": [
    "cols = ['Machine Learning Method', 'Test Accuracy',\n",
    "        'Best Parameter', 'Top Predictor Variable']\n",
    "df_acc_sec_bal_types = pd.DataFrame(columns=cols)\n",
    "\n",
    "# for i, m in enumerate(models):\n",
    "m = 'Linear SVM (L1)'\n",
    "for i in df_target_B_balanced.value_counts().index[::-1]:\n",
    "    try:\n",
    "        top_predictor = dict(zip(X.columns, np.abs(models[m].best_estimator_.coef_).mean(axis=0)))\n",
    "\n",
    "    except AttributeError:\n",
    "        top_predictor = np.nan\n",
    "    \n",
    "    df_acc_sec_bal_types.loc[i] = [m, \n",
    "                 models[m].best_estimator_.score(X_val[y_val==i], y_val[y_val==i]),\n",
    "                 models[m].best_params_ ,\n",
    "                 top_predictor]"
   ]
  },
  {
   "cell_type": "code",
   "execution_count": null,
   "metadata": {
    "ExecuteTime": {
     "start_time": "2020-08-11T16:01:01.884Z"
    }
   },
   "outputs": [],
   "source": [
    "df_acc_sec_bal_types[['Test Accuracy']]"
   ]
  },
  {
   "cell_type": "code",
   "execution_count": null,
   "metadata": {
    "ExecuteTime": {
     "start_time": "2020-08-11T16:01:01.890Z"
    }
   },
   "outputs": [],
   "source": [
    "cols = ['Machine Learning Method', 'Test Accuracy',\n",
    "        'Best Parameter', 'Top Predictor Variable']\n",
    "df_acc_sec_bal_gen = pd.DataFrame(columns=cols)\n",
    "gen_scaled = dict(zip(range(1, 8), np.unique(X_val[:, -1])))\n",
    "\n",
    "# for i, m in enumerate(models):\n",
    "m = 'Linear SVM (L1)'\n",
    "\n",
    "for i in range(1,8):\n",
    "    try:\n",
    "        top_predictor = dict(zip(X.columns, np.abs(models[m].best_estimator_.coef_).mean(axis=0)))\n",
    "\n",
    "    except AttributeError:\n",
    "        top_predictor = np.nan\n",
    "    \n",
    "    df_acc_sec_bal_gen.loc[i] = [m, \n",
    "                     models[m].best_estimator_.score(X_val[X_val[:, -1]==gen_scaled[i]], y_val[X_val[:, -1]==gen_scaled[i]]),\n",
    "                     models[m].best_params_ ,\n",
    "                     top_predictor]"
   ]
  },
  {
   "cell_type": "code",
   "execution_count": null,
   "metadata": {
    "ExecuteTime": {
     "start_time": "2020-08-11T16:01:01.896Z"
    }
   },
   "outputs": [],
   "source": [
    "df_acc_sec_bal_gen['Generation'] = ['I', 'II', 'III', 'IV', 'V', 'VI', 'VII']\n",
    "df_acc_sec_bal_gen.set_index('Generation', inplace=True)\n",
    "df_acc_sec_bal_gen[['Test Accuracy']]"
   ]
  },
  {
   "cell_type": "markdown",
   "metadata": {},
   "source": [
    "#### Color features only"
   ]
  },
  {
   "cell_type": "code",
   "execution_count": null,
   "metadata": {
    "ExecuteTime": {
     "start_time": "2020-08-11T16:01:01.903Z"
    }
   },
   "outputs": [],
   "source": [
    "df_feat_color_balanced_B = df_feat_color.loc[thresholded_B]\n",
    "df_feat_color_balanced_B = df_feat_color_balanced_B.loc[df_temp.index]"
   ]
  },
  {
   "cell_type": "code",
   "execution_count": null,
   "metadata": {
    "ExecuteTime": {
     "start_time": "2020-08-11T16:01:01.909Z"
    }
   },
   "outputs": [],
   "source": [
    "cl1 = KNeighborsClassifier(n_jobs=-1)\n",
    "cl2 = LogisticRegression(penalty='l1', max_iter=1000,\n",
    "                         solver='liblinear', n_jobs=-1)\n",
    "cl3 = LogisticRegression(penalty='l2', max_iter=1000, n_jobs=-1)\n",
    "cl4 = LinearSVC(penalty='l1', dual=False, max_iter=10000)\n",
    "cl5 = LinearSVC(penalty='l2', max_iter=10000)\n",
    "cl6 = SVC(kernel='rbf', )\n",
    "cl7 = SVC(kernel='poly', degree=3)\n",
    "cl8 = DecisionTreeClassifier()\n",
    "cl9 = RandomForestClassifier(max_features='sqrt')\n",
    "cl10 = GradientBoostingClassifier()\n",
    "kneighbors = range(1, 31)\n",
    "C_list = np.logspace(-5, 5, num=10)\n",
    "gamma_list = np.logspace(-5, 5, num=10)\n",
    "\n",
    "estimators = [('KNN', cl1, {'n_neighbors':kneighbors}),\n",
    "              ('Logistic Regression (L1)', cl2, {'C':C_list}),\n",
    "              ('Logistic Regression (L2)', cl3, {'C':C_list}),\n",
    "              ('Linear SVM (L1)', cl4, {'C':C_list}),\n",
    "              ('Linear SVM (L2)', cl5, {'C':C_list}),\n",
    "              ('NonLinear SVM (RBF)', cl6, {'C':C_list,\n",
    "                                            'gamma':gamma_list}),\n",
    "              ('NonLinear SVM (Poly)', cl7, {'C':C_list,\n",
    "                                             'gamma':gamma_list}),\n",
    "              ('Decision Tree', cl8, {'max_depth':range(1,11),\n",
    "                                      'criterion':['gini', 'entropy']}),\n",
    "              ('Random Forest', cl9, {'max_depth':range(1,4),\n",
    "                                      'n_estimators':range(10,101,10),\n",
    "                                      'criterion':['gini', 'entropy']}),\n",
    "              ('GBM', cl10, {'max_depth':range(1,4),\n",
    "                            'n_estimators':range(10,101,10),\n",
    "                            'learning_rate':np.arange(0.1,1.01,0.1)})]"
   ]
  },
  {
   "cell_type": "code",
   "execution_count": null,
   "metadata": {
    "ExecuteTime": {
     "start_time": "2020-08-11T16:01:01.915Z"
    }
   },
   "outputs": [],
   "source": [
    "df.head()"
   ]
  },
  {
   "cell_type": "code",
   "execution_count": null,
   "metadata": {
    "ExecuteTime": {
     "start_time": "2020-08-11T16:01:01.921Z"
    }
   },
   "outputs": [],
   "source": [
    "X = df_feat_color_balanced_B\n",
    "X['Generation'] = df.loc[thresholded_B]['Generation'].astype(float)\n",
    "y = df_target_B_balanced\n",
    "\n",
    "X_train, X_val, y_train, y_val = model_selection.train_test_split(X, y,\n",
    "                                                            random_state=1)\n",
    "scaler = preprocessing.RobustScaler()\n",
    "X_train = scaler.fit_transform(X_train)\n",
    "X_val = scaler.transform(X_val)"
   ]
  },
  {
   "cell_type": "code",
   "execution_count": null,
   "metadata": {
    "ExecuteTime": {
     "start_time": "2020-08-11T16:01:01.927Z"
    }
   },
   "outputs": [],
   "source": [
    "models = {}\n",
    "for est in estimators[3:4]:\n",
    "    print(f'Training {est}\\n')\n",
    "    gs_cv = model_selection.GridSearchCV(est[1], param_grid=est[2], n_jobs=4)\n",
    "    gs_cv.fit(X_train, y_train)\n",
    "    models[est[0]] = gs_cv"
   ]
  },
  {
   "cell_type": "code",
   "execution_count": null,
   "metadata": {
    "ExecuteTime": {
     "start_time": "2020-08-11T16:01:01.933Z"
    }
   },
   "outputs": [],
   "source": [
    "cols = ['Machine Learning Method', 'Test Accuracy',\n",
    "        'Best Parameter', 'Top Predictor Variable']\n",
    "df_acc_sec_bal_color = pd.DataFrame(columns=cols)\n",
    "\n",
    "for i, m in enumerate(models):\n",
    "    \n",
    "    try:\n",
    "        top_predictor = X.columns[\n",
    "            np.argmax(np.abs(models[m].best_estimator_.coef_).mean(axis=0))]\n",
    "\n",
    "    except AttributeError:\n",
    "        top_predictor = np.nan\n",
    "    \n",
    "    df_acc_sec_bal_color.loc[i] = [m, \n",
    "                 models[m].best_estimator_.score(X_val, y_val),\n",
    "                 models[m].best_params_ ,\n",
    "                 top_predictor]"
   ]
  },
  {
   "cell_type": "code",
   "execution_count": null,
   "metadata": {
    "ExecuteTime": {
     "start_time": "2020-08-11T16:01:01.939Z"
    }
   },
   "outputs": [],
   "source": [
    "df_acc_sec_bal_color"
   ]
  },
  {
   "cell_type": "code",
   "execution_count": null,
   "metadata": {
    "ExecuteTime": {
     "start_time": "2020-08-11T16:01:01.944Z"
    }
   },
   "outputs": [],
   "source": [
    "coefs = models['Linear SVM (L1)'].best_estimator_.coef_.mean(axis=0)\n",
    "plt.barh(df_feat_color.columns[np.argsort(coefs)], np.sort(coefs))\n",
    "plt.xlim(-max(abs(coefs)) -0.01, max(abs(coefs))+0.01)"
   ]
  },
  {
   "cell_type": "code",
   "execution_count": null,
   "metadata": {
    "ExecuteTime": {
     "start_time": "2020-08-11T16:01:01.950Z"
    }
   },
   "outputs": [],
   "source": [
    "cols = ['Machine Learning Method', 'Test Accuracy',\n",
    "        'Best Parameter', 'Top Predictor Variable']\n",
    "df_acc_sec_bal_color_types = pd.DataFrame(columns=cols)\n",
    "\n",
    "# for i, m in enumerate(models):\n",
    "m = 'Linear SVM (L1)'\n",
    "for i in df_target_B_balanced.value_counts().index[::-1]:\n",
    "    try:\n",
    "        top_predictor = dict(zip(X.columns, np.abs(models[m].best_estimator_.coef_).mean(axis=0)))\n",
    "\n",
    "    except AttributeError:\n",
    "        top_predictor = np.nan\n",
    "    \n",
    "    df_acc_sec_bal_color_types.loc[i] = [m, \n",
    "                 models[m].best_estimator_.score(X_val[y_val==i], y_val[y_val==i]),\n",
    "                 models[m].best_params_ ,\n",
    "                 top_predictor]"
   ]
  },
  {
   "cell_type": "code",
   "execution_count": null,
   "metadata": {
    "ExecuteTime": {
     "start_time": "2020-08-11T16:01:01.956Z"
    }
   },
   "outputs": [],
   "source": [
    "df_acc_sec_bal_color_types[['Test Accuracy']]"
   ]
  },
  {
   "cell_type": "code",
   "execution_count": null,
   "metadata": {
    "ExecuteTime": {
     "start_time": "2020-08-11T16:01:01.962Z"
    }
   },
   "outputs": [],
   "source": [
    "cols = ['Machine Learning Method', 'Test Accuracy',\n",
    "        'Best Parameter', 'Top Predictor Variable']\n",
    "df_acc_sec_bal_color_gen = pd.DataFrame(columns=cols)\n",
    "gen_scaled = dict(zip(range(1, 8), np.unique(X_val[:, -1])))\n",
    "\n",
    "# for i, m in enumerate(models):\n",
    "m = 'Linear SVM (L1)'\n",
    "\n",
    "for i in range(1,8):\n",
    "    try:\n",
    "        top_predictor = dict(zip(X.columns, np.abs(models[m].best_estimator_.coef_).mean(axis=0)))\n",
    "\n",
    "    except AttributeError:\n",
    "        top_predictor = np.nan\n",
    "    \n",
    "    df_acc_sec_bal_color_gen.loc[i] = [m, \n",
    "                     models[m].best_estimator_.score(X_val[X_val[:, -1]==gen_scaled[i]], y_val[X_val[:, -1]==gen_scaled[i]]),\n",
    "                     models[m].best_params_ ,\n",
    "                     top_predictor]"
   ]
  },
  {
   "cell_type": "code",
   "execution_count": null,
   "metadata": {
    "ExecuteTime": {
     "start_time": "2020-08-11T16:01:01.968Z"
    }
   },
   "outputs": [],
   "source": [
    "df_acc_sec_bal_color_gen['Generation'] = ['I', 'II', 'III', 'IV', 'V', 'VI', 'VII']\n",
    "df_acc_sec_bal_color_gen.set_index('Generation', inplace=True)\n",
    "df_acc_sec_bal_color_gen[['Test Accuracy']]"
   ]
  },
  {
   "cell_type": "markdown",
   "metadata": {},
   "source": [
    "#### Size features only"
   ]
  },
  {
   "cell_type": "code",
   "execution_count": null,
   "metadata": {
    "ExecuteTime": {
     "start_time": "2020-08-11T16:01:01.975Z"
    }
   },
   "outputs": [],
   "source": [
    "df_feat_size_balanced_B = df_feat_size.loc[thresholded_B]\n",
    "df_feat_size_balanced_B = df_feat_size_balanced_B.loc[df_temp.index]"
   ]
  },
  {
   "cell_type": "code",
   "execution_count": null,
   "metadata": {
    "ExecuteTime": {
     "start_time": "2020-08-11T16:01:01.982Z"
    }
   },
   "outputs": [],
   "source": [
    "cl1 = KNeighborsClassifier(n_jobs=-1)\n",
    "cl2 = LogisticRegression(penalty='l1', max_iter=1000,\n",
    "                         solver='liblinear', n_jobs=-1)\n",
    "cl3 = LogisticRegression(penalty='l2', max_iter=1000, n_jobs=-1)\n",
    "cl4 = LinearSVC(penalty='l1', dual=False, max_iter=10000)\n",
    "cl5 = LinearSVC(penalty='l2', max_iter=10000)\n",
    "cl6 = SVC(kernel='rbf', )\n",
    "cl7 = SVC(kernel='poly', degree=3)\n",
    "cl8 = DecisionTreeClassifier()\n",
    "cl9 = RandomForestClassifier(max_features='sqrt')\n",
    "cl10 = GradientBoostingClassifier()\n",
    "kneighbors = range(1, 31)\n",
    "C_list = np.logspace(-5, 5, num=10)\n",
    "gamma_list = np.logspace(-5, 5, num=10)\n",
    "\n",
    "estimators = [('KNN', cl1, {'n_neighbors':kneighbors}),\n",
    "              ('Logistic Regression (L1)', cl2, {'C':C_list}),\n",
    "              ('Logistic Regression (L2)', cl3, {'C':C_list}),\n",
    "              ('Linear SVM (L1)', cl4, {'C':C_list}),\n",
    "              ('Linear SVM (L2)', cl5, {'C':C_list}),\n",
    "              ('NonLinear SVM (RBF)', cl6, {'C':C_list,\n",
    "                                            'gamma':gamma_list}),\n",
    "              ('NonLinear SVM (Poly)', cl7, {'C':C_list,\n",
    "                                             'gamma':gamma_list}),\n",
    "              ('Decision Tree', cl8, {'max_depth':range(1,11),\n",
    "                                      'criterion':['gini', 'entropy']}),\n",
    "              ('Random Forest', cl9, {'max_depth':range(1,4),\n",
    "                                      'n_estimators':range(10,101,10),\n",
    "                                      'criterion':['gini', 'entropy']}),\n",
    "              ('GBM', cl10, {'max_depth':range(1,4),\n",
    "                            'n_estimators':range(10,101,10),\n",
    "                            'learning_rate':np.arange(0.1,1.01,0.1)})]"
   ]
  },
  {
   "cell_type": "code",
   "execution_count": null,
   "metadata": {
    "ExecuteTime": {
     "start_time": "2020-08-11T16:01:01.989Z"
    }
   },
   "outputs": [],
   "source": [
    "X = df_feat_size_balanced_B\n",
    "X['Generation'] = df.loc[thresholded_B]['Generation'].astype(float)\n",
    "y = df_target_B_balanced\n",
    "\n",
    "X_train, X_val, y_train, y_val = model_selection.train_test_split(X, y,\n",
    "                                                            random_state=1)\n",
    "scaler = preprocessing.RobustScaler()\n",
    "X_train = scaler.fit_transform(X_train)\n",
    "X_val = scaler.transform(X_val)"
   ]
  },
  {
   "cell_type": "code",
   "execution_count": null,
   "metadata": {
    "ExecuteTime": {
     "start_time": "2020-08-11T16:01:01.994Z"
    }
   },
   "outputs": [],
   "source": [
    "models = {}\n",
    "for est in estimators[3:4]:\n",
    "    print(f'Training {est}\\n')\n",
    "    gs_cv = model_selection.GridSearchCV(est[1], param_grid=est[2], n_jobs=4)\n",
    "    gs_cv.fit(X_train, y_train)\n",
    "    models[est[0]] = gs_cv"
   ]
  },
  {
   "cell_type": "code",
   "execution_count": null,
   "metadata": {
    "ExecuteTime": {
     "start_time": "2020-08-11T16:01:02.001Z"
    }
   },
   "outputs": [],
   "source": [
    "cols = ['Machine Learning Method', 'Test Accuracy',\n",
    "        'Best Parameter', 'Top Predictor Variable']\n",
    "df_acc_sec_bal_size = pd.DataFrame(columns=cols)\n",
    "\n",
    "for i, m in enumerate(models):\n",
    "    \n",
    "    try:\n",
    "        top_predictor = X.columns[\n",
    "            np.argmax(np.abs(models[m].best_estimator_.coef_).mean(axis=0))]\n",
    "\n",
    "    except AttributeError:\n",
    "        top_predictor = np.nan\n",
    "    \n",
    "    df_acc_sec_bal_size.loc[i] = [m, \n",
    "                 models[m].best_estimator_.score(X_val, y_val),\n",
    "                 models[m].best_params_ ,\n",
    "                 top_predictor]"
   ]
  },
  {
   "cell_type": "code",
   "execution_count": null,
   "metadata": {
    "ExecuteTime": {
     "start_time": "2020-08-11T16:01:02.007Z"
    }
   },
   "outputs": [],
   "source": [
    "df_acc_sec_bal_size"
   ]
  },
  {
   "cell_type": "code",
   "execution_count": null,
   "metadata": {
    "ExecuteTime": {
     "start_time": "2020-08-11T16:01:02.013Z"
    }
   },
   "outputs": [],
   "source": [
    "coefs = models['Linear SVM (L1)'].best_estimator_.coef_.mean(axis=0)\n",
    "plt.barh(df_feat_size.columns[np.argsort(coefs)], np.sort(coefs))\n",
    "plt.xlim(-max(abs(coefs)) -0.01, max(abs(coefs))+0.01)"
   ]
  },
  {
   "cell_type": "code",
   "execution_count": null,
   "metadata": {
    "ExecuteTime": {
     "start_time": "2020-08-11T16:01:02.020Z"
    }
   },
   "outputs": [],
   "source": [
    "cols = ['Machine Learning Method', 'Test Accuracy',\n",
    "        'Best Parameter', 'Top Predictor Variable']\n",
    "df_acc_sec_bal_size_types = pd.DataFrame(columns=cols)\n",
    "\n",
    "# for i, m in enumerate(models):\n",
    "m = 'Linear SVM (L1)'\n",
    "for i in df_target_B_balanced.value_counts().index[::-1]:\n",
    "    try:\n",
    "        top_predictor = dict(zip(X.columns, np.abs(models[m].best_estimator_.coef_).mean(axis=0)))\n",
    "\n",
    "    except AttributeError:\n",
    "        top_predictor = np.nan\n",
    "    \n",
    "    df_acc_sec_bal_size_types.loc[i] = [m, \n",
    "                 models[m].best_estimator_.score(X_val[y_val==i], y_val[y_val==i]),\n",
    "                 models[m].best_params_ ,\n",
    "                 top_predictor]"
   ]
  },
  {
   "cell_type": "code",
   "execution_count": null,
   "metadata": {
    "ExecuteTime": {
     "start_time": "2020-08-11T16:01:02.026Z"
    }
   },
   "outputs": [],
   "source": [
    "df_acc_sec_bal_size_types[['Test Accuracy']]"
   ]
  },
  {
   "cell_type": "code",
   "execution_count": null,
   "metadata": {
    "ExecuteTime": {
     "start_time": "2020-08-11T16:01:02.032Z"
    }
   },
   "outputs": [],
   "source": [
    "cols = ['Machine Learning Method', 'Test Accuracy',\n",
    "        'Best Parameter', 'Top Predictor Variable']\n",
    "df_acc_sec_bal_size_gen = pd.DataFrame(columns=cols)\n",
    "gen_scaled = dict(zip(range(1, 8), np.unique(X_val[:, -1])))\n",
    "\n",
    "# for i, m in enumerate(models):\n",
    "m = 'Linear SVM (L1)'\n",
    "\n",
    "for i in range(1,8):\n",
    "    try:\n",
    "        top_predictor = dict(zip(X.columns, np.abs(models[m].best_estimator_.coef_).mean(axis=0)))\n",
    "\n",
    "    except AttributeError:\n",
    "        top_predictor = np.nan\n",
    "    \n",
    "    df_acc_sec_bal_size_gen.loc[i] = [m, \n",
    "                     models[m].best_estimator_.score(X_val[X_val[:, -1]==gen_scaled[i]], y_val[X_val[:, -1]==gen_scaled[i]]),\n",
    "                     models[m].best_params_ ,\n",
    "                     top_predictor]"
   ]
  },
  {
   "cell_type": "code",
   "execution_count": null,
   "metadata": {
    "ExecuteTime": {
     "start_time": "2020-08-11T16:01:02.039Z"
    }
   },
   "outputs": [],
   "source": [
    "df_acc_sec_bal_size_gen['Generation'] = ['I', 'II', 'III', 'IV', 'V', 'VI', 'VII']\n",
    "df_acc_sec_bal_size_gen.set_index('Generation', inplace=True)\n",
    "df_acc_sec_bal_size_gen[['Test Accuracy']]"
   ]
  },
  {
   "cell_type": "markdown",
   "metadata": {},
   "source": [
    "<a id=\"bal-sum\"></a>\n",
    "\n",
    "### Summary (Balanced)\n",
    "We summarize and compare our results for the balanced dataset as follows:"
   ]
  },
  {
   "cell_type": "markdown",
   "metadata": {},
   "source": [
    "For the prediction accuracy of different Pokemon types, the best set of features are shown below:"
   ]
  },
  {
   "cell_type": "code",
   "execution_count": null,
   "metadata": {
    "ExecuteTime": {
     "start_time": "2020-08-11T16:01:02.047Z"
    }
   },
   "outputs": [],
   "source": [
    "df_prim_bal_types = pd.DataFrame()\n",
    "df_prim_bal_types['All Features'] = df_acc_prim_bal_types['Test Accuracy']\n",
    "df_prim_bal_types['Color Features'] = df_acc_prim_bal_color_types['Test Accuracy']\n",
    "df_prim_bal_types['Size Features'] = df_acc_prim_bal_size_types['Test Accuracy']\n",
    "# df_acc_sec_size_gen\n",
    "df_prim_bal_types['Best set of features'] = df_prim_bal_types.idxmax(axis=1)\n",
    "df_prim_bal_types.loc[df_prim_bal_types[['All Features', 'Color Features', 'Size Features']].sum(axis=1)==0, 'Best set of features'] = 'None of the above'\n",
    "\n",
    "df_prim_bal_types['Primary Type'] = df_prim_bal_types.index\n",
    "df_prim_bal_types.set_index('Primary Type', inplace=True)\n",
    "df_prim_bal_types"
   ]
  },
  {
   "cell_type": "markdown",
   "metadata": {},
   "source": [
    "Now that the dataset is balanced, our analysis will be more complete since the accuracies will not be biased towards types with higher population. It is noticeable how the best features are mostly All Features with the exception of bug types which is more predictable with only the size features. Note that the most predictable types are water, fire, and grass, mainly due to the color features."
   ]
  },
  {
   "cell_type": "code",
   "execution_count": null,
   "metadata": {
    "ExecuteTime": {
     "start_time": "2020-08-11T16:01:02.055Z"
    }
   },
   "outputs": [],
   "source": [
    "df_prim_bal_gen = pd.DataFrame()\n",
    "df_prim_bal_gen['All Features'] = df_acc_prim_bal_gen['Test Accuracy']\n",
    "df_prim_bal_gen['Color Features'] = df_acc_prim_bal_color_gen['Test Accuracy']\n",
    "df_prim_bal_gen['Size Features'] = df_acc_prim_bal_size_gen['Test Accuracy']\n",
    "# df_acc_sec_size_gen\n",
    "df_prim_bal_gen['Best set of features'] = df_prim_bal_gen.idxmax(axis=1)\n",
    "df_prim_bal_gen.loc[df_prim_bal_gen[['All Features', 'Color Features', 'Size Features']].sum(axis=1)==0, 'Best set of features'] = 'None of the above'\n",
    "\n",
    "df_prim_bal_gen['Generation'] = df_prim_bal_gen.index\n",
    "df_prim_bal_gen.set_index('Generation', inplace=True)\n",
    "df_prim_bal_gen"
   ]
  },
  {
   "cell_type": "markdown",
   "metadata": {},
   "source": [
    "For different generations, it can be seen that, again, All Features generally yield high accuracy except for Gen I and Gen III where color features are better predictors."
   ]
  },
  {
   "cell_type": "code",
   "execution_count": null,
   "metadata": {
    "ExecuteTime": {
     "start_time": "2020-08-11T16:01:02.062Z"
    }
   },
   "outputs": [],
   "source": [
    "df_sec_bal_types = pd.DataFrame()\n",
    "df_sec_bal_types['All Features'] = df_acc_sec_bal_types['Test Accuracy']\n",
    "df_sec_bal_types['Color Features'] = df_acc_sec_bal_color_types['Test Accuracy']\n",
    "df_sec_bal_types['Size Features'] = df_acc_sec_bal_size_types['Test Accuracy']\n",
    "# df_acc_sec_bal_size_gen\n",
    "df_sec_bal_types['Best set of features'] = df_sec_bal_types.idxmax(axis=1)\n",
    "df_sec_bal_types.loc[df_sec_bal_types[['All Features', 'Color Features', 'Size Features']].sum(axis=1)==0, 'Best set of features'] = 'None of the above'\n",
    "\n",
    "\n",
    "df_sec_bal_types['Secondary Type'] = df_sec_bal_types.index\n",
    "df_sec_bal_types.set_index('Secondary Type', inplace=True)\n",
    "df_sec_bal_types"
   ]
  },
  {
   "cell_type": "markdown",
   "metadata": {},
   "source": [
    "For the secondary types, it is noteworthy how Flying types are the ones that are very predictable with grass and poison being next. The flying types are predictable due to the combination of the features while grass and poison are due to their color features."
   ]
  },
  {
   "cell_type": "code",
   "execution_count": null,
   "metadata": {
    "ExecuteTime": {
     "start_time": "2020-08-11T16:01:02.071Z"
    }
   },
   "outputs": [],
   "source": [
    "df_sec_bal_gen = pd.DataFrame()\n",
    "df_sec_bal_gen['All Features'] = df_acc_sec_bal_gen['Test Accuracy']\n",
    "df_sec_bal_gen['Color Features'] = df_acc_sec_bal_color_gen['Test Accuracy']\n",
    "df_sec_bal_gen['Size Features'] = df_acc_sec_bal_size_gen['Test Accuracy']\n",
    "# df_acc_sec_bal_size_gen\n",
    "df_sec_bal_gen['Best set of features'] = df_sec_bal_gen.idxmax(axis=1)\n",
    "df_sec_bal_gen.loc[df_sec_bal_gen[['All Features', 'Color Features', 'Size Features']].sum(axis=1)==0, 'Best set of features'] = 'None of the above'\n",
    "\n",
    "\n",
    "df_sec_bal_gen['Generation'] = df_sec_bal_gen.index\n",
    "df_sec_bal_gen.set_index('Generation', inplace=True)\n",
    "df_sec_bal_gen"
   ]
  },
  {
   "cell_type": "markdown",
   "metadata": {},
   "source": [
    "For the different generations, again, it is consistent how the predictability of a type is a combination of the color feature and the size feature."
   ]
  },
  {
   "cell_type": "markdown",
   "metadata": {},
   "source": [
    "In the end, what can be observed is that the generation only has minimal effect on the predictability of the Pokemon types, regardless of primary or secondary. On the other hand, there are Pokemon types that are more dependent on the color features like water, fire, and grass while there are those that are more dependent on size features like bug and flying."
   ]
  },
  {
   "cell_type": "markdown",
   "metadata": {},
   "source": [
    "<a id=\"conclusion\"></a>\n",
    "\n",
    "# Conclusion\n",
    "\n",
    "Images are a treasure trove of data. However, this also necessitates a computational capability to process this large data. As such, depending on the purposes of classification, it may be sufficient to compare extracted features from the image rather than the pixels, drastically reducing the number of features in the model. Case in point is the Pokemon dataset where if we are only to classify Fire, Water, or Grass, it is sufficient to use color features. This finding extends to other kinds of dataset that has too many features, wherein summary statistics may be enough as features. This leads to better interpretability and faster runtime while only sacrificing a little accuracy.\n",
    "\n",
    "Another finding is different combination of features yields to different accuracies. Increasing the features can only introduce noise, thereby decreasing accuracy. That is, more features does not translate to higher accuracy.\n",
    "\n",
    "Breaking down the accuracies to the different classes can give you an idea whether some features are still needed, or more specifically, whether the features can only predict certain classes.\n",
    "\n",
    "In order to improve the results, the data must be increased through oversampling (SMOTE) or by generating new images through image manipulation techniques. Another recommendation is to use other color spaces aside from RGB like HSV."
   ]
  },
  {
   "cell_type": "markdown",
   "metadata": {},
   "source": [
    "\n",
    "<a id=\"ref\"></a>\n",
    "# References\n",
    "\n",
    "1. https://www.kaggle.com/vishalsubbiah/pokemon-images-and-types#images.zip\n",
    "2. https://bulbapedia.bulbagarden.net/\n",
    "\n",
    "\n",
    "<a id=\"ack\"></a>\n",
    "# Acknowledgement\n",
    "\n",
    "I would like to acknowledge:\n",
    "- Vishal Subbiah for the Pokemon Images dataset in Kaggle.\n",
    "- LT13 for the help during the project\n",
    "- MSDS professors and classmates"
   ]
  },
  {
   "cell_type": "markdown",
   "metadata": {},
   "source": [
    "<a id=\"appendix\"></a>\n",
    "\n",
    "# Appendix\n",
    "\n",
    "## Generate some images\n",
    "The code below is for generating some of the images in the presentation"
   ]
  },
  {
   "cell_type": "code",
   "execution_count": null,
   "metadata": {
    "ExecuteTime": {
     "end_time": "2020-08-11T15:59:42.641525Z",
     "start_time": "2020-08-11T15:56:00.796Z"
    }
   },
   "outputs": [],
   "source": [
    "# im = Image.open(f'images/pikachu.png').convert('RGBA')\n",
    "# im_arr = np.array(im)\n",
    "\n",
    "# plt.figure()\n",
    "# plt.imshow(im_arr[:,:,0], cmap='Reds')\n",
    "# plt.axis('off')\n",
    "# # plt.savefig('red_pikachu.png', dpi=300, bbox_inches='tight')\n",
    "# plt.close()\n",
    "# plt.figure()\n",
    "# plt.imshow(im_arr[:,:,1], cmap='Greens')\n",
    "# plt.axis('off')\n",
    "# # plt.savefig('green_pikachu.png', dpi=300, bbox_inches='tight')\n",
    "# plt.close()\n",
    "# plt.figure()\n",
    "# plt.imshow(im_arr[:,:,2], cmap='Blues')\n",
    "# plt.axis('off')\n",
    "# # plt.savefig('blue_pikachu.png', dpi=300, bbox_inches='tight')\n",
    "# plt.close()\n",
    "# plt.figure()\n",
    "# plt.imshow(im_arr)\n",
    "# plt.axis('off')\n",
    "# # plt.savefig('pikachu.png', dpi=300, bbox_inches='tight')\n",
    "# # plt.close()"
   ]
  }
 ],
 "metadata": {
  "kernelspec": {
   "display_name": "Python 3",
   "language": "python",
   "name": "python3"
  },
  "language_info": {
   "codemirror_mode": {
    "name": "ipython",
    "version": 3
   },
   "file_extension": ".py",
   "mimetype": "text/x-python",
   "name": "python",
   "nbconvert_exporter": "python",
   "pygments_lexer": "ipython3",
   "version": "3.7.5"
  },
  "toc": {
   "base_numbering": 1,
   "nav_menu": {},
   "number_sections": false,
   "sideBar": true,
   "skip_h1_title": false,
   "title_cell": "Table of Contents",
   "title_sidebar": "Contents",
   "toc_cell": false,
   "toc_position": {},
   "toc_section_display": true,
   "toc_window_display": true
  },
  "varInspector": {
   "cols": {
    "lenName": 16,
    "lenType": 16,
    "lenVar": 40
   },
   "kernels_config": {
    "python": {
     "delete_cmd_postfix": "",
     "delete_cmd_prefix": "del ",
     "library": "var_list.py",
     "varRefreshCmd": "print(var_dic_list())"
    },
    "r": {
     "delete_cmd_postfix": ") ",
     "delete_cmd_prefix": "rm(",
     "library": "var_list.r",
     "varRefreshCmd": "cat(var_dic_list()) "
    }
   },
   "types_to_exclude": [
    "module",
    "function",
    "builtin_function_or_method",
    "instance",
    "_Feature"
   ],
   "window_display": false
  }
 },
 "nbformat": 4,
 "nbformat_minor": 2
}
